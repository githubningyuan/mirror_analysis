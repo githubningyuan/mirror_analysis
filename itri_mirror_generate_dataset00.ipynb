{
 "cells": [
  {
   "cell_type": "code",
   "execution_count": 1,
   "metadata": {
    "collapsed": false
   },
   "outputs": [
    {
     "name": "stdout",
     "output_type": "stream",
     "text": [
      "Using matplotlib backend: Qt4Agg\n"
     ]
    }
   ],
   "source": [
    "% matplotlib"
   ]
  },
  {
   "cell_type": "code",
   "execution_count": 2,
   "metadata": {
    "collapsed": true
   },
   "outputs": [],
   "source": [
    "import pandas as pd\n",
    "import numpy as np\n",
    "import csv\n",
    "import matplotlib.pyplot as plt\n",
    "import datetime\n",
    "import time\n",
    "from datetime import datetime, date"
   ]
  },
  {
   "cell_type": "code",
   "execution_count": 6,
   "metadata": {
    "collapsed": false
   },
   "outputs": [
    {
     "data": {
      "text/plain": [
       "[u'7\\u6708', u'9\\u6708']"
      ]
     },
     "execution_count": 6,
     "metadata": {},
     "output_type": "execute_result"
    }
   ],
   "source": [
    "import xlrd\n",
    "#import xlwt\n",
    "workbook = xlrd.open_workbook('month_09.xlsx')\n",
    "workbook.sheet_names()"
   ]
  },
  {
   "cell_type": "markdown",
   "metadata": {},
   "source": [
    "### 把每個worksheet存成dataframe:"
   ]
  },
  {
   "cell_type": "code",
   "execution_count": 8,
   "metadata": {
    "collapsed": false
   },
   "outputs": [],
   "source": [
    "xlsx = pd.ExcelFile('month_09.xlsx')\n",
    "## u'7\\u6708'='7月',  u'9\\u6708' ='9月'\n",
    "df1 = xlsx.parse(u'7\\u6708')\n",
    "df2 = xlsx.parse(u'9\\u6708')"
   ]
  },
  {
   "cell_type": "markdown",
   "metadata": {},
   "source": [
    "### df2 的摘要："
   ]
  },
  {
   "cell_type": "code",
   "execution_count": 9,
   "metadata": {
    "collapsed": false
   },
   "outputs": [],
   "source": [
    "#print(df2.columns)  \n",
    "#print(df2[1][:40])  ## row_10~row_39為一組數據，共30筆\n",
    "#print(df2[88][:2])  ## col_01~col_88對應88組數據。"
   ]
  },
  {
   "cell_type": "markdown",
   "metadata": {},
   "source": [
    "### 建立9月dataframe：df"
   ]
  },
  {
   "cell_type": "code",
   "execution_count": 11,
   "metadata": {
    "collapsed": false
   },
   "outputs": [],
   "source": [
    "## 共15個特徵：\n",
    "## group:第幾組  data:紀錄年/月/日  time:紀錄時/分/秒   piece:第幾片  posi:鏡片上位置\n",
    "## speed:輸送帶速率   env_temp:環境溫度   env_wet:環境濕度  T1~T5:各烤爐溫感器紀錄\n",
    "## radius:鏡片半徑   category:鏡片類別\n",
    "columns = ['group','date','time','piece','posi','speed','env_temp','env_wet','T1','T2',\n",
    "           'T3','T4','T5','radius', 'category']\n",
    "## 9月紀錄22天 每天紀錄4次  每次量測5片(每片6個位置)\n",
    "df = pd.DataFrame(np.array(np.zeros([22*4*30,15])), columns=columns)\n",
    "df.index = list(range(22*4*30))"
   ]
  },
  {
   "cell_type": "code",
   "execution_count": 17,
   "metadata": {
    "collapsed": false
   },
   "outputs": [],
   "source": [
    "for i in range(88):\n",
    "    df.radius[i*30:(i+1)*30]= df2[i+1][10:40]\n",
    "#    df.group[i*30:(i+1)*30]= i+1\n",
    "#    df.date[i*30:(i+1)*30]= df2[i+1][0]\n",
    "#    df.time[i*30:(i+1)*30]= df2[i+1][1]\n",
    "    df.speed[i*30:(i+1)*30]= df2[i+1][2]\n",
    "    df.env_temp[i*30:(i+1)*30]= df2[i+1][3]\n",
    "    df.env_wet[i*30:(i+1)*30]= df2[i+1][4]\n",
    "    df.T1[i*30:(i+1)*30]= df2[i+1][5]\n",
    "    df.T2[i*30:(i+1)*30]= df2[i+1][6]\n",
    "    df.T3[i*30:(i+1)*30]= df2[i+1][7]\n",
    "    df.T4[i*30:(i+1)*30]= df2[i+1][8]\n",
    "    df.T5[i*30:(i+1)*30]= df2[i+1][9]\n",
    "#    if i%4 ==0:\n",
    "#        print(i)\n",
    "#for k in range(2640):        \n",
    "#    df.piece[k]= ((k)//6 )%5 +1\n",
    "#    df.posi[k]= k%6 + 1\n",
    "#    if k%120 ==0:\n",
    "#        print(k)"
   ]
  },
  {
   "cell_type": "code",
   "execution_count": 19,
   "metadata": {
    "collapsed": false
   },
   "outputs": [],
   "source": [
    "for k in range(2640):        \n",
    "    if df.radius[k] < 400:\n",
    "        df.category[k] = 0\n",
    "    elif df.radius[k]>=400 and  df.radius[k]<800:\n",
    "        df.category[k] = 1\n",
    "    elif df.radius[k]>800:\n",
    "        df.category[k] = 2\n",
    "#    if k%120==0:\n",
    "#        print(k)"
   ]
  },
  {
   "cell_type": "markdown",
   "metadata": {
    "collapsed": true
   },
   "source": [
    "### df 的摘要："
   ]
  },
  {
   "cell_type": "code",
   "execution_count": 14,
   "metadata": {
    "collapsed": false
   },
   "outputs": [],
   "source": [
    "#print(len(df))\n",
    "#print(df.columns)\n",
    "#print(len(df.columns))"
   ]
  },
  {
   "cell_type": "markdown",
   "metadata": {},
   "source": [
    "### 儲存dataframe為csv檔："
   ]
  },
  {
   "cell_type": "code",
   "execution_count": 43,
   "metadata": {
    "collapsed": true
   },
   "outputs": [],
   "source": [
    "df.to_csv('cleaned_df.csv')"
   ]
  },
  {
   "cell_type": "code",
   "execution_count": null,
   "metadata": {
    "collapsed": true
   },
   "outputs": [],
   "source": []
  },
  {
   "cell_type": "code",
   "execution_count": null,
   "metadata": {
    "collapsed": true
   },
   "outputs": [],
   "source": []
  }
 ],
 "metadata": {
  "anaconda-cloud": {},
  "kernelspec": {
   "display_name": "Python [Root]",
   "language": "python",
   "name": "Python [Root]"
  },
  "language_info": {
   "codemirror_mode": {
    "name": "ipython",
    "version": 2
   },
   "file_extension": ".py",
   "mimetype": "text/x-python",
   "name": "python",
   "nbconvert_exporter": "python",
   "pygments_lexer": "ipython2",
   "version": "2.7.12"
  }
 },
 "nbformat": 4,
 "nbformat_minor": 1
}
