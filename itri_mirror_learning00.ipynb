{
 "cells": [
  {
   "cell_type": "code",
   "execution_count": 11,
   "metadata": {
    "collapsed": false
   },
   "outputs": [
    {
     "name": "stdout",
     "output_type": "stream",
     "text": [
      "Using matplotlib backend: Qt5Agg\n"
     ]
    }
   ],
   "source": [
    "% matplotlib "
   ]
  },
  {
   "cell_type": "code",
   "execution_count": 12,
   "metadata": {
    "collapsed": true
   },
   "outputs": [],
   "source": [
    "% matplotlib inline"
   ]
  },
  {
   "cell_type": "code",
   "execution_count": 2,
   "metadata": {
    "collapsed": true
   },
   "outputs": [],
   "source": [
    "import pandas as pd\n",
    "import numpy as np\n",
    "import csv\n",
    "import matplotlib.pyplot as plt\n",
    "import datetime\n",
    "import time\n",
    "from datetime import datetime, date"
   ]
  },
  {
   "cell_type": "code",
   "execution_count": 20,
   "metadata": {
    "collapsed": true
   },
   "outputs": [],
   "source": [
    "from sklearn.linear_model import LogisticRegression, SGDClassifier\n",
    "from sklearn.svm import  SVC\n",
    "from sklearn.metrics import accuracy_score, classification_report\n",
    "\n",
    "from sklearn.linear_model import LinearRegression, SGDRegressor\n",
    "from sklearn.ensemble import RandomForestRegressor\n",
    "from sklearn.svm import  SVR\n",
    "from sklearn.metrics import r2_score, mean_squared_error, mean_absolute_error\n",
    "\n",
    "from sklearn.cross_validation import train_test_split, cross_val_score\n",
    "from sklearn.preprocessing import StandardScaler\n",
    "#from sklearn.feature_extraction import DictVectorizer\n",
    "#from sklearn.grid_search import GridSearchCV "
   ]
  },
  {
   "cell_type": "markdown",
   "metadata": {},
   "source": [
    "### 讀取csv檔："
   ]
  },
  {
   "cell_type": "code",
   "execution_count": 326,
   "metadata": {
    "collapsed": true
   },
   "outputs": [],
   "source": [
    "dataset = pd.read_csv('1127.csv')"
   ]
  },
  {
   "cell_type": "code",
   "execution_count": 327,
   "metadata": {
    "collapsed": false
   },
   "outputs": [
    {
     "data": {
      "text/plain": [
       "Index(['x', 'R', 'T1', 'T2', 'T3', 'T4', 'T5', 'speed', 'env_T', 'env_hum',\n",
       "       'set_T1', 'set_T2', 'set_T3', 'set_T4', 'set_T5', 'piece', 'position',\n",
       "       'time', 'ok'],\n",
       "      dtype='object')"
      ]
     },
     "execution_count": 327,
     "metadata": {},
     "output_type": "execute_result"
    }
   ],
   "source": [
    "dataset.columns"
   ]
  },
  {
   "cell_type": "code",
   "execution_count": 328,
   "metadata": {
    "collapsed": true
   },
   "outputs": [],
   "source": [
    "c320 = 19.05\n",
    "dataset['R'] = (c320**2 + dataset['x']**2)/(2*dataset['x'])"
   ]
  },
  {
   "cell_type": "code",
   "execution_count": 329,
   "metadata": {
    "collapsed": false
   },
   "outputs": [
    {
     "data": {
      "text/html": [
       "<div>\n",
       "<table border=\"1\" class=\"dataframe\">\n",
       "  <thead>\n",
       "    <tr style=\"text-align: right;\">\n",
       "      <th></th>\n",
       "      <th>x</th>\n",
       "      <th>R</th>\n",
       "      <th>T1</th>\n",
       "      <th>T2</th>\n",
       "      <th>T3</th>\n",
       "      <th>T4</th>\n",
       "      <th>T5</th>\n",
       "      <th>speed</th>\n",
       "      <th>env_T</th>\n",
       "      <th>env_hum</th>\n",
       "      <th>set_T1</th>\n",
       "      <th>set_T2</th>\n",
       "      <th>set_T3</th>\n",
       "      <th>set_T4</th>\n",
       "      <th>set_T5</th>\n",
       "      <th>piece</th>\n",
       "      <th>position</th>\n",
       "      <th>time</th>\n",
       "      <th>ok</th>\n",
       "    </tr>\n",
       "  </thead>\n",
       "  <tbody>\n",
       "    <tr>\n",
       "      <th>0</th>\n",
       "      <td>0.572</td>\n",
       "      <td>317.508465</td>\n",
       "      <td>580</td>\n",
       "      <td>736</td>\n",
       "      <td>722</td>\n",
       "      <td>621</td>\n",
       "      <td>488</td>\n",
       "      <td>32.34</td>\n",
       "      <td>29</td>\n",
       "      <td>13</td>\n",
       "      <td>750</td>\n",
       "      <td>735</td>\n",
       "      <td>722</td>\n",
       "      <td>621</td>\n",
       "      <td>500</td>\n",
       "      <td>1</td>\n",
       "      <td>1</td>\n",
       "      <td>2017/11/27 11:45</td>\n",
       "      <td>1</td>\n",
       "    </tr>\n",
       "  </tbody>\n",
       "</table>\n",
       "</div>"
      ],
      "text/plain": [
       "       x           R   T1   T2   T3   T4   T5  speed  env_T  env_hum  set_T1  \\\n",
       "0  0.572  317.508465  580  736  722  621  488  32.34     29       13     750   \n",
       "\n",
       "   set_T2  set_T3  set_T4  set_T5  piece  position              time  ok  \n",
       "0     735     722     621     500      1         1  2017/11/27 11:45   1  "
      ]
     },
     "execution_count": 329,
     "metadata": {},
     "output_type": "execute_result"
    }
   ],
   "source": [
    "dataset.head(1)"
   ]
  },
  {
   "cell_type": "markdown",
   "metadata": {},
   "source": [
    "### 選擇任務範圍:"
   ]
  },
  {
   "cell_type": "code",
   "execution_count": 330,
   "metadata": {
    "collapsed": true
   },
   "outputs": [],
   "source": [
    "dataset = dataset.drop(['x','time','set_T1', 'set_T2', 'set_T3', 'set_T4', 'set_T5'\n",
    "                       ], axis = 1)"
   ]
  },
  {
   "cell_type": "code",
   "execution_count": 331,
   "metadata": {
    "collapsed": false
   },
   "outputs": [
    {
     "data": {
      "text/plain": [
       "Index(['R', 'T1', 'T2', 'T3', 'T4', 'T5', 'speed', 'env_T', 'env_hum', 'piece',\n",
       "       'position', 'ok'],\n",
       "      dtype='object')"
      ]
     },
     "execution_count": 331,
     "metadata": {},
     "output_type": "execute_result"
    }
   ],
   "source": [
    "dataset.columns"
   ]
  },
  {
   "cell_type": "code",
   "execution_count": 332,
   "metadata": {
    "collapsed": false
   },
   "outputs": [
    {
     "data": {
      "text/html": [
       "<div>\n",
       "<table border=\"1\" class=\"dataframe\">\n",
       "  <thead>\n",
       "    <tr style=\"text-align: right;\">\n",
       "      <th></th>\n",
       "      <th>R</th>\n",
       "      <th>T1</th>\n",
       "      <th>T2</th>\n",
       "      <th>T3</th>\n",
       "      <th>T4</th>\n",
       "      <th>T5</th>\n",
       "      <th>speed</th>\n",
       "      <th>env_T</th>\n",
       "      <th>env_hum</th>\n",
       "      <th>piece</th>\n",
       "      <th>position</th>\n",
       "      <th>ok</th>\n",
       "    </tr>\n",
       "  </thead>\n",
       "  <tbody>\n",
       "    <tr>\n",
       "      <th>0</th>\n",
       "      <td>317.508465</td>\n",
       "      <td>580</td>\n",
       "      <td>736</td>\n",
       "      <td>722</td>\n",
       "      <td>621</td>\n",
       "      <td>488</td>\n",
       "      <td>32.34</td>\n",
       "      <td>29</td>\n",
       "      <td>13</td>\n",
       "      <td>1</td>\n",
       "      <td>1</td>\n",
       "      <td>1</td>\n",
       "    </tr>\n",
       "  </tbody>\n",
       "</table>\n",
       "</div>"
      ],
      "text/plain": [
       "            R   T1   T2   T3   T4   T5  speed  env_T  env_hum  piece  \\\n",
       "0  317.508465  580  736  722  621  488  32.34     29       13      1   \n",
       "\n",
       "   position  ok  \n",
       "0         1   1  "
      ]
     },
     "execution_count": 332,
     "metadata": {},
     "output_type": "execute_result"
    }
   ],
   "source": [
    "dataset.head(1)"
   ]
  },
  {
   "cell_type": "code",
   "execution_count": 333,
   "metadata": {
    "collapsed": false
   },
   "outputs": [
    {
     "data": {
      "text/plain": [
       "336"
      ]
     },
     "execution_count": 333,
     "metadata": {},
     "output_type": "execute_result"
    }
   ],
   "source": [
    "len(dataset)"
   ]
  },
  {
   "cell_type": "code",
   "execution_count": null,
   "metadata": {
    "collapsed": true
   },
   "outputs": [],
   "source": []
  },
  {
   "cell_type": "code",
   "execution_count": null,
   "metadata": {
    "collapsed": true
   },
   "outputs": [],
   "source": []
  },
  {
   "cell_type": "code",
   "execution_count": 334,
   "metadata": {
    "collapsed": false
   },
   "outputs": [],
   "source": [
    "data_ok = dataset[dataset['ok']==1]\n",
    "data_ok = data_ok[data_ok['speed']<30 ]"
   ]
  },
  {
   "cell_type": "code",
   "execution_count": 335,
   "metadata": {
    "collapsed": false
   },
   "outputs": [
    {
     "data": {
      "text/plain": [
       "R           327.806332\n",
       "T1          632.000000\n",
       "T2          690.000000\n",
       "T3          683.000000\n",
       "T4          593.000000\n",
       "T5          441.000000\n",
       "speed        22.380000\n",
       "env_T        26.000000\n",
       "env_hum      14.000000\n",
       "piece         2.000000\n",
       "position      1.000000\n",
       "ok            1.000000\n",
       "Name: 192, dtype: float64"
      ]
     },
     "execution_count": 335,
     "metadata": {},
     "output_type": "execute_result"
    }
   ],
   "source": [
    "data_ok.loc[data_ok.index[0]] "
   ]
  },
  {
   "cell_type": "code",
   "execution_count": 336,
   "metadata": {
    "collapsed": true
   },
   "outputs": [],
   "source": [
    "columns = ['R', 'T1', 'T2', 'T3', 'T4', 'T5', 'speed', 'env_T', 'env_hum', 'piece',\n",
    "       'position', 'ok']\n",
    "df = pd.DataFrame(np.array(np.zeros([24*2,12])), columns=columns)\n",
    "df.index = list(range(24*2))"
   ]
  },
  {
   "cell_type": "code",
   "execution_count": 214,
   "metadata": {
    "collapsed": false
   },
   "outputs": [
    {
     "ename": "SyntaxError",
     "evalue": "unexpected EOF while parsing (<ipython-input-214-af3990adb3d7>, line 2)",
     "output_type": "error",
     "traceback": [
      "\u001b[0;36m  File \u001b[0;32m\"<ipython-input-214-af3990adb3d7>\"\u001b[0;36m, line \u001b[0;32m2\u001b[0m\n\u001b[0;31m    #    print(i)\u001b[0m\n\u001b[0m                 ^\u001b[0m\n\u001b[0;31mSyntaxError\u001b[0m\u001b[0;31m:\u001b[0m unexpected EOF while parsing\n"
     ]
    }
   ],
   "source": [
    "for i in range(24):\n",
    "    data_ok.loc[2+] \n",
    "    df.T1[3+6*i]= df2[i+1][5]"
   ]
  },
  {
   "cell_type": "code",
   "execution_count": null,
   "metadata": {
    "collapsed": true
   },
   "outputs": [],
   "source": []
  },
  {
   "cell_type": "code",
   "execution_count": 337,
   "metadata": {
    "collapsed": false
   },
   "outputs": [
    {
     "data": {
      "text/html": [
       "<div>\n",
       "<table border=\"1\" class=\"dataframe\">\n",
       "  <thead>\n",
       "    <tr style=\"text-align: right;\">\n",
       "      <th></th>\n",
       "      <th>R</th>\n",
       "      <th>T1</th>\n",
       "      <th>T2</th>\n",
       "      <th>T3</th>\n",
       "      <th>T4</th>\n",
       "      <th>T5</th>\n",
       "      <th>speed</th>\n",
       "      <th>env_T</th>\n",
       "      <th>env_hum</th>\n",
       "      <th>piece</th>\n",
       "      <th>position</th>\n",
       "      <th>ok</th>\n",
       "    </tr>\n",
       "  </thead>\n",
       "  <tbody>\n",
       "    <tr>\n",
       "      <th>count</th>\n",
       "      <td>120.000000</td>\n",
       "      <td>120.000000</td>\n",
       "      <td>120.000000</td>\n",
       "      <td>120.000000</td>\n",
       "      <td>120.000000</td>\n",
       "      <td>120.000000</td>\n",
       "      <td>1.200000e+02</td>\n",
       "      <td>120.000000</td>\n",
       "      <td>120.000000</td>\n",
       "      <td>120.000000</td>\n",
       "      <td>120.000000</td>\n",
       "      <td>120.0</td>\n",
       "    </tr>\n",
       "    <tr>\n",
       "      <th>mean</th>\n",
       "      <td>325.188492</td>\n",
       "      <td>626.000000</td>\n",
       "      <td>722.250000</td>\n",
       "      <td>712.250000</td>\n",
       "      <td>614.000000</td>\n",
       "      <td>450.450000</td>\n",
       "      <td>2.238000e+01</td>\n",
       "      <td>26.300000</td>\n",
       "      <td>14.300000</td>\n",
       "      <td>3.000000</td>\n",
       "      <td>3.500000</td>\n",
       "      <td>1.0</td>\n",
       "    </tr>\n",
       "    <tr>\n",
       "      <th>std</th>\n",
       "      <td>7.706089</td>\n",
       "      <td>12.875617</td>\n",
       "      <td>19.018456</td>\n",
       "      <td>16.958303</td>\n",
       "      <td>12.175192</td>\n",
       "      <td>5.658117</td>\n",
       "      <td>6.778459e-14</td>\n",
       "      <td>0.460179</td>\n",
       "      <td>0.460179</td>\n",
       "      <td>2.289912</td>\n",
       "      <td>1.714986</td>\n",
       "      <td>0.0</td>\n",
       "    </tr>\n",
       "    <tr>\n",
       "      <th>min</th>\n",
       "      <td>311.528636</td>\n",
       "      <td>598.000000</td>\n",
       "      <td>690.000000</td>\n",
       "      <td>683.000000</td>\n",
       "      <td>593.000000</td>\n",
       "      <td>441.000000</td>\n",
       "      <td>2.238000e+01</td>\n",
       "      <td>26.000000</td>\n",
       "      <td>14.000000</td>\n",
       "      <td>1.000000</td>\n",
       "      <td>1.000000</td>\n",
       "      <td>1.0</td>\n",
       "    </tr>\n",
       "    <tr>\n",
       "      <th>25%</th>\n",
       "      <td>319.179491</td>\n",
       "      <td>620.000000</td>\n",
       "      <td>716.250000</td>\n",
       "      <td>712.250000</td>\n",
       "      <td>614.000000</td>\n",
       "      <td>448.500000</td>\n",
       "      <td>2.238000e+01</td>\n",
       "      <td>26.000000</td>\n",
       "      <td>14.000000</td>\n",
       "      <td>1.750000</td>\n",
       "      <td>2.000000</td>\n",
       "      <td>1.0</td>\n",
       "    </tr>\n",
       "    <tr>\n",
       "      <th>50%</th>\n",
       "      <td>323.723013</td>\n",
       "      <td>632.000000</td>\n",
       "      <td>735.000000</td>\n",
       "      <td>722.000000</td>\n",
       "      <td>621.000000</td>\n",
       "      <td>453.000000</td>\n",
       "      <td>2.238000e+01</td>\n",
       "      <td>26.000000</td>\n",
       "      <td>14.000000</td>\n",
       "      <td>2.000000</td>\n",
       "      <td>3.500000</td>\n",
       "      <td>1.0</td>\n",
       "    </tr>\n",
       "    <tr>\n",
       "      <th>75%</th>\n",
       "      <td>330.186364</td>\n",
       "      <td>636.000000</td>\n",
       "      <td>735.000000</td>\n",
       "      <td>722.000000</td>\n",
       "      <td>621.000000</td>\n",
       "      <td>454.000000</td>\n",
       "      <td>2.238000e+01</td>\n",
       "      <td>27.000000</td>\n",
       "      <td>15.000000</td>\n",
       "      <td>3.000000</td>\n",
       "      <td>5.000000</td>\n",
       "      <td>1.0</td>\n",
       "    </tr>\n",
       "    <tr>\n",
       "      <th>max</th>\n",
       "      <td>343.921670</td>\n",
       "      <td>636.000000</td>\n",
       "      <td>735.000000</td>\n",
       "      <td>722.000000</td>\n",
       "      <td>621.000000</td>\n",
       "      <td>456.000000</td>\n",
       "      <td>2.238000e+01</td>\n",
       "      <td>27.000000</td>\n",
       "      <td>15.000000</td>\n",
       "      <td>9.000000</td>\n",
       "      <td>6.000000</td>\n",
       "      <td>1.0</td>\n",
       "    </tr>\n",
       "  </tbody>\n",
       "</table>\n",
       "</div>"
      ],
      "text/plain": [
       "                R          T1          T2          T3          T4          T5  \\\n",
       "count  120.000000  120.000000  120.000000  120.000000  120.000000  120.000000   \n",
       "mean   325.188492  626.000000  722.250000  712.250000  614.000000  450.450000   \n",
       "std      7.706089   12.875617   19.018456   16.958303   12.175192    5.658117   \n",
       "min    311.528636  598.000000  690.000000  683.000000  593.000000  441.000000   \n",
       "25%    319.179491  620.000000  716.250000  712.250000  614.000000  448.500000   \n",
       "50%    323.723013  632.000000  735.000000  722.000000  621.000000  453.000000   \n",
       "75%    330.186364  636.000000  735.000000  722.000000  621.000000  454.000000   \n",
       "max    343.921670  636.000000  735.000000  722.000000  621.000000  456.000000   \n",
       "\n",
       "              speed       env_T     env_hum       piece    position     ok  \n",
       "count  1.200000e+02  120.000000  120.000000  120.000000  120.000000  120.0  \n",
       "mean   2.238000e+01   26.300000   14.300000    3.000000    3.500000    1.0  \n",
       "std    6.778459e-14    0.460179    0.460179    2.289912    1.714986    0.0  \n",
       "min    2.238000e+01   26.000000   14.000000    1.000000    1.000000    1.0  \n",
       "25%    2.238000e+01   26.000000   14.000000    1.750000    2.000000    1.0  \n",
       "50%    2.238000e+01   26.000000   14.000000    2.000000    3.500000    1.0  \n",
       "75%    2.238000e+01   27.000000   15.000000    3.000000    5.000000    1.0  \n",
       "max    2.238000e+01   27.000000   15.000000    9.000000    6.000000    1.0  "
      ]
     },
     "execution_count": 337,
     "metadata": {},
     "output_type": "execute_result"
    }
   ],
   "source": [
    "data_ok.describe()"
   ]
  },
  {
   "cell_type": "code",
   "execution_count": null,
   "metadata": {
    "collapsed": true
   },
   "outputs": [],
   "source": []
  },
  {
   "cell_type": "code",
   "execution_count": null,
   "metadata": {
    "collapsed": true
   },
   "outputs": [],
   "source": []
  },
  {
   "cell_type": "code",
   "execution_count": 338,
   "metadata": {
    "collapsed": true
   },
   "outputs": [],
   "source": [
    "X_train, X_test, y_train, y_test = train_test_split(data_ok[data_ok.columns[1:9]],\n",
    "                     data_ok[data_ok.columns[0]],test_size=0.0,random_state=123)"
   ]
  },
  {
   "cell_type": "code",
   "execution_count": 210,
   "metadata": {
    "collapsed": true
   },
   "outputs": [],
   "source": [
    "#ss = StandardScaler()\n",
    "#X_train = ss.fit_transform(X_train)\n",
    "#X_test = ss.fit_transform(X_test)"
   ]
  },
  {
   "cell_type": "code",
   "execution_count": 339,
   "metadata": {
    "collapsed": false
   },
   "outputs": [
    {
     "data": {
      "text/plain": [
       "LinearRegression(copy_X=True, fit_intercept=True, n_jobs=1, normalize=False)"
      ]
     },
     "execution_count": 339,
     "metadata": {},
     "output_type": "execute_result"
    }
   ],
   "source": [
    "lr = LinearRegression()\n",
    "lr.fit(X_train, y_train)\n",
    "#lr_predict = lr.predict(X_test)"
   ]
  },
  {
   "cell_type": "code",
   "execution_count": 340,
   "metadata": {
    "collapsed": false
   },
   "outputs": [],
   "source": [
    "lr_train = lr.predict(X_train)"
   ]
  },
  {
   "cell_type": "code",
   "execution_count": 342,
   "metadata": {
    "collapsed": false
   },
   "outputs": [
    {
     "data": {
      "text/plain": [
       "0.035542204639614328"
      ]
     },
     "execution_count": 342,
     "metadata": {},
     "output_type": "execute_result"
    }
   ],
   "source": [
    "r2_score(y_train, lr_train) "
   ]
  },
  {
   "cell_type": "code",
   "execution_count": 388,
   "metadata": {
    "collapsed": false
   },
   "outputs": [
    {
     "data": {
      "text/plain": [
       "0.035542204639614994"
      ]
     },
     "execution_count": 388,
     "metadata": {},
     "output_type": "execute_result"
    }
   ],
   "source": [
    "mean = np.mean(data_ok['R'])\n",
    "AA = (y_train-lr_train)\n",
    "BB = (y_train-mean)\n",
    "1-np.mean(AA**2)/np.mean(BB**2)"
   ]
  },
  {
   "cell_type": "code",
   "execution_count": 377,
   "metadata": {
    "collapsed": true
   },
   "outputs": [],
   "source": [
    "columns = ['R', 'T1', 'T2', 'T3', 'T4', 'T5', 'speed', 'env_T', 'env_hum', 'piece',\n",
    "       'position', 'ok']\n",
    "df_save = pd.DataFrame(np.array(np.zeros([120,12])), columns=columns)\n",
    "df_save.index = list(range(120))"
   ]
  },
  {
   "cell_type": "code",
   "execution_count": 389,
   "metadata": {
    "collapsed": true
   },
   "outputs": [],
   "source": [
    "CC = AA-BB"
   ]
  },
  {
   "cell_type": "code",
   "execution_count": 390,
   "metadata": {
    "collapsed": false
   },
   "outputs": [
    {
     "data": {
      "text/plain": [
       "1.0705510552118843e-13"
      ]
     },
     "execution_count": 390,
     "metadata": {},
     "output_type": "execute_result"
    }
   ],
   "source": [
    "np.mean(AA)"
   ]
  },
  {
   "cell_type": "code",
   "execution_count": 391,
   "metadata": {
    "collapsed": false
   },
   "outputs": [
    {
     "data": {
      "text/plain": [
       "-1.2316074086508404e-14"
      ]
     },
     "execution_count": 391,
     "metadata": {},
     "output_type": "execute_result"
    }
   ],
   "source": [
    "np.mean(BB)"
   ]
  },
  {
   "cell_type": "code",
   "execution_count": null,
   "metadata": {
    "collapsed": true
   },
   "outputs": [],
   "source": []
  },
  {
   "cell_type": "code",
   "execution_count": 393,
   "metadata": {
    "collapsed": false
   },
   "outputs": [],
   "source": [
    "df_save = pd.concat([ AA,BB,CC], axis=1)"
   ]
  },
  {
   "cell_type": "code",
   "execution_count": 394,
   "metadata": {
    "collapsed": true
   },
   "outputs": [],
   "source": [
    "df_save.to_csv('df_save.csv')"
   ]
  },
  {
   "cell_type": "code",
   "execution_count": 398,
   "metadata": {
    "collapsed": false
   },
   "outputs": [
    {
     "data": {
      "text/plain": [
       "196    320.303341\n",
       "333    322.004074\n",
       "328    336.913749\n",
       "320    324.879232\n",
       "247    321.435155\n",
       "234    315.854891\n",
       "326    331.389420\n",
       "278    333.822092\n",
       "226    320.303341\n",
       "251    324.879232\n",
       "249    319.179491\n",
       "206    330.186364\n",
       "197    322.004074\n",
       "192    327.806332\n",
       "223    320.868247\n",
       "293    320.868247\n",
       "303    318.063521\n",
       "267    323.723013\n",
       "310    335.670223\n",
       "288    336.913749\n",
       "239    323.147993\n",
       "301    322.575017\n",
       "281    321.435155\n",
       "272    324.879232\n",
       "269    324.300089\n",
       "238    320.868247\n",
       "254    326.629169\n",
       "229    324.879232\n",
       "321    315.854891\n",
       "279    321.435155\n",
       "          ...    \n",
       "255    318.063521\n",
       "300    336.290833\n",
       "194    330.786795\n",
       "283    323.723013\n",
       "271    323.723013\n",
       "265    326.629169\n",
       "284    326.629169\n",
       "296    322.575017\n",
       "319    324.879232\n",
       "252    333.822092\n",
       "294    340.700365\n",
       "329    318.620526\n",
       "235    326.629169\n",
       "324    319.179491\n",
       "262    317.508465\n",
       "248    327.806332\n",
       "289    324.300089\n",
       "263    325.460452\n",
       "312    313.136983\n",
       "313    317.508465\n",
       "302    323.723013\n",
       "273    316.955348\n",
       "322    323.723013\n",
       "299    326.043760\n",
       "227    317.508465\n",
       "318    323.147993\n",
       "314    331.994250\n",
       "308    318.063521\n",
       "282    335.051904\n",
       "325    327.806332\n",
       "Name: R, dtype: float64"
      ]
     },
     "execution_count": 398,
     "metadata": {},
     "output_type": "execute_result"
    }
   ],
   "source": [
    "y_train"
   ]
  },
  {
   "cell_type": "code",
   "execution_count": null,
   "metadata": {
    "collapsed": true
   },
   "outputs": [],
   "source": []
  },
  {
   "cell_type": "code",
   "execution_count": 386,
   "metadata": {
    "collapsed": false,
    "scrolled": true
   },
   "outputs": [
    {
     "name": "stdout",
     "output_type": "stream",
     "text": [
      "      T1   T2   T3   T4   T5  speed  env_T  env_hum\n",
      "205  632  690  683  593  441  22.38     26       14\n",
      "207  632  690  683  593  441  22.38     26       14\n",
      "208  632  690  683  593  441  22.38     26       14\n",
      "209  632  690  683  593  441  22.38     26       14\n",
      "222  632  690  683  593  441  22.38     26       14\n",
      "224  632  690  683  593  441  22.38     26       14\n",
      "225  632  690  683  593  441  22.38     26       14\n",
      "227  632  690  683  593  441  22.38     26       14\n",
      "228  632  690  683  593  441  22.38     26       14\n",
      "230  632  690  683  593  441  22.38     26       14\n",
      "231  632  690  683  593  441  22.38     26       14\n",
      "234  632  690  683  593  441  22.38     26       14\n",
      "236  632  690  683  593  441  22.38     26       14\n",
      "237  632  690  683  593  441  22.38     26       14\n",
      "246  636  725  722  621  451  22.38     27       14\n",
      "250  636  725  722  621  451  22.38     27       14\n",
      "252  636  725  722  621  451  22.38     27       14\n",
      "258  636  725  722  621  451  22.38     27       14\n",
      "261  636  725  722  621  451  22.38     27       14\n",
      "262  636  725  722  621  451  22.38     27       14\n",
      "264  598  735  722  621  454  22.38     27       14\n",
      "268  598  735  722  621  454  22.38     27       14\n",
      "273  598  735  722  621  454  22.38     27       14\n",
      "274  598  735  722  621  454  22.38     27       14\n",
      "275  598  735  722  621  454  22.38     27       14\n",
      "276  598  735  722  621  454  22.38     27       14\n",
      "278  598  735  722  621  454  22.38     27       14\n",
      "286  636  735  722  621  456  22.38     26       15\n",
      "288  636  735  722  621  456  22.38     26       15\n",
      "293  636  735  722  621  456  22.38     26       15\n",
      "294  636  735  722  621  456  22.38     26       15\n",
      "295  636  735  722  621  456  22.38     26       15\n",
      "298  636  735  722  621  456  22.38     26       15\n",
      "300  630  735  722  621  453  22.38     26       15\n",
      "304  630  735  722  621  453  22.38     26       15\n",
      "310  630  735  722  621  453  22.38     26       15\n",
      "312  630  735  722  621  453  22.38     26       15\n",
      "314  630  735  722  621  453  22.38     26       15\n",
      "316  630  735  722  621  453  22.38     26       15\n",
      "321  620  735  722  621  454  22.38     26       14\n",
      "323  620  735  722  621  454  22.38     26       14\n",
      "326  620  735  722  621  454  22.38     26       14\n",
      "328  620  735  722  621  454  22.38     26       14\n",
      "330  620  735  722  621  454  22.38     26       14\n",
      "334  620  735  722  621  454  22.38     26       14\n",
      "77\n"
     ]
    }
   ],
   "source": [
    "print(X_train[abs(AA)>50].sort_index())\n",
    "#CC[abs(CC)>100].sort_values()\n",
    "print(len(X_train[abs(AA)>20]))"
   ]
  },
  {
   "cell_type": "code",
   "execution_count": null,
   "metadata": {
    "collapsed": true
   },
   "outputs": [],
   "source": []
  },
  {
   "cell_type": "code",
   "execution_count": null,
   "metadata": {
    "collapsed": true
   },
   "outputs": [],
   "source": []
  },
  {
   "cell_type": "code",
   "execution_count": 361,
   "metadata": {
    "collapsed": true
   },
   "outputs": [],
   "source": [
    "X_train, X_test, y_train, y_test = train_test_split(data_ok[data_ok.columns[1:9]],\n",
    "                     data_ok[data_ok.columns[0]],test_size=0.0,random_state=123)"
   ]
  },
  {
   "cell_type": "code",
   "execution_count": 362,
   "metadata": {
    "collapsed": false
   },
   "outputs": [
    {
     "data": {
      "text/plain": [
       "(120, 8)"
      ]
     },
     "execution_count": 362,
     "metadata": {},
     "output_type": "execute_result"
    }
   ],
   "source": [
    "(X_train).shape"
   ]
  },
  {
   "cell_type": "code",
   "execution_count": 367,
   "metadata": {
    "collapsed": false
   },
   "outputs": [],
   "source": [
    "from sklearn.preprocessing import PolynomialFeatures\n",
    "poly = PolynomialFeatures(degree=3)\n",
    "X_train_poly = poly.fit_transform(X_train)"
   ]
  },
  {
   "cell_type": "code",
   "execution_count": 368,
   "metadata": {
    "collapsed": false
   },
   "outputs": [
    {
     "data": {
      "text/plain": [
       "(120, 165)"
      ]
     },
     "execution_count": 368,
     "metadata": {},
     "output_type": "execute_result"
    }
   ],
   "source": [
    "X_train_poly.shape"
   ]
  },
  {
   "cell_type": "code",
   "execution_count": 369,
   "metadata": {
    "collapsed": false
   },
   "outputs": [],
   "source": [
    "from sklearn.pipeline import Pipeline\n",
    "model = Pipeline([('poly', PolynomialFeatures(degree=4)),\n",
    "                 ('linear', LinearRegression(fit_intercept=False))])\n",
    "# fit to an order-3 polynomial data\n",
    "model = model.fit(X_train, y_train)\n",
    "# model.named_steps['linear'].coef_\n",
    "poly_train = model.predict(X_train)"
   ]
  },
  {
   "cell_type": "code",
   "execution_count": 370,
   "metadata": {
    "collapsed": false
   },
   "outputs": [
    {
     "name": "stdout",
     "output_type": "stream",
     "text": [
      "0.0355422046396\n"
     ]
    }
   ],
   "source": [
    "print( r2_score(y_train, poly_train)  )"
   ]
  },
  {
   "cell_type": "code",
   "execution_count": null,
   "metadata": {
    "collapsed": true
   },
   "outputs": [],
   "source": []
  },
  {
   "cell_type": "code",
   "execution_count": null,
   "metadata": {
    "collapsed": true
   },
   "outputs": [],
   "source": []
  },
  {
   "cell_type": "code",
   "execution_count": null,
   "metadata": {
    "collapsed": true
   },
   "outputs": [],
   "source": []
  },
  {
   "cell_type": "code",
   "execution_count": 224,
   "metadata": {
    "collapsed": false
   },
   "outputs": [
    {
     "name": "stdout",
     "output_type": "stream",
     "text": [
      "LR default measure: 0.0122519966731\n"
     ]
    }
   ],
   "source": [
    "print('LR default measure:', lr.score(X_train, y_train))"
   ]
  },
  {
   "cell_type": "code",
   "execution_count": null,
   "metadata": {
    "collapsed": false
   },
   "outputs": [],
   "source": [
    "print('LR default measure:', lr.score(X_test, y_test))"
   ]
  },
  {
   "cell_type": "code",
   "execution_count": null,
   "metadata": {
    "collapsed": true
   },
   "outputs": [],
   "source": []
  },
  {
   "cell_type": "code",
   "execution_count": 352,
   "metadata": {
    "collapsed": true
   },
   "outputs": [],
   "source": [
    "X_train, X_test, y_train, y_test = train_test_split(data_ok[data_ok.columns[1:9]],\n",
    "                     data_ok[data_ok.columns[0]],test_size=0.25,random_state=22)"
   ]
  },
  {
   "cell_type": "code",
   "execution_count": 353,
   "metadata": {
    "collapsed": true
   },
   "outputs": [],
   "source": [
    "rfr = RandomForestRegressor( bootstrap= False ,n_jobs = -1, n_estimators=100,\n",
    "                               max_features='sqrt')\n",
    "rfr.fit(X_train, y_train)\n",
    "rfr_predict = rfr.predict(X_test)"
   ]
  },
  {
   "cell_type": "code",
   "execution_count": 354,
   "metadata": {
    "collapsed": true
   },
   "outputs": [],
   "source": [
    "rfr_train = rfr.predict(X_train)"
   ]
  },
  {
   "cell_type": "code",
   "execution_count": 355,
   "metadata": {
    "collapsed": false
   },
   "outputs": [
    {
     "name": "stdout",
     "output_type": "stream",
     "text": [
      "-0.313620678162\n"
     ]
    }
   ],
   "source": [
    "print( r2_score(y_test, rfr_predict)  )"
   ]
  },
  {
   "cell_type": "code",
   "execution_count": 356,
   "metadata": {
    "collapsed": false
   },
   "outputs": [
    {
     "name": "stdout",
     "output_type": "stream",
     "text": [
      "0.0798935713542\n"
     ]
    }
   ],
   "source": [
    "print( r2_score(y_train, rfr_train)  )"
   ]
  },
  {
   "cell_type": "code",
   "execution_count": null,
   "metadata": {
    "collapsed": true
   },
   "outputs": [],
   "source": []
  },
  {
   "cell_type": "code",
   "execution_count": null,
   "metadata": {
    "collapsed": true
   },
   "outputs": [],
   "source": []
  },
  {
   "cell_type": "code",
   "execution_count": 357,
   "metadata": {
    "collapsed": true
   },
   "outputs": [],
   "source": [
    "X_train, X_test, y_train, y_test = train_test_split(data_ok[data_ok.columns[1:9]],\n",
    "                     data_ok[data_ok.columns[0]],test_size=0.0,random_state=22)\n",
    "#ss = StandardScaler()\n",
    "#X_train = ss.fit_transform(X_train)\n",
    "#X_test = ss.fit_transform(X_test)"
   ]
  },
  {
   "cell_type": "code",
   "execution_count": 358,
   "metadata": {
    "collapsed": false
   },
   "outputs": [
    {
     "data": {
      "text/plain": [
       "SVR(C=2.0, cache_size=200, coef0=0.0, degree=3, epsilon=1.0, gamma=0.1,\n",
       "  kernel='rbf', max_iter=-1, shrinking=True, tol=0.001, verbose=False)"
      ]
     },
     "execution_count": 358,
     "metadata": {},
     "output_type": "execute_result"
    }
   ],
   "source": [
    "svr = SVR( kernel = 'rbf', C = 2.0, epsilon= 1.0,  gamma = 0.1)\n",
    "svr.fit(X_train, y_train)\n",
    "#SVR(C=2.0, cache_size=200, coef0=0.0, degree=3, epsilon=0.1, gamma=0.09,\n",
    "#  kernel='rbf', max_iter=-1, shrinking=True, tol=0.001, verbose=False)"
   ]
  },
  {
   "cell_type": "code",
   "execution_count": 360,
   "metadata": {
    "collapsed": false
   },
   "outputs": [
    {
     "data": {
      "text/plain": [
       "-0.027289218586723507"
      ]
     },
     "execution_count": 360,
     "metadata": {},
     "output_type": "execute_result"
    }
   ],
   "source": [
    "svr_train = svr.predict(X_train)\n",
    "r2_score(y_train, svr_train )"
   ]
  },
  {
   "cell_type": "code",
   "execution_count": null,
   "metadata": {
    "collapsed": false
   },
   "outputs": [],
   "source": [
    "svr_predict = svr.predict(X_test)\n",
    "r2_score(y_test, svr_predict )"
   ]
  },
  {
   "cell_type": "code",
   "execution_count": null,
   "metadata": {
    "collapsed": true
   },
   "outputs": [],
   "source": []
  },
  {
   "cell_type": "code",
   "execution_count": null,
   "metadata": {
    "collapsed": true
   },
   "outputs": [],
   "source": []
  },
  {
   "cell_type": "code",
   "execution_count": null,
   "metadata": {
    "collapsed": true
   },
   "outputs": [],
   "source": []
  },
  {
   "cell_type": "markdown",
   "metadata": {},
   "source": [
    "### 切分訓練/測試資料集："
   ]
  },
  {
   "cell_type": "code",
   "execution_count": 10,
   "metadata": {
    "collapsed": true
   },
   "outputs": [],
   "source": [
    "X_train, X_test, y_train, y_test = train_test_split(dataset[dataset.columns[0:8]],\n",
    "                     dataset[dataset.columns[9]],test_size=0.2,random_state=22)"
   ]
  },
  {
   "cell_type": "code",
   "execution_count": 11,
   "metadata": {
    "collapsed": false
   },
   "outputs": [
    {
     "name": "stdout",
     "output_type": "stream",
     "text": [
      "[(1980, 8), (660, 8), (1980L,), (660L,)]\n",
      "2    1076\n",
      "0     458\n",
      "1     446\n",
      "Name: category, dtype: int64\n",
      "2    364\n",
      "1    154\n",
      "0    142\n",
      "Name: category, dtype: int64\n"
     ]
    }
   ],
   "source": [
    "print([X_train.shape, X_test.shape, y_train.shape, y_test.shape] )\n",
    "print(y_train.value_counts())\n",
    "print(y_test.value_counts())"
   ]
  },
  {
   "cell_type": "markdown",
   "metadata": {
    "collapsed": true
   },
   "source": [
    "### 前處理："
   ]
  },
  {
   "cell_type": "code",
   "execution_count": 12,
   "metadata": {
    "collapsed": true
   },
   "outputs": [],
   "source": [
    "ss = StandardScaler()"
   ]
  },
  {
   "cell_type": "code",
   "execution_count": 13,
   "metadata": {
    "collapsed": true
   },
   "outputs": [],
   "source": [
    "X_train = ss.fit_transform(X_train)\n",
    "X_test = ss.fit_transform(X_test)"
   ]
  },
  {
   "cell_type": "markdown",
   "metadata": {},
   "source": [
    "### 1. 分類任務\n",
    "### 1.1  以logistic regression作基準："
   ]
  },
  {
   "cell_type": "code",
   "execution_count": 14,
   "metadata": {
    "collapsed": true
   },
   "outputs": [],
   "source": [
    "lr = LogisticRegression(n_jobs=-1)"
   ]
  },
  {
   "cell_type": "code",
   "execution_count": 15,
   "metadata": {
    "collapsed": false
   },
   "outputs": [
    {
     "data": {
      "text/plain": [
       "LogisticRegression(C=1.0, class_weight=None, dual=False, fit_intercept=True,\n",
       "          intercept_scaling=1, max_iter=100, multi_class='ovr', n_jobs=-1,\n",
       "          penalty='l2', random_state=None, solver='liblinear', tol=0.0001,\n",
       "          verbose=0, warm_start=False)"
      ]
     },
     "execution_count": 15,
     "metadata": {},
     "output_type": "execute_result"
    }
   ],
   "source": [
    "lr.fit(X_train, y_train)"
   ]
  },
  {
   "cell_type": "code",
   "execution_count": 16,
   "metadata": {
    "collapsed": true
   },
   "outputs": [],
   "source": [
    "lr_y_predict = lr.predict(X_test)"
   ]
  },
  {
   "cell_type": "code",
   "execution_count": 17,
   "metadata": {
    "collapsed": false
   },
   "outputs": [],
   "source": [
    "#lr_y_predict"
   ]
  },
  {
   "cell_type": "markdown",
   "metadata": {
    "collapsed": true
   },
   "source": [
    "### 結論：用最基本的模型做分類，準確度已 100%"
   ]
  },
  {
   "cell_type": "code",
   "execution_count": 18,
   "metadata": {
    "collapsed": false
   },
   "outputs": [
    {
     "name": "stdout",
     "output_type": "stream",
     "text": [
      "('LR accuracy:', 1.0)\n"
     ]
    }
   ],
   "source": [
    "print ('LR accuracy:', lr.score(X_test, y_test))"
   ]
  },
  {
   "cell_type": "markdown",
   "metadata": {},
   "source": [
    "### 1.2 測試SVM:"
   ]
  },
  {
   "cell_type": "code",
   "execution_count": 43,
   "metadata": {
    "collapsed": true
   },
   "outputs": [],
   "source": [
    "svc = SVC(C=1.0, kernel='rbf', degree=3, gamma='auto',\n",
    "          coef0=0.0, shrinking=True, probability=False,\n",
    "          tol=0.001, cache_size=200, class_weight=None,\n",
    "          verbose=False, max_iter=-1, decision_function_shape='ovr',\n",
    "          random_state=None)"
   ]
  },
  {
   "cell_type": "code",
   "execution_count": 44,
   "metadata": {
    "collapsed": true
   },
   "outputs": [],
   "source": [
    "X_train, X_test, y_train, y_test = train_test_split(dataset[dataset.columns[0:8]],\n",
    "                     dataset[dataset.columns[9]],test_size=0.25,random_state=22)\n",
    "ss_X = StandardScaler()\n",
    "#ss_y = StandardScaler()\n",
    "X_train = ss_X.fit_transform(X_train)\n",
    "X_test = ss_X.transform(X_test)"
   ]
  },
  {
   "cell_type": "code",
   "execution_count": 45,
   "metadata": {
    "collapsed": false
   },
   "outputs": [
    {
     "name": "stdout",
     "output_type": "stream",
     "text": [
      "1.0\n"
     ]
    }
   ],
   "source": [
    "svc.fit(X_train, y_train)\n",
    "svc_val_predict = svc.predict(X_test)\n",
    "#svc_val_predict\n",
    "print(accuracy_score(y_test, svc_val_predict))"
   ]
  },
  {
   "cell_type": "markdown",
   "metadata": {},
   "source": [
    "### 結論：用SVM做分類，準確度也是 100%"
   ]
  },
  {
   "cell_type": "code",
   "execution_count": null,
   "metadata": {
    "collapsed": true
   },
   "outputs": [],
   "source": []
  },
  {
   "cell_type": "markdown",
   "metadata": {},
   "source": [
    "### 2. 聚類任務\n",
    "### 2.1 用K-means聚類"
   ]
  },
  {
   "cell_type": "code",
   "execution_count": 19,
   "metadata": {
    "collapsed": true
   },
   "outputs": [],
   "source": [
    "X_train, X_test, y_train, y_test = train_test_split(dataset[dataset.columns[0:8]],\n",
    "                     dataset[dataset.columns[9]],test_size=0.25,random_state=23)"
   ]
  },
  {
   "cell_type": "code",
   "execution_count": 20,
   "metadata": {
    "collapsed": true
   },
   "outputs": [],
   "source": [
    "from sklearn.cluster import KMeans"
   ]
  },
  {
   "cell_type": "code",
   "execution_count": 21,
   "metadata": {
    "collapsed": true
   },
   "outputs": [],
   "source": [
    "kmeans = KMeans(n_clusters = 5, n_jobs=-1)"
   ]
  },
  {
   "cell_type": "code",
   "execution_count": 22,
   "metadata": {
    "collapsed": false
   },
   "outputs": [
    {
     "data": {
      "text/plain": [
       "KMeans(copy_x=True, init='k-means++', max_iter=300, n_clusters=5, n_init=10,\n",
       "    n_jobs=-1, precompute_distances='auto', random_state=None, tol=0.0001,\n",
       "    verbose=0)"
      ]
     },
     "execution_count": 22,
     "metadata": {},
     "output_type": "execute_result"
    }
   ],
   "source": [
    "kmeans.fit(X_train)"
   ]
  },
  {
   "cell_type": "code",
   "execution_count": 23,
   "metadata": {
    "collapsed": true
   },
   "outputs": [],
   "source": [
    "y_pred = kmeans.predict(X_test)"
   ]
  },
  {
   "cell_type": "code",
   "execution_count": 24,
   "metadata": {
    "collapsed": false
   },
   "outputs": [
    {
     "data": {
      "text/plain": [
       "0    371\n",
       "3    146\n",
       "2    101\n",
       "4     37\n",
       "1      5\n",
       "Name: digit, dtype: int64"
      ]
     },
     "execution_count": 24,
     "metadata": {},
     "output_type": "execute_result"
    }
   ],
   "source": [
    "df_y_pred = pd.DataFrame(y_pred)\n",
    "df_y_pred.columns = ['digit']\n",
    "df_y_pred.digit.value_counts()"
   ]
  },
  {
   "cell_type": "markdown",
   "metadata": {},
   "source": [
    "### 用adjusted rand index(ARI)評估聚類結果："
   ]
  },
  {
   "cell_type": "code",
   "execution_count": 25,
   "metadata": {
    "collapsed": false
   },
   "outputs": [
    {
     "name": "stdout",
     "output_type": "stream",
     "text": [
      "0.946617722774\n"
     ]
    }
   ],
   "source": [
    "from sklearn import metrics\n",
    "print (metrics.adjusted_rand_score(y_test, y_pred)  )\n",
    "#用輪廓係數(silhouette coefficient, sc)來評估聚類效果：\n",
    "#須定義凝聚度(cohesion)=a 和 分離度(separation)=b\n",
    "#sc[i] = (b[i]-a[i])/max(b[i],a[i])\n",
    "# 0<sc<1: 聚類效果好\n",
    "#-1<sc<0: 聚類效果差"
   ]
  },
  {
   "cell_type": "markdown",
   "metadata": {},
   "source": [
    "### 用silhouette_score度量最適合聚類數目："
   ]
  },
  {
   "cell_type": "code",
   "execution_count": 26,
   "metadata": {
    "collapsed": true
   },
   "outputs": [],
   "source": [
    "from sklearn.metrics import silhouette_score"
   ]
  },
  {
   "cell_type": "code",
   "execution_count": 27,
   "metadata": {
    "collapsed": false
   },
   "outputs": [],
   "source": [
    "clusters = [2,3,4,5,8]\n",
    "sc_scores = []\n",
    "for t in clusters:\n",
    "    kmeans_model = KMeans(n_clusters = t).fit(X_test)\n",
    "    sc_score = silhouette_score(X_test, kmeans_model.labels_, metric='euclidean')\n",
    "    sc_scores.append(sc_score)\n",
    "plt.figure()\n",
    "plt.plot(clusters, sc_scores, '*-')\n",
    "plt.xlabel('Number of Clusters')\n",
    "plt.ylabel('Silhouette Coefficient Score')\n",
    "plt.show()\n",
    "#np.argmax(sc_scores)"
   ]
  },
  {
   "cell_type": "markdown",
   "metadata": {},
   "source": [
    "#### 對於不同物理量構成的資料，\"距離\"觀念其實是有問題的（相同溫度差，濕度差，和速率差的無法比較），所以K-means不適用。"
   ]
  },
  {
   "cell_type": "code",
   "execution_count": null,
   "metadata": {
    "collapsed": true
   },
   "outputs": [],
   "source": []
  },
  {
   "cell_type": "markdown",
   "metadata": {},
   "source": [
    "### 2.2 用t-SNE看聚類："
   ]
  },
  {
   "cell_type": "code",
   "execution_count": 29,
   "metadata": {
    "collapsed": true
   },
   "outputs": [],
   "source": [
    "X_train, X_test, y_train, y_test = train_test_split(dataset[dataset.columns[0:8]],\n",
    "                     dataset[dataset.columns[9]],test_size=0.25,random_state=22)\n",
    "ss_X = StandardScaler()\n",
    "#ss_y = StandardScaler()\n",
    "X_train = ss_X.fit_transform(X_train)\n",
    "X_test = ss_X.transform(X_test)"
   ]
  },
  {
   "cell_type": "code",
   "execution_count": 30,
   "metadata": {
    "collapsed": false
   },
   "outputs": [
    {
     "name": "stdout",
     "output_type": "stream",
     "text": [
      "[t-SNE] Computing pairwise distances...\n",
      "[t-SNE] Computing 151 nearest neighbors...\n",
      "[t-SNE] Computed conditional probabilities for sample 1000 / 1980\n",
      "[t-SNE] Computed conditional probabilities for sample 1980 / 1980\n",
      "[t-SNE] Mean sigma: 0.000000\n",
      "[t-SNE] Error after 100 iterations with early exaggeration: 0.585949\n",
      "[t-SNE] Error after 200 iterations: 0.588272\n",
      "t-SNE done! Time elapsed: 32.4020001888 seconds\n"
     ]
    }
   ],
   "source": [
    "from sklearn.manifold import TSNE\n",
    "time_start = time.time()\n",
    "tsne = TSNE(n_components=3, verbose=1, perplexity=50, n_iter=300)\n",
    "tsne_results = tsne.fit_transform(X_train)\n",
    "\n",
    "print 't-SNE done! Time elapsed: {} seconds'.format(time.time()-time_start)"
   ]
  },
  {
   "cell_type": "code",
   "execution_count": 31,
   "metadata": {
    "collapsed": true
   },
   "outputs": [],
   "source": [
    "colors = y_train\n",
    "c = plt.scatter(tsne_results[:,0], tsne_results[:,1], c=colors, cmap=plt.cm.RdYlGn)"
   ]
  },
  {
   "cell_type": "markdown",
   "metadata": {},
   "source": [
    "### 3D視覺化"
   ]
  },
  {
   "cell_type": "code",
   "execution_count": 35,
   "metadata": {
    "collapsed": false
   },
   "outputs": [],
   "source": [
    "from mpl_toolkits.mplot3d import Axes3D as ax\n",
    "import random\n",
    "\n",
    "fig = plt.figure()\n",
    "ax = fig.add_subplot(111, projection='3d')\n",
    "ax.scatter(tsne_results[:,0],tsne_results[:,1], tsne_results[:,2], s=30, c=y_train)\n",
    "ax.set_xlabel('X Label')\n",
    "ax.set_ylabel('Y Label')\n",
    "ax.set_zlabel('Z Label')\n",
    "plt.show()"
   ]
  },
  {
   "cell_type": "code",
   "execution_count": null,
   "metadata": {
    "collapsed": true
   },
   "outputs": [],
   "source": []
  },
  {
   "cell_type": "code",
   "execution_count": null,
   "metadata": {
    "collapsed": true
   },
   "outputs": [],
   "source": []
  },
  {
   "cell_type": "markdown",
   "metadata": {},
   "source": [
    "### 3. 分群回歸任務"
   ]
  },
  {
   "cell_type": "code",
   "execution_count": null,
   "metadata": {
    "collapsed": true
   },
   "outputs": [],
   "source": []
  },
  {
   "cell_type": "code",
   "execution_count": null,
   "metadata": {
    "collapsed": true
   },
   "outputs": [],
   "source": []
  },
  {
   "cell_type": "code",
   "execution_count": null,
   "metadata": {
    "collapsed": true
   },
   "outputs": [],
   "source": []
  },
  {
   "cell_type": "code",
   "execution_count": null,
   "metadata": {
    "collapsed": true
   },
   "outputs": [],
   "source": []
  },
  {
   "cell_type": "markdown",
   "metadata": {},
   "source": [
    "### 4. 淺層神經網路  (略過)"
   ]
  },
  {
   "cell_type": "code",
   "execution_count": 8,
   "metadata": {
    "collapsed": true
   },
   "outputs": [],
   "source": [
    "import tensorflow as tf\n",
    "import numpy as np"
   ]
  },
  {
   "cell_type": "code",
   "execution_count": 108,
   "metadata": {
    "collapsed": true
   },
   "outputs": [],
   "source": [
    "sess = tf.Session()"
   ]
  },
  {
   "cell_type": "code",
   "execution_count": 109,
   "metadata": {
    "collapsed": false
   },
   "outputs": [],
   "source": [
    "x = tf.placeholder(tf.float32, [None, 30], name = 'input-x')\n",
    "y_ = tf.placeholder(tf.int32, [None,], name = 'input-y')\n",
    "lamb = tf.placeholder(tf.float32, name = 'weight_decay')\n",
    "lr = tf.placeholder(tf.float32, name = 'learning_rate')\n",
    "\n",
    "weights = tf.Variable(tf.truncated_normal([30,2], mean=0.0, stddev=0.1, dtype=tf.float32),\n",
    "                name = 'weights')\n",
    "biases = tf.Variable(tf.constant(0.01, dtype=tf.float32, shape=[2]), name = 'biases')\n",
    "z = tf.matmul(x, weights) + biases\n",
    "y = tf.sigmoid(z)\n",
    "\n",
    "y_one_hot = tf.one_hot(y_, depth = 2)\n",
    "entropy = tf.nn.sigmoid_cross_entropy_with_logits(labels = y_one_hot, logits = z )\n",
    "mean_entropy = tf.reduce_mean(entropy)\n",
    "loss = mean_entropy + lamb* tf.reduce_sum(tf.square(weights))\n",
    "\n",
    "train_step = tf.train.GradientDescentOptimizer(learning_rate = lr).minimize(loss)\n",
    "\n",
    "correct_prediction = tf.equal(tf.argmax(y,1), tf.argmax(y_one_hot,1))\n",
    "accuracy = tf.reduce_mean(tf.cast(correct_prediction, tf.float32))\n"
   ]
  },
  {
   "cell_type": "code",
   "execution_count": 110,
   "metadata": {
    "collapsed": false
   },
   "outputs": [],
   "source": [
    "init_op = tf.global_variables_initializer()\n",
    "sess.run(init_op)"
   ]
  },
  {
   "cell_type": "code",
   "execution_count": 111,
   "metadata": {
    "collapsed": false
   },
   "outputs": [],
   "source": [
    "feed_dict = {x: X_train, y_: y_train, lamb: 1e-4, lr: 1e-4  }"
   ]
  },
  {
   "cell_type": "code",
   "execution_count": 114,
   "metadata": {
    "collapsed": false
   },
   "outputs": [
    {
     "name": "stdout",
     "output_type": "stream",
     "text": [
      "[0.13804975, 0.95070422]\n",
      "[0.13734476, 0.95070422]\n",
      "[0.13789117, 0.95070422]\n",
      "[0.13663246, 0.95070422]\n",
      "[0.13605151, 0.95070422]\n",
      "[0.13565148, 0.94718313]\n",
      "[0.13533726, 0.94718313]\n",
      "[0.13506821, 0.94718313]\n",
      "[0.13482602, 0.94718313]\n",
      "[0.13460225, 0.94718313]\n"
     ]
    }
   ],
   "source": [
    "for i in range(10000):\n",
    "    sess.run(train_step, feed_dict = feed_dict)\n",
    "    if i%1000==0:\n",
    "        print(sess.run([loss, accuracy], feed_dict = {x: X_train, y_: y_train, lamb:1e-2 }))"
   ]
  },
  {
   "cell_type": "code",
   "execution_count": 113,
   "metadata": {
    "collapsed": false
   },
   "outputs": [
    {
     "name": "stdout",
     "output_type": "stream",
     "text": [
      "0.905263\n"
     ]
    }
   ],
   "source": [
    "print(sess.run(accuracy, feed_dict = {x: X_val, y_: y_val })  )"
   ]
  },
  {
   "cell_type": "code",
   "execution_count": null,
   "metadata": {
    "collapsed": true
   },
   "outputs": [],
   "source": []
  },
  {
   "cell_type": "code",
   "execution_count": null,
   "metadata": {
    "collapsed": true
   },
   "outputs": [],
   "source": []
  },
  {
   "cell_type": "code",
   "execution_count": null,
   "metadata": {
    "collapsed": true
   },
   "outputs": [],
   "source": []
  },
  {
   "cell_type": "code",
   "execution_count": 9,
   "metadata": {
    "collapsed": false
   },
   "outputs": [
    {
     "name": "stdout",
     "output_type": "stream",
     "text": [
      "(600, 10) (600, 10) (1440, 10)\n",
      "20.0 48.0\n"
     ]
    }
   ],
   "source": [
    "df_0 = dataset[dataset['category']==0]\n",
    "df_1 = dataset[dataset['category']==1]\n",
    "df_2 = dataset[dataset['category']==2]\n",
    "print(df_0.shape, df_1.shape, df_2.shape)\n",
    "print(600/30, 1440/30)"
   ]
  },
  {
   "cell_type": "code",
   "execution_count": 90,
   "metadata": {
    "collapsed": false
   },
   "outputs": [
    {
     "data": {
      "text/html": [
       "<div>\n",
       "<table border=\"1\" class=\"dataframe\">\n",
       "  <thead>\n",
       "    <tr style=\"text-align: right;\">\n",
       "      <th></th>\n",
       "      <th>speed</th>\n",
       "      <th>env_temp</th>\n",
       "      <th>env_wet</th>\n",
       "      <th>T1</th>\n",
       "      <th>T2</th>\n",
       "      <th>T3</th>\n",
       "      <th>T4</th>\n",
       "      <th>T5</th>\n",
       "      <th>radius</th>\n",
       "      <th>category</th>\n",
       "    </tr>\n",
       "  </thead>\n",
       "  <tbody>\n",
       "    <tr>\n",
       "      <th>count</th>\n",
       "      <td>600.000000</td>\n",
       "      <td>600.000000</td>\n",
       "      <td>600.000000</td>\n",
       "      <td>600.000000</td>\n",
       "      <td>600.00000</td>\n",
       "      <td>600.000000</td>\n",
       "      <td>600.00000</td>\n",
       "      <td>600.00000</td>\n",
       "      <td>600.000000</td>\n",
       "      <td>600.0</td>\n",
       "    </tr>\n",
       "    <tr>\n",
       "      <th>mean</th>\n",
       "      <td>33.010000</td>\n",
       "      <td>34.250000</td>\n",
       "      <td>64.925000</td>\n",
       "      <td>580.750000</td>\n",
       "      <td>723.00000</td>\n",
       "      <td>718.250000</td>\n",
       "      <td>618.75000</td>\n",
       "      <td>476.00000</td>\n",
       "      <td>341.383478</td>\n",
       "      <td>0.0</td>\n",
       "    </tr>\n",
       "    <tr>\n",
       "      <th>std</th>\n",
       "      <td>1.283353</td>\n",
       "      <td>1.657431</td>\n",
       "      <td>5.905082</td>\n",
       "      <td>13.946745</td>\n",
       "      <td>1.87239</td>\n",
       "      <td>0.829848</td>\n",
       "      <td>2.16687</td>\n",
       "      <td>7.91229</td>\n",
       "      <td>1.940658</td>\n",
       "      <td>0.0</td>\n",
       "    </tr>\n",
       "    <tr>\n",
       "      <th>min</th>\n",
       "      <td>32.230000</td>\n",
       "      <td>31.500000</td>\n",
       "      <td>60.000000</td>\n",
       "      <td>565.000000</td>\n",
       "      <td>721.00000</td>\n",
       "      <td>717.000000</td>\n",
       "      <td>615.00000</td>\n",
       "      <td>465.00000</td>\n",
       "      <td>337.038609</td>\n",
       "      <td>0.0</td>\n",
       "    </tr>\n",
       "    <tr>\n",
       "      <th>25%</th>\n",
       "      <td>32.237500</td>\n",
       "      <td>33.675000</td>\n",
       "      <td>60.075000</td>\n",
       "      <td>572.500000</td>\n",
       "      <td>721.75000</td>\n",
       "      <td>717.750000</td>\n",
       "      <td>618.75000</td>\n",
       "      <td>470.25000</td>\n",
       "      <td>340.190561</td>\n",
       "      <td>0.0</td>\n",
       "    </tr>\n",
       "    <tr>\n",
       "      <th>50%</th>\n",
       "      <td>32.260000</td>\n",
       "      <td>34.950000</td>\n",
       "      <td>62.600000</td>\n",
       "      <td>577.500000</td>\n",
       "      <td>722.50000</td>\n",
       "      <td>718.500000</td>\n",
       "      <td>620.00000</td>\n",
       "      <td>477.50000</td>\n",
       "      <td>341.147702</td>\n",
       "      <td>0.0</td>\n",
       "    </tr>\n",
       "    <tr>\n",
       "      <th>75%</th>\n",
       "      <td>33.062500</td>\n",
       "      <td>35.525000</td>\n",
       "      <td>67.450000</td>\n",
       "      <td>585.750000</td>\n",
       "      <td>723.75000</td>\n",
       "      <td>719.000000</td>\n",
       "      <td>620.00000</td>\n",
       "      <td>483.25000</td>\n",
       "      <td>342.432320</td>\n",
       "      <td>0.0</td>\n",
       "    </tr>\n",
       "    <tr>\n",
       "      <th>max</th>\n",
       "      <td>35.230000</td>\n",
       "      <td>35.600000</td>\n",
       "      <td>74.500000</td>\n",
       "      <td>603.000000</td>\n",
       "      <td>726.00000</td>\n",
       "      <td>719.000000</td>\n",
       "      <td>620.00000</td>\n",
       "      <td>484.00000</td>\n",
       "      <td>347.005869</td>\n",
       "      <td>0.0</td>\n",
       "    </tr>\n",
       "  </tbody>\n",
       "</table>\n",
       "</div>"
      ],
      "text/plain": [
       "            speed    env_temp     env_wet          T1         T2          T3  \\\n",
       "count  600.000000  600.000000  600.000000  600.000000  600.00000  600.000000   \n",
       "mean    33.010000   34.250000   64.925000  580.750000  723.00000  718.250000   \n",
       "std      1.283353    1.657431    5.905082   13.946745    1.87239    0.829848   \n",
       "min     32.230000   31.500000   60.000000  565.000000  721.00000  717.000000   \n",
       "25%     32.237500   33.675000   60.075000  572.500000  721.75000  717.750000   \n",
       "50%     32.260000   34.950000   62.600000  577.500000  722.50000  718.500000   \n",
       "75%     33.062500   35.525000   67.450000  585.750000  723.75000  719.000000   \n",
       "max     35.230000   35.600000   74.500000  603.000000  726.00000  719.000000   \n",
       "\n",
       "              T4         T5      radius  category  \n",
       "count  600.00000  600.00000  600.000000     600.0  \n",
       "mean   618.75000  476.00000  341.383478       0.0  \n",
       "std      2.16687    7.91229    1.940658       0.0  \n",
       "min    615.00000  465.00000  337.038609       0.0  \n",
       "25%    618.75000  470.25000  340.190561       0.0  \n",
       "50%    620.00000  477.50000  341.147702       0.0  \n",
       "75%    620.00000  483.25000  342.432320       0.0  \n",
       "max    620.00000  484.00000  347.005869       0.0  "
      ]
     },
     "execution_count": 90,
     "metadata": {},
     "output_type": "execute_result"
    }
   ],
   "source": [
    "df_0.describe()"
   ]
  },
  {
   "cell_type": "code",
   "execution_count": null,
   "metadata": {
    "collapsed": false
   },
   "outputs": [],
   "source": [
    "print(df_0['speed'].value_counts()/30)\n",
    "print(df_1['speed'].value_counts()/30)\n",
    "print(df_2['speed'].value_counts()/30)\n",
    "print(dataset['speed'].value_counts()/30)\n",
    "print(dataset['speed'].count()/30)"
   ]
  },
  {
   "cell_type": "code",
   "execution_count": null,
   "metadata": {
    "collapsed": false
   },
   "outputs": [],
   "source": [
    "print(df_0['env_temp'].value_counts()/30)\n",
    "print(df_1['env_temp'].value_counts()/30)\n",
    "print(df_2['env_temp'].value_counts()/30)\n",
    "print(dataset['env_temp'].value_counts()/30)\n",
    "print(dataset['env_temp'].count()/30) \n"
   ]
  },
  {
   "cell_type": "code",
   "execution_count": null,
   "metadata": {
    "collapsed": false
   },
   "outputs": [],
   "source": [
    "print(df_0['env_wet'].value_counts()/30)\n",
    "print(df_1['env_wet'].value_counts()/30)\n",
    "print(df_2['env_wet'].value_counts()/30)\n",
    "print(dataset['env_wet'].value_counts()/30)\n",
    "print(dataset['env_wet'].count()/30)"
   ]
  },
  {
   "cell_type": "code",
   "execution_count": 30,
   "metadata": {
    "collapsed": true
   },
   "outputs": [],
   "source": [
    "colors = dataset['category']\n",
    "c1 = plt.scatter(dataset['env_wet'], dataset['env_temp'], c=colors, cmap=plt.cm.RdYlGn)"
   ]
  },
  {
   "cell_type": "code",
   "execution_count": 28,
   "metadata": {
    "collapsed": true
   },
   "outputs": [],
   "source": [
    "colors = dataset['category']\n",
    "c2 = plt.scatter(dataset['env_wet'], dataset['speed'], c=colors, cmap=plt.cm.RdYlGn)"
   ]
  },
  {
   "cell_type": "code",
   "execution_count": null,
   "metadata": {
    "collapsed": true
   },
   "outputs": [],
   "source": []
  },
  {
   "cell_type": "code",
   "execution_count": 10,
   "metadata": {
    "collapsed": true
   },
   "outputs": [],
   "source": [
    "from sklearn.cluster import KMeans\n",
    "from sklearn.metrics import silhouette_score"
   ]
  },
  {
   "cell_type": "markdown",
   "metadata": {},
   "source": [
    "### analysis of group 1:"
   ]
  },
  {
   "cell_type": "code",
   "execution_count": 12,
   "metadata": {
    "collapsed": false
   },
   "outputs": [
    {
     "data": {
      "text/plain": [
       "Index(['speed', 'env_temp', 'env_wet', 'T1', 'T2', 'T3', 'T4', 'T5', 'radius',\n",
       "       'category'],\n",
       "      dtype='object')"
      ]
     },
     "execution_count": 12,
     "metadata": {},
     "output_type": "execute_result"
    }
   ],
   "source": [
    "df_0.columns"
   ]
  },
  {
   "cell_type": "code",
   "execution_count": 98,
   "metadata": {
    "collapsed": true
   },
   "outputs": [],
   "source": [
    "set_tw_0 = df_0[['env_temp','env_wet']]"
   ]
  },
  {
   "cell_type": "code",
   "execution_count": 111,
   "metadata": {
    "collapsed": false
   },
   "outputs": [
    {
     "data": {
      "image/png": "[encoded data removed]",
      "text/plain": [
       "<matplotlib.figure.Figure at 0x7ff4b9036128>"
      ]
     },
     "metadata": {},
     "output_type": "display_data"
    },
    {
     "data": {
      "text/plain": [
       "2"
      ]
     },
     "execution_count": 111,
     "metadata": {},
     "output_type": "execute_result"
    }
   ],
   "source": [
    "clusters = [2,3,4,5,6,7,8,10,12,14,16,18,20]\n",
    "sc_scores = []\n",
    "for t in clusters:\n",
    "    kmeans = KMeans(n_clusters = t).fit(set_tw_0)\n",
    "    sc_score = silhouette_score(set_tw_0, kmeans.labels_, metric='euclidean')\n",
    "    sc_scores.append(sc_score)\n",
    "plt.figure()\n",
    "plt.plot(clusters, sc_scores, '*-')\n",
    "plt.xlabel('Number of Clusters')\n",
    "plt.ylabel('Silhouette Coefficient Score')\n",
    "plt.show()\n",
    "np.argmax(sc_scores)"
   ]
  },
  {
   "cell_type": "code",
   "execution_count": 103,
   "metadata": {
    "collapsed": true
   },
   "outputs": [],
   "source": [
    "set_T_0 = df_0[['T1','T2','T3','T4','T5']]"
   ]
  },
  {
   "cell_type": "code",
   "execution_count": 112,
   "metadata": {
    "collapsed": false
   },
   "outputs": [
    {
     "data": {
      "image/png": "[encoded data removed]",
      "text/plain": [
       "<matplotlib.figure.Figure at 0x7ff4b8bf56a0>"
      ]
     },
     "metadata": {},
     "output_type": "display_data"
    },
    {
     "data": {
      "text/plain": [
       "2"
      ]
     },
     "execution_count": 112,
     "metadata": {},
     "output_type": "execute_result"
    }
   ],
   "source": [
    "clusters = [2,3,4,5,6,7,8,10,12,14,16,18,20]\n",
    "sc_scores = []\n",
    "for t in clusters:\n",
    "    kmeans = KMeans(n_clusters = t).fit(set_T_0)\n",
    "    sc_score = silhouette_score(set_T_0, kmeans.labels_, metric='euclidean')\n",
    "    sc_scores.append(sc_score)\n",
    "plt.figure()\n",
    "plt.plot(clusters, sc_scores, '*-')\n",
    "plt.xlabel('Number of Clusters')\n",
    "plt.ylabel('Silhouette Coefficient Score')\n",
    "plt.show()\n",
    "np.argmax(sc_scores)"
   ]
  },
  {
   "cell_type": "code",
   "execution_count": 113,
   "metadata": {
    "collapsed": true
   },
   "outputs": [],
   "source": [
    "set_sT_0 = df_0[['speed','T1','T2','T3','T4','T5']]"
   ]
  },
  {
   "cell_type": "code",
   "execution_count": 114,
   "metadata": {
    "collapsed": false
   },
   "outputs": [
    {
     "data": {
      "image/png": "[encoded data removed]",
      "text/plain": [
       "<matplotlib.figure.Figure at 0x7ff4b8d98f60>"
      ]
     },
     "metadata": {},
     "output_type": "display_data"
    },
    {
     "data": {
      "text/plain": [
       "3"
      ]
     },
     "execution_count": 114,
     "metadata": {},
     "output_type": "execute_result"
    }
   ],
   "source": [
    "clusters = [2,3,4,5,6,7,8,10,12,14,16,18,20]\n",
    "sc_scores = []\n",
    "for t in clusters:\n",
    "    kmeans = KMeans(n_clusters = t).fit(set_sT_0)\n",
    "    sc_score = silhouette_score(set_sT_0, kmeans.labels_, metric='euclidean')\n",
    "    sc_scores.append(sc_score)\n",
    "plt.figure()\n",
    "plt.plot(clusters, sc_scores, '*-')\n",
    "plt.xlabel('Number of Clusters')\n",
    "plt.ylabel('Silhouette Coefficient Score')\n",
    "plt.show()\n",
    "np.argmax(sc_scores)"
   ]
  },
  {
   "cell_type": "code",
   "execution_count": 115,
   "metadata": {
    "collapsed": true
   },
   "outputs": [],
   "source": [
    "set_all_0 = df_0[['speed','env_temp','env_wet','T1','T2','T3','T4','T5']]"
   ]
  },
  {
   "cell_type": "code",
   "execution_count": 116,
   "metadata": {
    "collapsed": false
   },
   "outputs": [
    {
     "data": {
      "image/png": "[encoded data removed]",
      "text/plain": [
       "<matplotlib.figure.Figure at 0x7ff4b81a3438>"
      ]
     },
     "metadata": {},
     "output_type": "display_data"
    },
    {
     "data": {
      "text/plain": [
       "3"
      ]
     },
     "execution_count": 116,
     "metadata": {},
     "output_type": "execute_result"
    }
   ],
   "source": [
    "clusters = [2,3,4,5,6,7,8,10,12,14,16,18,20]\n",
    "sc_scores = []\n",
    "for t in clusters:\n",
    "    kmeans = KMeans(n_clusters = t).fit(set_all_0)\n",
    "    sc_score = silhouette_score(set_all_0, kmeans.labels_, metric='euclidean')\n",
    "    sc_scores.append(sc_score)\n",
    "plt.figure()\n",
    "plt.plot(clusters, sc_scores, '*-')\n",
    "plt.xlabel('Number of Clusters')\n",
    "plt.ylabel('Silhouette Coefficient Score')\n",
    "plt.show()\n",
    "np.argmax(sc_scores)"
   ]
  },
  {
   "cell_type": "code",
   "execution_count": 119,
   "metadata": {
    "collapsed": false
   },
   "outputs": [
    {
     "data": {
      "image/png": "[encoded data removed]",
      "text/plain": [
       "<matplotlib.figure.Figure at 0x7ff4b9661240>"
      ]
     },
     "metadata": {},
     "output_type": "display_data"
    },
    {
     "data": {
      "text/plain": [
       "2"
      ]
     },
     "execution_count": 119,
     "metadata": {},
     "output_type": "execute_result"
    }
   ],
   "source": [
    "clusters = [2,3,4,5,6,7,8,9,10,11,12,13,14,15]\n",
    "sc_scores = []\n",
    "for t in clusters:\n",
    "    kmeans_model = KMeans(n_clusters = t).fit(df_0)\n",
    "    sc_score = silhouette_score(df_0, kmeans_model.labels_, metric='euclidean')\n",
    "    sc_scores.append(sc_score)\n",
    "plt.figure()\n",
    "plt.plot(clusters, sc_scores, '*-')\n",
    "plt.xlabel('Number of Clusters')\n",
    "plt.ylabel('Silhouette Coefficient Score')\n",
    "plt.show()\n",
    "np.argmax(sc_scores)"
   ]
  },
  {
   "cell_type": "markdown",
   "metadata": {},
   "source": [
    "### analysis of group 2:"
   ]
  },
  {
   "cell_type": "code",
   "execution_count": 82,
   "metadata": {
    "collapsed": false
   },
   "outputs": [
    {
     "data": {
      "text/plain": [
       "Index(['speed', 'env_temp', 'env_wet', 'T1', 'T2', 'T3', 'T4', 'T5', 'radius',\n",
       "       'category'],\n",
       "      dtype='object')"
      ]
     },
     "execution_count": 82,
     "metadata": {},
     "output_type": "execute_result"
    }
   ],
   "source": [
    "df_1.columns"
   ]
  },
  {
   "cell_type": "code",
   "execution_count": 17,
   "metadata": {
    "collapsed": false
   },
   "outputs": [],
   "source": [
    "set_tw_1 = df_1[['env_temp','env_wet']]"
   ]
  },
  {
   "cell_type": "code",
   "execution_count": 106,
   "metadata": {
    "collapsed": false
   },
   "outputs": [
    {
     "data": {
      "image/png": "[encoded data removed]",
      "text/plain": [
       "<matplotlib.figure.Figure at 0x7ff4b86f1470>"
      ]
     },
     "metadata": {},
     "output_type": "display_data"
    },
    {
     "data": {
      "text/plain": [
       "7"
      ]
     },
     "execution_count": 106,
     "metadata": {},
     "output_type": "execute_result"
    }
   ],
   "source": [
    "clusters = [2,3,4,5,6,7,8,10,12,14,16,18,20]\n",
    "sc_scores = []\n",
    "for t in clusters:\n",
    "    kmeans = KMeans(n_clusters = t).fit(set_tw_1)\n",
    "    sc_score = silhouette_score(set_tw_1, kmeans.labels_, metric='euclidean')\n",
    "    sc_scores.append(sc_score)\n",
    "plt.figure()\n",
    "plt.plot(clusters, sc_scores, '*-')\n",
    "plt.xlabel('Number of Clusters')\n",
    "plt.ylabel('Silhouette Coefficient Score')\n",
    "plt.show()\n",
    "np.argmax(sc_scores)"
   ]
  },
  {
   "cell_type": "code",
   "execution_count": 89,
   "metadata": {
    "collapsed": true
   },
   "outputs": [],
   "source": [
    "set_T_1 = df_1[['T1','T2','T3','T4','T5']]"
   ]
  },
  {
   "cell_type": "code",
   "execution_count": 107,
   "metadata": {
    "collapsed": false
   },
   "outputs": [
    {
     "data": {
      "image/png": "[encoded data removed]",
      "text/plain": [
       "<matplotlib.figure.Figure at 0x7ff4e32ed828>"
      ]
     },
     "metadata": {},
     "output_type": "display_data"
    },
    {
     "data": {
      "text/plain": [
       "7"
      ]
     },
     "execution_count": 107,
     "metadata": {},
     "output_type": "execute_result"
    }
   ],
   "source": [
    "clusters = [2,3,4,5,6,7,8,10,12,14,16,18,20]\n",
    "sc_scores = []\n",
    "for t in clusters:\n",
    "    kmeans = KMeans(n_clusters = t).fit(set_T_1)\n",
    "    sc_score = silhouette_score(set_T_1, kmeans.labels_, metric='euclidean')\n",
    "    sc_scores.append(sc_score)\n",
    "plt.figure()\n",
    "plt.plot(clusters, sc_scores, '*-')\n",
    "plt.xlabel('Number of Clusters')\n",
    "plt.ylabel('Silhouette Coefficient Score')\n",
    "plt.show()\n",
    "np.argmax(sc_scores)"
   ]
  },
  {
   "cell_type": "code",
   "execution_count": 92,
   "metadata": {
    "collapsed": true
   },
   "outputs": [],
   "source": [
    "set_sT_1 = df_1[['speed','T1','T2','T3','T4','T5']]"
   ]
  },
  {
   "cell_type": "code",
   "execution_count": 108,
   "metadata": {
    "collapsed": false
   },
   "outputs": [
    {
     "data": {
      "image/png": "[encoded data removed]",
      "text/plain": [
       "<matplotlib.figure.Figure at 0x7ff4b8a80f60>"
      ]
     },
     "metadata": {},
     "output_type": "display_data"
    },
    {
     "data": {
      "text/plain": [
       "7"
      ]
     },
     "execution_count": 108,
     "metadata": {},
     "output_type": "execute_result"
    }
   ],
   "source": [
    "clusters = [2,3,4,5,6,7,8,10,12,14,16,18,20]\n",
    "sc_scores = []\n",
    "for t in clusters:\n",
    "    kmeans = KMeans(n_clusters = t).fit(set_sT_1)\n",
    "    sc_score = silhouette_score(set_sT_1, kmeans.labels_, metric='euclidean')\n",
    "    sc_scores.append(sc_score)\n",
    "plt.figure()\n",
    "plt.plot(clusters, sc_scores, '*-')\n",
    "plt.xlabel('Number of Clusters')\n",
    "plt.ylabel('Silhouette Coefficient Score')\n",
    "plt.show()\n",
    "np.argmax(sc_scores)"
   ]
  },
  {
   "cell_type": "code",
   "execution_count": 94,
   "metadata": {
    "collapsed": true
   },
   "outputs": [],
   "source": [
    "set_all_1 = df_1[['speed','env_temp','env_wet','T1','T2','T3','T4','T5']]"
   ]
  },
  {
   "cell_type": "code",
   "execution_count": 109,
   "metadata": {
    "collapsed": false
   },
   "outputs": [
    {
     "data": {
      "image/png": "[encoded data removed]",
      "text/plain": [
       "<matplotlib.figure.Figure at 0x7ff4b8a80c88>"
      ]
     },
     "metadata": {},
     "output_type": "display_data"
    },
    {
     "data": {
      "text/plain": [
       "7"
      ]
     },
     "execution_count": 109,
     "metadata": {},
     "output_type": "execute_result"
    }
   ],
   "source": [
    "clusters = [2,3,4,5,6,7,8,10,12,14,16,18,20]\n",
    "sc_scores = []\n",
    "for t in clusters:\n",
    "    kmeans = KMeans(n_clusters = t).fit(set_all_1)\n",
    "    sc_score = silhouette_score(set_all_1, kmeans.labels_, metric='euclidean')\n",
    "    sc_scores.append(sc_score)\n",
    "plt.figure()\n",
    "plt.plot(clusters, sc_scores, '*-')\n",
    "plt.xlabel('Number of Clusters')\n",
    "plt.ylabel('Silhouette Coefficient Score')\n",
    "plt.show()\n",
    "np.argmax(sc_scores)"
   ]
  },
  {
   "cell_type": "code",
   "execution_count": 110,
   "metadata": {
    "collapsed": false
   },
   "outputs": [
    {
     "data": {
      "image/png": "[encoded data removed]",
      "text/plain": [
       "<matplotlib.figure.Figure at 0x7ff4b88b0c88>"
      ]
     },
     "metadata": {},
     "output_type": "display_data"
    },
    {
     "data": {
      "text/plain": [
       "12"
      ]
     },
     "execution_count": 110,
     "metadata": {},
     "output_type": "execute_result"
    }
   ],
   "source": [
    "clusters = [2,3,4,5,6,7,8,10,12,14,16,18,20]\n",
    "sc_scores = []\n",
    "for t in clusters:\n",
    "    kmeans = KMeans(n_clusters = t).fit(df_1)\n",
    "    sc_score = silhouette_score(df_1, kmeans.labels_, metric='euclidean')\n",
    "    sc_scores.append(sc_score)\n",
    "plt.figure()\n",
    "plt.plot(clusters, sc_scores, '*-')\n",
    "plt.xlabel('Number of Clusters')\n",
    "plt.ylabel('Silhouette Coefficient Score')\n",
    "plt.show()\n",
    "np.argmax(sc_scores)"
   ]
  },
  {
   "cell_type": "code",
   "execution_count": null,
   "metadata": {
    "collapsed": true
   },
   "outputs": [],
   "source": []
  },
  {
   "cell_type": "markdown",
   "metadata": {},
   "source": [
    "### analysis of group 3:"
   ]
  },
  {
   "cell_type": "code",
   "execution_count": 109,
   "metadata": {
    "collapsed": true
   },
   "outputs": [],
   "source": [
    "set_tw_2 = df_2[['env_temp','env_wet']]"
   ]
  },
  {
   "cell_type": "code",
   "execution_count": 110,
   "metadata": {
    "collapsed": false
   },
   "outputs": [
    {
     "data": {
      "image/png": "[encoded data removed]",
      "text/plain": [
       "<matplotlib.figure.Figure at 0x7fe0682b8898>"
      ]
     },
     "metadata": {},
     "output_type": "display_data"
    },
    {
     "data": {
      "text/plain": [
       "2"
      ]
     },
     "execution_count": 110,
     "metadata": {},
     "output_type": "execute_result"
    }
   ],
   "source": [
    "clusters = [2,3,4,5,6,7,8,10,12,14,16,18,20]\n",
    "sc_scores = []\n",
    "for t in clusters:\n",
    "    kmeans = KMeans(n_clusters = t).fit(set_tw_2)\n",
    "    sc_score = silhouette_score(set_tw_2, kmeans.labels_, metric='euclidean')\n",
    "    sc_scores.append(sc_score)\n",
    "plt.figure()\n",
    "plt.plot(clusters, sc_scores, '*-')\n",
    "plt.xlabel('Number of Clusters')\n",
    "plt.ylabel('Silhouette Coefficient Score')\n",
    "plt.show()\n",
    "np.argmax(sc_scores)"
   ]
  },
  {
   "cell_type": "code",
   "execution_count": 123,
   "metadata": {
    "collapsed": true
   },
   "outputs": [],
   "source": [
    "set_T_2 = df_2[['T1','T2','T3','T4','T5']]"
   ]
  },
  {
   "cell_type": "code",
   "execution_count": 124,
   "metadata": {
    "collapsed": false
   },
   "outputs": [
    {
     "data": {
      "image/png": "[encoded data removed]",
      "text/plain": [
       "<matplotlib.figure.Figure at 0x7ff4b81510f0>"
      ]
     },
     "metadata": {},
     "output_type": "display_data"
    },
    {
     "data": {
      "text/plain": [
       "3"
      ]
     },
     "execution_count": 124,
     "metadata": {},
     "output_type": "execute_result"
    }
   ],
   "source": [
    "clusters = [2,3,4,5,6,7,8,10,12,14,16,18,20]\n",
    "sc_scores = []\n",
    "for t in clusters:\n",
    "    kmeans = KMeans(n_clusters = t).fit(set_T_2)\n",
    "    sc_score = silhouette_score(set_T_2, kmeans.labels_, metric='euclidean')\n",
    "    sc_scores.append(sc_score)\n",
    "plt.figure()\n",
    "plt.plot(clusters, sc_scores, '*-')\n",
    "plt.xlabel('Number of Clusters')\n",
    "plt.ylabel('Silhouette Coefficient Score')\n",
    "plt.show()\n",
    "np.argmax(sc_scores)"
   ]
  },
  {
   "cell_type": "code",
   "execution_count": 112,
   "metadata": {
    "collapsed": true
   },
   "outputs": [],
   "source": [
    "set_sT_2 = df_2[['speed','T1','T2','T3','T4','T5']]"
   ]
  },
  {
   "cell_type": "code",
   "execution_count": 127,
   "metadata": {
    "collapsed": false
   },
   "outputs": [
    {
     "data": {
      "image/png": "[encoded data removed]",
      "text/plain": [
       "<matplotlib.figure.Figure at 0x7ff4af53ce10>"
      ]
     },
     "metadata": {},
     "output_type": "display_data"
    },
    {
     "data": {
      "text/plain": [
       "6"
      ]
     },
     "execution_count": 127,
     "metadata": {},
     "output_type": "execute_result"
    }
   ],
   "source": [
    "clusters = [2,3,4,5,6,7,8,10,12,14,16,18,20]\n",
    "sc_scores = []\n",
    "for t in clusters:\n",
    "    kmeans = KMeans(n_clusters = t).fit(set_sT_2)\n",
    "    sc_score = silhouette_score(set_sT_2, kmeans.labels_, metric='euclidean')\n",
    "    sc_scores.append(sc_score)\n",
    "plt.figure()\n",
    "plt.plot(clusters, sc_scores, '*-')\n",
    "plt.xlabel('Number of Clusters')\n",
    "plt.ylabel('Silhouette Coefficient Score')\n",
    "plt.show()\n",
    "np.argmax(sc_scores)"
   ]
  },
  {
   "cell_type": "code",
   "execution_count": 113,
   "metadata": {
    "collapsed": true
   },
   "outputs": [],
   "source": [
    "set_all_2 = df_2[['speed','env_temp','env_wet','T1','T2','T3','T4','T5']]"
   ]
  },
  {
   "cell_type": "code",
   "execution_count": 129,
   "metadata": {
    "collapsed": false
   },
   "outputs": [
    {
     "data": {
      "image/png": "[encoded data removed]",
      "text/plain": [
       "<matplotlib.figure.Figure at 0x7ff4b8a61748>"
      ]
     },
     "metadata": {},
     "output_type": "display_data"
    },
    {
     "data": {
      "text/plain": [
       "6"
      ]
     },
     "execution_count": 129,
     "metadata": {},
     "output_type": "execute_result"
    }
   ],
   "source": [
    "clusters = [2,3,4,5,6,7,8,10,12,14,16,18,20]\n",
    "sc_scores = []\n",
    "for t in clusters:\n",
    "    kmeans = KMeans(n_clusters = t).fit(set_all_2)\n",
    "    sc_score = silhouette_score(set_all_2, kmeans.labels_, metric='euclidean')\n",
    "    sc_scores.append(sc_score)\n",
    "plt.figure()\n",
    "plt.plot(clusters, sc_scores, '*-')\n",
    "plt.xlabel('Number of Clusters')\n",
    "plt.ylabel('Silhouette Coefficient Score')\n",
    "plt.show()\n",
    "np.argmax(sc_scores)"
   ]
  },
  {
   "cell_type": "code",
   "execution_count": null,
   "metadata": {
    "collapsed": true
   },
   "outputs": [],
   "source": []
  },
  {
   "cell_type": "code",
   "execution_count": null,
   "metadata": {
    "collapsed": true
   },
   "outputs": [],
   "source": []
  },
  {
   "cell_type": "code",
   "execution_count": null,
   "metadata": {
    "collapsed": true
   },
   "outputs": [],
   "source": []
  },
  {
   "cell_type": "code",
   "execution_count": 115,
   "metadata": {
    "collapsed": false
   },
   "outputs": [
    {
     "data": {
      "text/plain": [
       "Index(['speed', 'env_temp', 'env_wet', 'T1', 'T2', 'T3', 'T4', 'T5', 'radius',\n",
       "       'category'],\n",
       "      dtype='object')"
      ]
     },
     "execution_count": 115,
     "metadata": {},
     "output_type": "execute_result"
    }
   ],
   "source": [
    "df_2.columns"
   ]
  },
  {
   "cell_type": "code",
   "execution_count": 68,
   "metadata": {
    "collapsed": false
   },
   "outputs": [
    {
     "data": {
      "text/plain": [
       "48.0"
      ]
     },
     "execution_count": 68,
     "metadata": {},
     "output_type": "execute_result"
    }
   ],
   "source": [
    "len(df_2)/30"
   ]
  },
  {
   "cell_type": "code",
   "execution_count": 72,
   "metadata": {
    "collapsed": false
   },
   "outputs": [
    {
     "name": "stdout",
     "output_type": "stream",
     "text": [
      "[t-SNE] Computing pairwise distances...\n",
      "[t-SNE] Computing 151 nearest neighbors...\n",
      "[t-SNE] Computed conditional probabilities for sample 1000 / 1080\n",
      "[t-SNE] Computed conditional probabilities for sample 1080 / 1080\n",
      "[t-SNE] Mean sigma: 0.000000\n",
      "[t-SNE] Error after 100 iterations with early exaggeration: 0.100335\n",
      "[t-SNE] Error after 250 iterations: 0.093115\n"
     ]
    }
   ],
   "source": [
    "X_train, X_test, y_train, y_test = train_test_split(df_2[df_2.columns[0:8]],\n",
    "                     df_2[df_2.columns[9]],test_size=0.25,random_state=22)\n",
    "ss_X = StandardScaler()\n",
    "#ss_y = StandardScaler()\n",
    "X_train = ss_X.fit_transform(X_train)\n",
    "X_test = ss_X.transform(X_test)\n",
    "from sklearn.manifold import TSNE\n",
    "time_start = time.time()\n",
    "tsne = TSNE(n_components=2, verbose=1, perplexity=50, n_iter=300)\n",
    "tsne_results = tsne.fit_transform(X_train)\n",
    "\n",
    "#print 't-SNE done! Time elapsed: {} seconds'.format(time.time()-time_start)"
   ]
  },
  {
   "cell_type": "code",
   "execution_count": 73,
   "metadata": {
    "collapsed": false
   },
   "outputs": [
    {
     "data": {
      "image/png": "[encoded data removed]",
      "text/plain": [
       "<matplotlib.figure.Figure at 0x7fe06c050b00>"
      ]
     },
     "metadata": {},
     "output_type": "display_data"
    }
   ],
   "source": [
    "colors = y_train\n",
    "c = plt.scatter(tsne_results[:,0], tsne_results[:,1], c=colors, cmap=plt.cm.RdYlGn)"
   ]
  },
  {
   "cell_type": "code",
   "execution_count": 139,
   "metadata": {
    "collapsed": false
   },
   "outputs": [
    {
     "name": "stdout",
     "output_type": "stream",
     "text": [
      "[t-SNE] Computing pairwise distances...\n",
      "[t-SNE] Computing 16 nearest neighbors...\n",
      "[t-SNE] Computed conditional probabilities for sample 480 / 480\n",
      "[t-SNE] Mean sigma: 0.000000\n",
      "[t-SNE] Error after 100 iterations with early exaggeration: 1.131364\n",
      "[t-SNE] Error after 250 iterations: 0.946256\n"
     ]
    }
   ],
   "source": [
    "X_train, X_test, y_train, y_test = train_test_split(set_all_1,\n",
    "                     df_1['category'],test_size=0.2,random_state=22)\n",
    "ss_X = StandardScaler()\n",
    "#ss_y = StandardScaler()\n",
    "X_train = ss_X.fit_transform(X_train)\n",
    "X_test = ss_X.transform(X_test)\n",
    "from sklearn.manifold import TSNE\n",
    "time_start = time.time()\n",
    "tsne = TSNE(n_components=2, verbose=1, perplexity=5, n_iter=300)\n",
    "tsne_results = tsne.fit_transform(X_train)\n",
    "\n",
    "#print 't-SNE done! Time elapsed: {} seconds'.format(time.time()-time_start)"
   ]
  },
  {
   "cell_type": "code",
   "execution_count": 140,
   "metadata": {
    "collapsed": false
   },
   "outputs": [
    {
     "data": {
      "image/png": "[encoded data removed]",
      "text/plain": [
       "<matplotlib.figure.Figure at 0x7ff4b86e2320>"
      ]
     },
     "metadata": {},
     "output_type": "display_data"
    }
   ],
   "source": [
    "colors = y_train\n",
    "c = plt.scatter(tsne_results[:,0], tsne_results[:,1], c=colors, cmap=plt.cm.RdYlGn)"
   ]
  },
  {
   "cell_type": "code",
   "execution_count": 141,
   "metadata": {
    "collapsed": false
   },
   "outputs": [
    {
     "name": "stdout",
     "output_type": "stream",
     "text": [
      "[t-SNE] Computing pairwise distances...\n",
      "[t-SNE] Computing 16 nearest neighbors...\n",
      "[t-SNE] Computed conditional probabilities for sample 480 / 480\n",
      "[t-SNE] Mean sigma: 0.000000\n",
      "[t-SNE] Error after 100 iterations with early exaggeration: 1.100392\n",
      "[t-SNE] Error after 225 iterations: 0.950442\n"
     ]
    }
   ],
   "source": [
    "X_train, X_test, y_train, y_test = train_test_split(set_tw_1,\n",
    "                     df_1['category'],test_size=0.2,random_state=22)\n",
    "ss_X = StandardScaler()\n",
    "#ss_y = StandardScaler()\n",
    "X_train = ss_X.fit_transform(X_train)\n",
    "X_test = ss_X.transform(X_test)\n",
    "from sklearn.manifold import TSNE\n",
    "time_start = time.time()\n",
    "tsne = TSNE(n_components=2, verbose=1, perplexity=5, n_iter=300)\n",
    "tsne_results = tsne.fit_transform(X_train)\n"
   ]
  },
  {
   "cell_type": "code",
   "execution_count": 142,
   "metadata": {
    "collapsed": false
   },
   "outputs": [
    {
     "data": {
      "image/png": "[encoded data removed]",
      "text/plain": [
       "<matplotlib.figure.Figure at 0x7ff4b5579160>"
      ]
     },
     "metadata": {},
     "output_type": "display_data"
    }
   ],
   "source": [
    "colors = y_train\n",
    "c = plt.scatter(tsne_results[:,0], tsne_results[:,1], c=colors, cmap=plt.cm.RdYlGn)"
   ]
  },
  {
   "cell_type": "code",
   "execution_count": 171,
   "metadata": {
    "collapsed": false
   },
   "outputs": [
    {
     "name": "stdout",
     "output_type": "stream",
     "text": [
      "[t-SNE] Computing pairwise distances...\n",
      "[t-SNE] Computing 31 nearest neighbors...\n",
      "[t-SNE] Computed conditional probabilities for sample 480 / 480\n",
      "[t-SNE] Mean sigma: 0.000000\n",
      "[t-SNE] Error after 100 iterations with early exaggeration: 0.256681\n",
      "[t-SNE] Error after 175 iterations: 0.711764\n"
     ]
    }
   ],
   "source": [
    "X_train, X_test, y_train, y_test = train_test_split(set_T_1,\n",
    "                     df_1['category'],test_size=0.2,random_state=22)\n",
    "ss_X = StandardScaler()\n",
    "#ss_y = StandardScaler()\n",
    "X_train = ss_X.fit_transform(X_train)\n",
    "X_test = ss_X.transform(X_test)\n",
    "from sklearn.manifold import TSNE\n",
    "time_start = time.time()\n",
    "tsne = TSNE(n_components=2, verbose=1, perplexity=10, n_iter=300)\n",
    "tsne_results = tsne.fit_transform(X_train)"
   ]
  },
  {
   "cell_type": "code",
   "execution_count": 172,
   "metadata": {
    "collapsed": false
   },
   "outputs": [
    {
     "data": {
      "image/png": "[encoded data removed]",
      "text/plain": [
       "<matplotlib.figure.Figure at 0x7ff4b8372b00>"
      ]
     },
     "metadata": {},
     "output_type": "display_data"
    }
   ],
   "source": [
    "colors = y_train\n",
    "c = plt.scatter(tsne_results[:,0], tsne_results[:,1], c=colors, cmap=plt.cm.RdYlGn)"
   ]
  },
  {
   "cell_type": "code",
   "execution_count": 38,
   "metadata": {
    "collapsed": false
   },
   "outputs": [
    {
     "name": "stdout",
     "output_type": "stream",
     "text": [
      "48.0\n",
      "6.0  groups in each cluster\n",
      "180  points in each cluster\n"
     ]
    }
   ],
   "source": [
    "print(len(df_2)/30)\n",
    "print(48/8, ' groups in each cluster')\n",
    "print(30*6, ' points in each cluster')"
   ]
  },
  {
   "cell_type": "code",
   "execution_count": 33,
   "metadata": {
    "collapsed": false
   },
   "outputs": [
    {
     "data": {
      "text/plain": [
       "360"
      ]
     },
     "execution_count": 33,
     "metadata": {},
     "output_type": "execute_result"
    }
   ],
   "source": [
    "len(dataset[(dataset['env_temp']==31.1) & (dataset['env_wet']==73.5)])"
   ]
  },
  {
   "cell_type": "code",
   "execution_count": 40,
   "metadata": {
    "collapsed": false
   },
   "outputs": [
    {
     "data": {
      "text/plain": [
       "48.0"
      ]
     },
     "execution_count": 40,
     "metadata": {},
     "output_type": "execute_result"
    }
   ],
   "source": [
    "1440/30"
   ]
  },
  {
   "cell_type": "code",
   "execution_count": 50,
   "metadata": {
    "collapsed": false
   },
   "outputs": [
    {
     "data": {
      "text/plain": [
       "Index(['Unnamed: 0', 'group', 'date', 'time', 'piece', 'posi', 'speed',\n",
       "       'env_temp', 'env_wet', 'T1', 'T2', 'T3', 'T4', 'T5', 'radius',\n",
       "       'category'],\n",
       "      dtype='object')"
      ]
     },
     "execution_count": 50,
     "metadata": {},
     "output_type": "execute_result"
    }
   ],
   "source": [
    "dataset.columns"
   ]
  },
  {
   "cell_type": "code",
   "execution_count": 51,
   "metadata": {
    "collapsed": false
   },
   "outputs": [
    {
     "name": "stdout",
     "output_type": "stream",
     "text": [
      "600 31.1 73.5 604.0 2017-09-09 00:00:00\n",
      "630 32.4 68.3 605.0 2017-09-09 00:00:00\n",
      "660 32.4 68.5 605.0 2017-09-09 00:00:00\n",
      "690 31.3 68.3 604.0 2017-09-09 00:00:00\n",
      "720 31.1 73.5 604.0 2017-09-11 00:00:00\n",
      "750 32.4 68.3 605.0 2017-09-11 00:00:00\n",
      "780 32.4 68.5 605.0 2017-09-11 00:00:00\n",
      "810 31.3 68.3 604.0 2017-09-11 00:00:00\n",
      "840 31.1 73.5 604.0 2017-09-12 00:00:00\n",
      "870 32.4 68.3 605.0 2017-09-12 00:00:00\n",
      "900 32.4 68.5 605.0 2017-09-12 00:00:00\n",
      "930 31.3 68.3 604.0 2017-09-12 00:00:00\n",
      "960 31.1 73.5 604.0 2017-09-13 00:00:00\n",
      "990 32.4 68.3 605.0 2017-09-13 00:00:00\n",
      "1020 32.4 68.5 605.0 2017-09-13 00:00:00\n",
      "1050 31.3 68.3 604.0 2017-09-13 00:00:00\n",
      "1080 31.1 73.5 604.0 2017-09-14 00:00:00\n",
      "1110 32.4 68.3 605.0 2017-09-14 00:00:00\n",
      "1140 32.4 68.5 605.0 2017-09-14 00:00:00\n",
      "1170 31.3 68.3 604.0 2017-09-14 00:00:00\n",
      "1200 31.1 73.5 604.0 2017-09-15 00:00:00\n",
      "1230 32.4 68.3 605.0 2017-09-15 00:00:00\n",
      "1260 32.4 68.5 605.0 2017-09-15 00:00:00\n",
      "1290 31.3 68.3 604.0 2017-09-15 00:00:00\n",
      "1320 31.1 73.5 604.0 2017-09-16 00:00:00\n",
      "1350 32.4 68.3 605.0 2017-09-16 00:00:00\n",
      "1380 32.4 68.5 605.0 2017-09-16 00:00:00\n",
      "1410 31.3 68.3 604.0 2017-09-16 00:00:00\n",
      "1440 31.1 73.5 604.0 2017-09-18 00:00:00\n",
      "1470 32.4 68.3 605.0 2017-09-18 00:00:00\n",
      "1500 32.4 68.5 605.0 2017-09-18 00:00:00\n",
      "1530 31.3 68.3 604.0 2017-09-18 00:00:00\n",
      "1560 31.1 73.5 604.0 2017-09-19 00:00:00\n",
      "1590 32.4 68.3 605.0 2017-09-19 00:00:00\n",
      "1620 32.4 68.5 605.0 2017-09-19 00:00:00\n",
      "1650 31.3 68.3 604.0 2017-09-19 00:00:00\n",
      "1680 31.1 73.5 604.0 2017-09-20 00:00:00\n",
      "1710 32.4 68.3 605.0 2017-09-20 00:00:00\n",
      "1740 32.4 68.5 605.0 2017-09-20 00:00:00\n",
      "1770 31.3 68.3 604.0 2017-09-20 00:00:00\n",
      "1800 31.1 73.5 604.0 2017-09-21 00:00:00\n",
      "1830 32.4 68.3 605.0 2017-09-21 00:00:00\n",
      "1860 32.4 68.5 605.0 2017-09-21 00:00:00\n",
      "1890 31.3 68.3 604.0 2017-09-21 00:00:00\n",
      "1920 31.1 73.5 604.0 2017-09-22 00:00:00\n",
      "1950 32.4 68.3 605.0 2017-09-22 00:00:00\n",
      "1980 32.4 68.5 605.0 2017-09-22 00:00:00\n",
      "2010 31.3 68.3 604.0 2017-09-22 00:00:00\n"
     ]
    }
   ],
   "source": [
    "for i in range(600,2040,30):\n",
    "    print(i, dataset['env_temp'][i], dataset['env_wet'][i], dataset['T1'][i], dataset['date'][i] )"
   ]
  },
  {
   "cell_type": "code",
   "execution_count": 11,
   "metadata": {
    "collapsed": false
   },
   "outputs": [
    {
     "name": "stdout",
     "output_type": "stream",
     "text": [
      "0 31.3 73.5 709.0\n",
      "1 32.9 68.4 710.0\n",
      "2 34.7 64.9 709.0\n",
      "3 35.3 61.0 710.0\n",
      "4 32.3 71.4 711.0\n",
      "5 33.9 62.9 710.0\n",
      "6 34.7 64.9 709.0\n",
      "7 35.3 61.0 710.0\n",
      "8 32.0 71.7 710.0\n",
      "9 33.4 65.6 708.0\n",
      "10 34.8 61.6 709.0\n",
      "11 34.7 62.0 713.0\n",
      "12 32.3 71.4 711.0\n",
      "13 33.9 62.9 710.0\n",
      "14 34.7 64.9 709.0\n",
      "15 35.3 61.0 710.0\n",
      "16 32.3 71.4 711.0\n",
      "17 33.9 62.9 710.0\n",
      "18 34.7 64.9 709.0\n",
      "19 35.3 61.0 710.0\n"
     ]
    }
   ],
   "source": [
    "for i in range(20):\n",
    "    print(i, df_1['env_temp'][30*i], df_1['env_wet'][30*i], df_1['T2'][30*i] )"
   ]
  },
  {
   "cell_type": "code",
   "execution_count": null,
   "metadata": {
    "collapsed": true
   },
   "outputs": [],
   "source": [
    "'''    R ~ 600\n",
    "(       0904_a 0906_a 0907_a)\n",
    "(       0904_b 0906_b 0907_b)\n",
    "(0901_c 0904_c 0906_c 0907_c)\n",
    "(0901_d 0904_d 0906_d 0907_d)\n",
    "\n",
    "0909\n",
    "0911\n",
    "0912\n",
    "0913\n",
    "0914\n",
    "0915\n",
    "0916\n",
    "0918\n",
    "0919\n",
    "0920\n",
    "0921\n",
    "0922\n",
    "\n",
    "\n",
    "\n",
    "\n",
    "'''"
   ]
  },
  {
   "cell_type": "code",
   "execution_count": 60,
   "metadata": {
    "collapsed": false
   },
   "outputs": [
    {
     "data": {
      "text/html": [
       "<div>\n",
       "<table border=\"1\" class=\"dataframe\">\n",
       "  <thead>\n",
       "    <tr style=\"text-align: right;\">\n",
       "      <th></th>\n",
       "      <th>Unnamed: 0</th>\n",
       "      <th>group</th>\n",
       "      <th>date</th>\n",
       "      <th>time</th>\n",
       "      <th>piece</th>\n",
       "      <th>posi</th>\n",
       "      <th>speed</th>\n",
       "      <th>env_temp</th>\n",
       "      <th>env_wet</th>\n",
       "      <th>T1</th>\n",
       "      <th>T2</th>\n",
       "      <th>T3</th>\n",
       "      <th>T4</th>\n",
       "      <th>T5</th>\n",
       "      <th>radius</th>\n",
       "      <th>category</th>\n",
       "    </tr>\n",
       "  </thead>\n",
       "  <tbody>\n",
       "    <tr>\n",
       "      <th>120</th>\n",
       "      <td>120</td>\n",
       "      <td>5.0</td>\n",
       "      <td>2017-09-04 00:00:00</td>\n",
       "      <td>08:23:00</td>\n",
       "      <td>1.0</td>\n",
       "      <td>1.0</td>\n",
       "      <td>32.34</td>\n",
       "      <td>32.3</td>\n",
       "      <td>71.4</td>\n",
       "      <td>586.0</td>\n",
       "      <td>711.0</td>\n",
       "      <td>705.0</td>\n",
       "      <td>580.0</td>\n",
       "      <td>457.0</td>\n",
       "      <td>604.9875</td>\n",
       "      <td>1</td>\n",
       "    </tr>\n",
       "  </tbody>\n",
       "</table>\n",
       "</div>"
      ],
      "text/plain": [
       "     Unnamed: 0  group                 date      time  piece  posi  speed  \\\n",
       "120         120    5.0  2017-09-04 00:00:00  08:23:00    1.0   1.0  32.34   \n",
       "\n",
       "     env_temp  env_wet     T1     T2     T3     T4     T5    radius  category  \n",
       "120      32.3     71.4  586.0  711.0  705.0  580.0  457.0  604.9875         1  "
      ]
     },
     "execution_count": 60,
     "metadata": {},
     "output_type": "execute_result"
    }
   ],
   "source": [
    "dataset[(dataset['env_temp']==32.3) & (dataset['env_wet']==71.4)][0:1]"
   ]
  },
  {
   "cell_type": "code",
   "execution_count": 59,
   "metadata": {
    "collapsed": false,
    "scrolled": true
   },
   "outputs": [
    {
     "data": {
      "text/html": [
       "<div>\n",
       "<table border=\"1\" class=\"dataframe\">\n",
       "  <thead>\n",
       "    <tr style=\"text-align: right;\">\n",
       "      <th></th>\n",
       "      <th>Unnamed: 0</th>\n",
       "      <th>group</th>\n",
       "      <th>date</th>\n",
       "      <th>time</th>\n",
       "      <th>piece</th>\n",
       "      <th>posi</th>\n",
       "      <th>speed</th>\n",
       "      <th>env_temp</th>\n",
       "      <th>env_wet</th>\n",
       "      <th>T1</th>\n",
       "      <th>T2</th>\n",
       "      <th>T3</th>\n",
       "      <th>T4</th>\n",
       "      <th>T5</th>\n",
       "      <th>radius</th>\n",
       "      <th>category</th>\n",
       "    </tr>\n",
       "  </thead>\n",
       "  <tbody>\n",
       "    <tr>\n",
       "      <th>360</th>\n",
       "      <td>360</td>\n",
       "      <td>13.0</td>\n",
       "      <td>2017-09-06 00:00:00</td>\n",
       "      <td>08:23:00</td>\n",
       "      <td>1.0</td>\n",
       "      <td>1.0</td>\n",
       "      <td>32.34</td>\n",
       "      <td>32.3</td>\n",
       "      <td>71.4</td>\n",
       "      <td>586.0</td>\n",
       "      <td>711.0</td>\n",
       "      <td>705.0</td>\n",
       "      <td>580.0</td>\n",
       "      <td>457.0</td>\n",
       "      <td>617.118318</td>\n",
       "      <td>1</td>\n",
       "    </tr>\n",
       "  </tbody>\n",
       "</table>\n",
       "</div>"
      ],
      "text/plain": [
       "     Unnamed: 0  group                 date      time  piece  posi  speed  \\\n",
       "360         360   13.0  2017-09-06 00:00:00  08:23:00    1.0   1.0  32.34   \n",
       "\n",
       "     env_temp  env_wet     T1     T2     T3     T4     T5      radius  \\\n",
       "360      32.3     71.4  586.0  711.0  705.0  580.0  457.0  617.118318   \n",
       "\n",
       "     category  \n",
       "360         1  "
      ]
     },
     "execution_count": 59,
     "metadata": {},
     "output_type": "execute_result"
    }
   ],
   "source": [
    "dataset[(dataset['env_temp']==32.3) & (dataset['env_wet']==71.4)][30:31]"
   ]
  },
  {
   "cell_type": "code",
   "execution_count": 58,
   "metadata": {
    "collapsed": false
   },
   "outputs": [
    {
     "data": {
      "text/html": [
       "<div>\n",
       "<table border=\"1\" class=\"dataframe\">\n",
       "  <thead>\n",
       "    <tr style=\"text-align: right;\">\n",
       "      <th></th>\n",
       "      <th>Unnamed: 0</th>\n",
       "      <th>group</th>\n",
       "      <th>date</th>\n",
       "      <th>time</th>\n",
       "      <th>piece</th>\n",
       "      <th>posi</th>\n",
       "      <th>speed</th>\n",
       "      <th>env_temp</th>\n",
       "      <th>env_wet</th>\n",
       "      <th>T1</th>\n",
       "      <th>T2</th>\n",
       "      <th>T3</th>\n",
       "      <th>T4</th>\n",
       "      <th>T5</th>\n",
       "      <th>radius</th>\n",
       "      <th>category</th>\n",
       "    </tr>\n",
       "  </thead>\n",
       "  <tbody>\n",
       "    <tr>\n",
       "      <th>480</th>\n",
       "      <td>480</td>\n",
       "      <td>17.0</td>\n",
       "      <td>2017-09-07 00:00:00</td>\n",
       "      <td>08:25:00</td>\n",
       "      <td>1.0</td>\n",
       "      <td>1.0</td>\n",
       "      <td>32.34</td>\n",
       "      <td>32.3</td>\n",
       "      <td>71.4</td>\n",
       "      <td>586.0</td>\n",
       "      <td>711.0</td>\n",
       "      <td>705.0</td>\n",
       "      <td>580.0</td>\n",
       "      <td>457.0</td>\n",
       "      <td>617.748159</td>\n",
       "      <td>1</td>\n",
       "    </tr>\n",
       "  </tbody>\n",
       "</table>\n",
       "</div>"
      ],
      "text/plain": [
       "     Unnamed: 0  group                 date      time  piece  posi  speed  \\\n",
       "480         480   17.0  2017-09-07 00:00:00  08:25:00    1.0   1.0  32.34   \n",
       "\n",
       "     env_temp  env_wet     T1     T2     T3     T4     T5      radius  \\\n",
       "480      32.3     71.4  586.0  711.0  705.0  580.0  457.0  617.748159   \n",
       "\n",
       "     category  \n",
       "480         1  "
      ]
     },
     "execution_count": 58,
     "metadata": {},
     "output_type": "execute_result"
    }
   ],
   "source": [
    "dataset[(dataset['env_temp']==32.3) & (dataset['env_wet']==71.4)][60:61]"
   ]
  },
  {
   "cell_type": "code",
   "execution_count": null,
   "metadata": {
    "collapsed": true
   },
   "outputs": [],
   "source": []
  },
  {
   "cell_type": "code",
   "execution_count": null,
   "metadata": {
    "collapsed": true
   },
   "outputs": [],
   "source": []
  },
  {
   "cell_type": "code",
   "execution_count": 46,
   "metadata": {
    "collapsed": false
   },
   "outputs": [
    {
     "name": "stdout",
     "output_type": "stream",
     "text": [
      "3.0\n"
     ]
    }
   ],
   "source": [
    "print(len(dataset[(dataset['env_temp']==32.3) & (dataset['env_wet']==71.4)])/30)"
   ]
  },
  {
   "cell_type": "code",
   "execution_count": 61,
   "metadata": {
    "collapsed": false
   },
   "outputs": [
    {
     "name": "stdout",
     "output_type": "stream",
     "text": [
      "4.0\n"
     ]
    }
   ],
   "source": [
    "print(len(dataset[(dataset['env_temp']==34.7) & (dataset['env_wet']==64.9)])/30)"
   ]
  },
  {
   "cell_type": "code",
   "execution_count": 63,
   "metadata": {
    "collapsed": false
   },
   "outputs": [
    {
     "data": {
      "text/html": [
       "<div>\n",
       "<table border=\"1\" class=\"dataframe\">\n",
       "  <thead>\n",
       "    <tr style=\"text-align: right;\">\n",
       "      <th></th>\n",
       "      <th>Unnamed: 0</th>\n",
       "      <th>group</th>\n",
       "      <th>date</th>\n",
       "      <th>time</th>\n",
       "      <th>piece</th>\n",
       "      <th>posi</th>\n",
       "      <th>speed</th>\n",
       "      <th>env_temp</th>\n",
       "      <th>env_wet</th>\n",
       "      <th>T1</th>\n",
       "      <th>T2</th>\n",
       "      <th>T3</th>\n",
       "      <th>T4</th>\n",
       "      <th>T5</th>\n",
       "      <th>radius</th>\n",
       "      <th>category</th>\n",
       "    </tr>\n",
       "  </thead>\n",
       "  <tbody>\n",
       "    <tr>\n",
       "      <th>60</th>\n",
       "      <td>60</td>\n",
       "      <td>3.0</td>\n",
       "      <td>2017-09-01 00:00:00</td>\n",
       "      <td>13:21:00</td>\n",
       "      <td>1.0</td>\n",
       "      <td>1.0</td>\n",
       "      <td>32.34</td>\n",
       "      <td>34.7</td>\n",
       "      <td>64.9</td>\n",
       "      <td>579.0</td>\n",
       "      <td>709.0</td>\n",
       "      <td>706.0</td>\n",
       "      <td>580.0</td>\n",
       "      <td>461.0</td>\n",
       "      <td>609.045812</td>\n",
       "      <td>1</td>\n",
       "    </tr>\n",
       "    <tr>\n",
       "      <th>61</th>\n",
       "      <td>61</td>\n",
       "      <td>3.0</td>\n",
       "      <td>2017-09-01 00:00:00</td>\n",
       "      <td>13:21:00</td>\n",
       "      <td>1.0</td>\n",
       "      <td>2.0</td>\n",
       "      <td>32.34</td>\n",
       "      <td>34.7</td>\n",
       "      <td>64.9</td>\n",
       "      <td>579.0</td>\n",
       "      <td>709.0</td>\n",
       "      <td>706.0</td>\n",
       "      <td>580.0</td>\n",
       "      <td>461.0</td>\n",
       "      <td>613.158980</td>\n",
       "      <td>1</td>\n",
       "    </tr>\n",
       "    <tr>\n",
       "      <th>62</th>\n",
       "      <td>62</td>\n",
       "      <td>3.0</td>\n",
       "      <td>2017-09-01 00:00:00</td>\n",
       "      <td>13:21:00</td>\n",
       "      <td>1.0</td>\n",
       "      <td>3.0</td>\n",
       "      <td>32.34</td>\n",
       "      <td>34.7</td>\n",
       "      <td>64.9</td>\n",
       "      <td>579.0</td>\n",
       "      <td>709.0</td>\n",
       "      <td>706.0</td>\n",
       "      <td>580.0</td>\n",
       "      <td>461.0</td>\n",
       "      <td>615.236483</td>\n",
       "      <td>1</td>\n",
       "    </tr>\n",
       "    <tr>\n",
       "      <th>63</th>\n",
       "      <td>63</td>\n",
       "      <td>3.0</td>\n",
       "      <td>2017-09-01 00:00:00</td>\n",
       "      <td>13:21:00</td>\n",
       "      <td>1.0</td>\n",
       "      <td>4.0</td>\n",
       "      <td>32.34</td>\n",
       "      <td>34.7</td>\n",
       "      <td>64.9</td>\n",
       "      <td>579.0</td>\n",
       "      <td>709.0</td>\n",
       "      <td>706.0</td>\n",
       "      <td>580.0</td>\n",
       "      <td>461.0</td>\n",
       "      <td>621.554390</td>\n",
       "      <td>1</td>\n",
       "    </tr>\n",
       "    <tr>\n",
       "      <th>64</th>\n",
       "      <td>64</td>\n",
       "      <td>3.0</td>\n",
       "      <td>2017-09-01 00:00:00</td>\n",
       "      <td>13:21:00</td>\n",
       "      <td>1.0</td>\n",
       "      <td>5.0</td>\n",
       "      <td>32.34</td>\n",
       "      <td>34.7</td>\n",
       "      <td>64.9</td>\n",
       "      <td>579.0</td>\n",
       "      <td>709.0</td>\n",
       "      <td>706.0</td>\n",
       "      <td>580.0</td>\n",
       "      <td>461.0</td>\n",
       "      <td>604.987500</td>\n",
       "      <td>1</td>\n",
       "    </tr>\n",
       "    <tr>\n",
       "      <th>65</th>\n",
       "      <td>65</td>\n",
       "      <td>3.0</td>\n",
       "      <td>2017-09-01 00:00:00</td>\n",
       "      <td>13:21:00</td>\n",
       "      <td>1.0</td>\n",
       "      <td>6.0</td>\n",
       "      <td>32.34</td>\n",
       "      <td>34.7</td>\n",
       "      <td>64.9</td>\n",
       "      <td>579.0</td>\n",
       "      <td>709.0</td>\n",
       "      <td>706.0</td>\n",
       "      <td>580.0</td>\n",
       "      <td>461.0</td>\n",
       "      <td>617.328122</td>\n",
       "      <td>1</td>\n",
       "    </tr>\n",
       "    <tr>\n",
       "      <th>66</th>\n",
       "      <td>66</td>\n",
       "      <td>3.0</td>\n",
       "      <td>2017-09-01 00:00:00</td>\n",
       "      <td>13:21:00</td>\n",
       "      <td>2.0</td>\n",
       "      <td>1.0</td>\n",
       "      <td>32.34</td>\n",
       "      <td>34.7</td>\n",
       "      <td>64.9</td>\n",
       "      <td>579.0</td>\n",
       "      <td>709.0</td>\n",
       "      <td>706.0</td>\n",
       "      <td>580.0</td>\n",
       "      <td>461.0</td>\n",
       "      <td>604.987500</td>\n",
       "      <td>1</td>\n",
       "    </tr>\n",
       "    <tr>\n",
       "      <th>67</th>\n",
       "      <td>67</td>\n",
       "      <td>3.0</td>\n",
       "      <td>2017-09-01 00:00:00</td>\n",
       "      <td>13:21:00</td>\n",
       "      <td>2.0</td>\n",
       "      <td>2.0</td>\n",
       "      <td>32.34</td>\n",
       "      <td>34.7</td>\n",
       "      <td>64.9</td>\n",
       "      <td>579.0</td>\n",
       "      <td>709.0</td>\n",
       "      <td>706.0</td>\n",
       "      <td>580.0</td>\n",
       "      <td>461.0</td>\n",
       "      <td>609.045812</td>\n",
       "      <td>1</td>\n",
       "    </tr>\n",
       "    <tr>\n",
       "      <th>68</th>\n",
       "      <td>68</td>\n",
       "      <td>3.0</td>\n",
       "      <td>2017-09-01 00:00:00</td>\n",
       "      <td>13:21:00</td>\n",
       "      <td>2.0</td>\n",
       "      <td>3.0</td>\n",
       "      <td>32.34</td>\n",
       "      <td>34.7</td>\n",
       "      <td>64.9</td>\n",
       "      <td>579.0</td>\n",
       "      <td>709.0</td>\n",
       "      <td>706.0</td>\n",
       "      <td>580.0</td>\n",
       "      <td>461.0</td>\n",
       "      <td>615.236483</td>\n",
       "      <td>1</td>\n",
       "    </tr>\n",
       "    <tr>\n",
       "      <th>69</th>\n",
       "      <td>69</td>\n",
       "      <td>3.0</td>\n",
       "      <td>2017-09-01 00:00:00</td>\n",
       "      <td>13:21:00</td>\n",
       "      <td>2.0</td>\n",
       "      <td>4.0</td>\n",
       "      <td>32.34</td>\n",
       "      <td>34.7</td>\n",
       "      <td>64.9</td>\n",
       "      <td>579.0</td>\n",
       "      <td>709.0</td>\n",
       "      <td>706.0</td>\n",
       "      <td>580.0</td>\n",
       "      <td>461.0</td>\n",
       "      <td>613.158980</td>\n",
       "      <td>1</td>\n",
       "    </tr>\n",
       "    <tr>\n",
       "      <th>70</th>\n",
       "      <td>70</td>\n",
       "      <td>3.0</td>\n",
       "      <td>2017-09-01 00:00:00</td>\n",
       "      <td>13:21:00</td>\n",
       "      <td>2.0</td>\n",
       "      <td>5.0</td>\n",
       "      <td>32.34</td>\n",
       "      <td>34.7</td>\n",
       "      <td>64.9</td>\n",
       "      <td>579.0</td>\n",
       "      <td>709.0</td>\n",
       "      <td>706.0</td>\n",
       "      <td>580.0</td>\n",
       "      <td>461.0</td>\n",
       "      <td>602.978573</td>\n",
       "      <td>1</td>\n",
       "    </tr>\n",
       "    <tr>\n",
       "      <th>71</th>\n",
       "      <td>71</td>\n",
       "      <td>3.0</td>\n",
       "      <td>2017-09-01 00:00:00</td>\n",
       "      <td>13:21:00</td>\n",
       "      <td>2.0</td>\n",
       "      <td>6.0</td>\n",
       "      <td>32.34</td>\n",
       "      <td>34.7</td>\n",
       "      <td>64.9</td>\n",
       "      <td>579.0</td>\n",
       "      <td>709.0</td>\n",
       "      <td>706.0</td>\n",
       "      <td>580.0</td>\n",
       "      <td>461.0</td>\n",
       "      <td>615.236483</td>\n",
       "      <td>1</td>\n",
       "    </tr>\n",
       "    <tr>\n",
       "      <th>72</th>\n",
       "      <td>72</td>\n",
       "      <td>3.0</td>\n",
       "      <td>2017-09-01 00:00:00</td>\n",
       "      <td>13:21:00</td>\n",
       "      <td>3.0</td>\n",
       "      <td>1.0</td>\n",
       "      <td>32.34</td>\n",
       "      <td>34.7</td>\n",
       "      <td>64.9</td>\n",
       "      <td>579.0</td>\n",
       "      <td>709.0</td>\n",
       "      <td>706.0</td>\n",
       "      <td>580.0</td>\n",
       "      <td>461.0</td>\n",
       "      <td>613.158980</td>\n",
       "      <td>1</td>\n",
       "    </tr>\n",
       "    <tr>\n",
       "      <th>73</th>\n",
       "      <td>73</td>\n",
       "      <td>3.0</td>\n",
       "      <td>2017-09-01 00:00:00</td>\n",
       "      <td>13:21:00</td>\n",
       "      <td>3.0</td>\n",
       "      <td>2.0</td>\n",
       "      <td>32.34</td>\n",
       "      <td>34.7</td>\n",
       "      <td>64.9</td>\n",
       "      <td>579.0</td>\n",
       "      <td>709.0</td>\n",
       "      <td>706.0</td>\n",
       "      <td>580.0</td>\n",
       "      <td>461.0</td>\n",
       "      <td>625.838966</td>\n",
       "      <td>1</td>\n",
       "    </tr>\n",
       "    <tr>\n",
       "      <th>74</th>\n",
       "      <td>74</td>\n",
       "      <td>3.0</td>\n",
       "      <td>2017-09-01 00:00:00</td>\n",
       "      <td>13:21:00</td>\n",
       "      <td>3.0</td>\n",
       "      <td>3.0</td>\n",
       "      <td>32.34</td>\n",
       "      <td>34.7</td>\n",
       "      <td>64.9</td>\n",
       "      <td>579.0</td>\n",
       "      <td>709.0</td>\n",
       "      <td>706.0</td>\n",
       "      <td>580.0</td>\n",
       "      <td>461.0</td>\n",
       "      <td>617.328122</td>\n",
       "      <td>1</td>\n",
       "    </tr>\n",
       "    <tr>\n",
       "      <th>75</th>\n",
       "      <td>75</td>\n",
       "      <td>3.0</td>\n",
       "      <td>2017-09-01 00:00:00</td>\n",
       "      <td>13:21:00</td>\n",
       "      <td>3.0</td>\n",
       "      <td>4.0</td>\n",
       "      <td>32.34</td>\n",
       "      <td>34.7</td>\n",
       "      <td>64.9</td>\n",
       "      <td>579.0</td>\n",
       "      <td>709.0</td>\n",
       "      <td>706.0</td>\n",
       "      <td>580.0</td>\n",
       "      <td>461.0</td>\n",
       "      <td>621.554390</td>\n",
       "      <td>1</td>\n",
       "    </tr>\n",
       "    <tr>\n",
       "      <th>76</th>\n",
       "      <td>76</td>\n",
       "      <td>3.0</td>\n",
       "      <td>2017-09-01 00:00:00</td>\n",
       "      <td>13:21:00</td>\n",
       "      <td>3.0</td>\n",
       "      <td>5.0</td>\n",
       "      <td>32.34</td>\n",
       "      <td>34.7</td>\n",
       "      <td>64.9</td>\n",
       "      <td>579.0</td>\n",
       "      <td>709.0</td>\n",
       "      <td>706.0</td>\n",
       "      <td>580.0</td>\n",
       "      <td>461.0</td>\n",
       "      <td>613.158980</td>\n",
       "      <td>1</td>\n",
       "    </tr>\n",
       "    <tr>\n",
       "      <th>77</th>\n",
       "      <td>77</td>\n",
       "      <td>3.0</td>\n",
       "      <td>2017-09-01 00:00:00</td>\n",
       "      <td>13:21:00</td>\n",
       "      <td>3.0</td>\n",
       "      <td>6.0</td>\n",
       "      <td>32.34</td>\n",
       "      <td>34.7</td>\n",
       "      <td>64.9</td>\n",
       "      <td>579.0</td>\n",
       "      <td>709.0</td>\n",
       "      <td>706.0</td>\n",
       "      <td>580.0</td>\n",
       "      <td>461.0</td>\n",
       "      <td>621.554390</td>\n",
       "      <td>1</td>\n",
       "    </tr>\n",
       "    <tr>\n",
       "      <th>78</th>\n",
       "      <td>78</td>\n",
       "      <td>3.0</td>\n",
       "      <td>2017-09-01 00:00:00</td>\n",
       "      <td>13:21:00</td>\n",
       "      <td>4.0</td>\n",
       "      <td>1.0</td>\n",
       "      <td>32.34</td>\n",
       "      <td>34.7</td>\n",
       "      <td>64.9</td>\n",
       "      <td>579.0</td>\n",
       "      <td>709.0</td>\n",
       "      <td>706.0</td>\n",
       "      <td>580.0</td>\n",
       "      <td>461.0</td>\n",
       "      <td>615.236483</td>\n",
       "      <td>1</td>\n",
       "    </tr>\n",
       "    <tr>\n",
       "      <th>79</th>\n",
       "      <td>79</td>\n",
       "      <td>3.0</td>\n",
       "      <td>2017-09-01 00:00:00</td>\n",
       "      <td>13:21:00</td>\n",
       "      <td>4.0</td>\n",
       "      <td>2.0</td>\n",
       "      <td>32.34</td>\n",
       "      <td>34.7</td>\n",
       "      <td>64.9</td>\n",
       "      <td>579.0</td>\n",
       "      <td>709.0</td>\n",
       "      <td>706.0</td>\n",
       "      <td>580.0</td>\n",
       "      <td>461.0</td>\n",
       "      <td>619.434043</td>\n",
       "      <td>1</td>\n",
       "    </tr>\n",
       "    <tr>\n",
       "      <th>80</th>\n",
       "      <td>80</td>\n",
       "      <td>3.0</td>\n",
       "      <td>2017-09-01 00:00:00</td>\n",
       "      <td>13:21:00</td>\n",
       "      <td>4.0</td>\n",
       "      <td>3.0</td>\n",
       "      <td>32.34</td>\n",
       "      <td>34.7</td>\n",
       "      <td>64.9</td>\n",
       "      <td>579.0</td>\n",
       "      <td>709.0</td>\n",
       "      <td>706.0</td>\n",
       "      <td>580.0</td>\n",
       "      <td>461.0</td>\n",
       "      <td>617.328122</td>\n",
       "      <td>1</td>\n",
       "    </tr>\n",
       "    <tr>\n",
       "      <th>81</th>\n",
       "      <td>81</td>\n",
       "      <td>3.0</td>\n",
       "      <td>2017-09-01 00:00:00</td>\n",
       "      <td>13:21:00</td>\n",
       "      <td>4.0</td>\n",
       "      <td>4.0</td>\n",
       "      <td>32.34</td>\n",
       "      <td>34.7</td>\n",
       "      <td>64.9</td>\n",
       "      <td>579.0</td>\n",
       "      <td>709.0</td>\n",
       "      <td>706.0</td>\n",
       "      <td>580.0</td>\n",
       "      <td>461.0</td>\n",
       "      <td>611.095470</td>\n",
       "      <td>1</td>\n",
       "    </tr>\n",
       "    <tr>\n",
       "      <th>82</th>\n",
       "      <td>82</td>\n",
       "      <td>3.0</td>\n",
       "      <td>2017-09-01 00:00:00</td>\n",
       "      <td>13:21:00</td>\n",
       "      <td>4.0</td>\n",
       "      <td>5.0</td>\n",
       "      <td>32.34</td>\n",
       "      <td>34.7</td>\n",
       "      <td>64.9</td>\n",
       "      <td>579.0</td>\n",
       "      <td>709.0</td>\n",
       "      <td>706.0</td>\n",
       "      <td>580.0</td>\n",
       "      <td>461.0</td>\n",
       "      <td>604.987500</td>\n",
       "      <td>1</td>\n",
       "    </tr>\n",
       "    <tr>\n",
       "      <th>83</th>\n",
       "      <td>83</td>\n",
       "      <td>3.0</td>\n",
       "      <td>2017-09-01 00:00:00</td>\n",
       "      <td>13:21:00</td>\n",
       "      <td>4.0</td>\n",
       "      <td>6.0</td>\n",
       "      <td>32.34</td>\n",
       "      <td>34.7</td>\n",
       "      <td>64.9</td>\n",
       "      <td>579.0</td>\n",
       "      <td>709.0</td>\n",
       "      <td>706.0</td>\n",
       "      <td>580.0</td>\n",
       "      <td>461.0</td>\n",
       "      <td>617.328122</td>\n",
       "      <td>1</td>\n",
       "    </tr>\n",
       "    <tr>\n",
       "      <th>84</th>\n",
       "      <td>84</td>\n",
       "      <td>3.0</td>\n",
       "      <td>2017-09-01 00:00:00</td>\n",
       "      <td>13:21:00</td>\n",
       "      <td>5.0</td>\n",
       "      <td>1.0</td>\n",
       "      <td>32.34</td>\n",
       "      <td>34.7</td>\n",
       "      <td>64.9</td>\n",
       "      <td>579.0</td>\n",
       "      <td>709.0</td>\n",
       "      <td>706.0</td>\n",
       "      <td>580.0</td>\n",
       "      <td>461.0</td>\n",
       "      <td>613.158980</td>\n",
       "      <td>1</td>\n",
       "    </tr>\n",
       "    <tr>\n",
       "      <th>85</th>\n",
       "      <td>85</td>\n",
       "      <td>3.0</td>\n",
       "      <td>2017-09-01 00:00:00</td>\n",
       "      <td>13:21:00</td>\n",
       "      <td>5.0</td>\n",
       "      <td>2.0</td>\n",
       "      <td>32.34</td>\n",
       "      <td>34.7</td>\n",
       "      <td>64.9</td>\n",
       "      <td>579.0</td>\n",
       "      <td>709.0</td>\n",
       "      <td>706.0</td>\n",
       "      <td>580.0</td>\n",
       "      <td>461.0</td>\n",
       "      <td>609.045812</td>\n",
       "      <td>1</td>\n",
       "    </tr>\n",
       "    <tr>\n",
       "      <th>86</th>\n",
       "      <td>86</td>\n",
       "      <td>3.0</td>\n",
       "      <td>2017-09-01 00:00:00</td>\n",
       "      <td>13:21:00</td>\n",
       "      <td>5.0</td>\n",
       "      <td>3.0</td>\n",
       "      <td>32.34</td>\n",
       "      <td>34.7</td>\n",
       "      <td>64.9</td>\n",
       "      <td>579.0</td>\n",
       "      <td>709.0</td>\n",
       "      <td>706.0</td>\n",
       "      <td>580.0</td>\n",
       "      <td>461.0</td>\n",
       "      <td>607.009868</td>\n",
       "      <td>1</td>\n",
       "    </tr>\n",
       "    <tr>\n",
       "      <th>87</th>\n",
       "      <td>87</td>\n",
       "      <td>3.0</td>\n",
       "      <td>2017-09-01 00:00:00</td>\n",
       "      <td>13:21:00</td>\n",
       "      <td>5.0</td>\n",
       "      <td>4.0</td>\n",
       "      <td>32.34</td>\n",
       "      <td>34.7</td>\n",
       "      <td>64.9</td>\n",
       "      <td>579.0</td>\n",
       "      <td>709.0</td>\n",
       "      <td>706.0</td>\n",
       "      <td>580.0</td>\n",
       "      <td>461.0</td>\n",
       "      <td>602.978573</td>\n",
       "      <td>1</td>\n",
       "    </tr>\n",
       "    <tr>\n",
       "      <th>88</th>\n",
       "      <td>88</td>\n",
       "      <td>3.0</td>\n",
       "      <td>2017-09-01 00:00:00</td>\n",
       "      <td>13:21:00</td>\n",
       "      <td>5.0</td>\n",
       "      <td>5.0</td>\n",
       "      <td>32.34</td>\n",
       "      <td>34.7</td>\n",
       "      <td>64.9</td>\n",
       "      <td>579.0</td>\n",
       "      <td>709.0</td>\n",
       "      <td>706.0</td>\n",
       "      <td>580.0</td>\n",
       "      <td>461.0</td>\n",
       "      <td>609.045812</td>\n",
       "      <td>1</td>\n",
       "    </tr>\n",
       "    <tr>\n",
       "      <th>89</th>\n",
       "      <td>89</td>\n",
       "      <td>3.0</td>\n",
       "      <td>2017-09-01 00:00:00</td>\n",
       "      <td>13:21:00</td>\n",
       "      <td>5.0</td>\n",
       "      <td>6.0</td>\n",
       "      <td>32.34</td>\n",
       "      <td>34.7</td>\n",
       "      <td>64.9</td>\n",
       "      <td>579.0</td>\n",
       "      <td>709.0</td>\n",
       "      <td>706.0</td>\n",
       "      <td>580.0</td>\n",
       "      <td>461.0</td>\n",
       "      <td>613.158980</td>\n",
       "      <td>1</td>\n",
       "    </tr>\n",
       "    <tr>\n",
       "      <th>...</th>\n",
       "      <td>...</td>\n",
       "      <td>...</td>\n",
       "      <td>...</td>\n",
       "      <td>...</td>\n",
       "      <td>...</td>\n",
       "      <td>...</td>\n",
       "      <td>...</td>\n",
       "      <td>...</td>\n",
       "      <td>...</td>\n",
       "      <td>...</td>\n",
       "      <td>...</td>\n",
       "      <td>...</td>\n",
       "      <td>...</td>\n",
       "      <td>...</td>\n",
       "      <td>...</td>\n",
       "      <td>...</td>\n",
       "    </tr>\n",
       "    <tr>\n",
       "      <th>540</th>\n",
       "      <td>540</td>\n",
       "      <td>19.0</td>\n",
       "      <td>2017-09-07 00:00:00</td>\n",
       "      <td>13:27:00</td>\n",
       "      <td>1.0</td>\n",
       "      <td>1.0</td>\n",
       "      <td>32.34</td>\n",
       "      <td>34.7</td>\n",
       "      <td>64.9</td>\n",
       "      <td>579.0</td>\n",
       "      <td>709.0</td>\n",
       "      <td>706.0</td>\n",
       "      <td>580.0</td>\n",
       "      <td>461.0</td>\n",
       "      <td>609.454642</td>\n",
       "      <td>1</td>\n",
       "    </tr>\n",
       "    <tr>\n",
       "      <th>541</th>\n",
       "      <td>541</td>\n",
       "      <td>19.0</td>\n",
       "      <td>2017-09-07 00:00:00</td>\n",
       "      <td>13:27:00</td>\n",
       "      <td>1.0</td>\n",
       "      <td>2.0</td>\n",
       "      <td>32.34</td>\n",
       "      <td>34.7</td>\n",
       "      <td>64.9</td>\n",
       "      <td>579.0</td>\n",
       "      <td>709.0</td>\n",
       "      <td>706.0</td>\n",
       "      <td>580.0</td>\n",
       "      <td>461.0</td>\n",
       "      <td>613.573356</td>\n",
       "      <td>1</td>\n",
       "    </tr>\n",
       "    <tr>\n",
       "      <th>542</th>\n",
       "      <td>542</td>\n",
       "      <td>19.0</td>\n",
       "      <td>2017-09-07 00:00:00</td>\n",
       "      <td>13:27:00</td>\n",
       "      <td>1.0</td>\n",
       "      <td>3.0</td>\n",
       "      <td>32.34</td>\n",
       "      <td>34.7</td>\n",
       "      <td>64.9</td>\n",
       "      <td>579.0</td>\n",
       "      <td>709.0</td>\n",
       "      <td>706.0</td>\n",
       "      <td>580.0</td>\n",
       "      <td>461.0</td>\n",
       "      <td>615.653675</td>\n",
       "      <td>1</td>\n",
       "    </tr>\n",
       "    <tr>\n",
       "      <th>543</th>\n",
       "      <td>543</td>\n",
       "      <td>19.0</td>\n",
       "      <td>2017-09-07 00:00:00</td>\n",
       "      <td>13:27:00</td>\n",
       "      <td>1.0</td>\n",
       "      <td>4.0</td>\n",
       "      <td>32.34</td>\n",
       "      <td>34.7</td>\n",
       "      <td>64.9</td>\n",
       "      <td>579.0</td>\n",
       "      <td>709.0</td>\n",
       "      <td>706.0</td>\n",
       "      <td>580.0</td>\n",
       "      <td>461.0</td>\n",
       "      <td>621.980204</td>\n",
       "      <td>1</td>\n",
       "    </tr>\n",
       "    <tr>\n",
       "      <th>544</th>\n",
       "      <td>544</td>\n",
       "      <td>19.0</td>\n",
       "      <td>2017-09-07 00:00:00</td>\n",
       "      <td>13:27:00</td>\n",
       "      <td>1.0</td>\n",
       "      <td>5.0</td>\n",
       "      <td>32.34</td>\n",
       "      <td>34.7</td>\n",
       "      <td>64.9</td>\n",
       "      <td>579.0</td>\n",
       "      <td>709.0</td>\n",
       "      <td>706.0</td>\n",
       "      <td>580.0</td>\n",
       "      <td>461.0</td>\n",
       "      <td>605.390894</td>\n",
       "      <td>1</td>\n",
       "    </tr>\n",
       "    <tr>\n",
       "      <th>545</th>\n",
       "      <td>545</td>\n",
       "      <td>19.0</td>\n",
       "      <td>2017-09-07 00:00:00</td>\n",
       "      <td>13:27:00</td>\n",
       "      <td>1.0</td>\n",
       "      <td>6.0</td>\n",
       "      <td>32.34</td>\n",
       "      <td>34.7</td>\n",
       "      <td>64.9</td>\n",
       "      <td>579.0</td>\n",
       "      <td>709.0</td>\n",
       "      <td>706.0</td>\n",
       "      <td>580.0</td>\n",
       "      <td>461.0</td>\n",
       "      <td>617.748159</td>\n",
       "      <td>1</td>\n",
       "    </tr>\n",
       "    <tr>\n",
       "      <th>546</th>\n",
       "      <td>546</td>\n",
       "      <td>19.0</td>\n",
       "      <td>2017-09-07 00:00:00</td>\n",
       "      <td>13:27:00</td>\n",
       "      <td>2.0</td>\n",
       "      <td>1.0</td>\n",
       "      <td>32.34</td>\n",
       "      <td>34.7</td>\n",
       "      <td>64.9</td>\n",
       "      <td>579.0</td>\n",
       "      <td>709.0</td>\n",
       "      <td>706.0</td>\n",
       "      <td>580.0</td>\n",
       "      <td>461.0</td>\n",
       "      <td>605.390894</td>\n",
       "      <td>1</td>\n",
       "    </tr>\n",
       "    <tr>\n",
       "      <th>547</th>\n",
       "      <td>547</td>\n",
       "      <td>19.0</td>\n",
       "      <td>2017-09-07 00:00:00</td>\n",
       "      <td>13:27:00</td>\n",
       "      <td>2.0</td>\n",
       "      <td>2.0</td>\n",
       "      <td>32.34</td>\n",
       "      <td>34.7</td>\n",
       "      <td>64.9</td>\n",
       "      <td>579.0</td>\n",
       "      <td>709.0</td>\n",
       "      <td>706.0</td>\n",
       "      <td>580.0</td>\n",
       "      <td>461.0</td>\n",
       "      <td>609.454642</td>\n",
       "      <td>1</td>\n",
       "    </tr>\n",
       "    <tr>\n",
       "      <th>548</th>\n",
       "      <td>548</td>\n",
       "      <td>19.0</td>\n",
       "      <td>2017-09-07 00:00:00</td>\n",
       "      <td>13:27:00</td>\n",
       "      <td>2.0</td>\n",
       "      <td>3.0</td>\n",
       "      <td>32.34</td>\n",
       "      <td>34.7</td>\n",
       "      <td>64.9</td>\n",
       "      <td>579.0</td>\n",
       "      <td>709.0</td>\n",
       "      <td>706.0</td>\n",
       "      <td>580.0</td>\n",
       "      <td>461.0</td>\n",
       "      <td>615.653675</td>\n",
       "      <td>1</td>\n",
       "    </tr>\n",
       "    <tr>\n",
       "      <th>549</th>\n",
       "      <td>549</td>\n",
       "      <td>19.0</td>\n",
       "      <td>2017-09-07 00:00:00</td>\n",
       "      <td>13:27:00</td>\n",
       "      <td>2.0</td>\n",
       "      <td>4.0</td>\n",
       "      <td>32.34</td>\n",
       "      <td>34.7</td>\n",
       "      <td>64.9</td>\n",
       "      <td>579.0</td>\n",
       "      <td>709.0</td>\n",
       "      <td>706.0</td>\n",
       "      <td>580.0</td>\n",
       "      <td>461.0</td>\n",
       "      <td>613.573356</td>\n",
       "      <td>1</td>\n",
       "    </tr>\n",
       "    <tr>\n",
       "      <th>550</th>\n",
       "      <td>550</td>\n",
       "      <td>19.0</td>\n",
       "      <td>2017-09-07 00:00:00</td>\n",
       "      <td>13:27:00</td>\n",
       "      <td>2.0</td>\n",
       "      <td>5.0</td>\n",
       "      <td>32.34</td>\n",
       "      <td>34.7</td>\n",
       "      <td>64.9</td>\n",
       "      <td>579.0</td>\n",
       "      <td>709.0</td>\n",
       "      <td>706.0</td>\n",
       "      <td>580.0</td>\n",
       "      <td>461.0</td>\n",
       "      <td>603.379290</td>\n",
       "      <td>1</td>\n",
       "    </tr>\n",
       "    <tr>\n",
       "      <th>551</th>\n",
       "      <td>551</td>\n",
       "      <td>19.0</td>\n",
       "      <td>2017-09-07 00:00:00</td>\n",
       "      <td>13:27:00</td>\n",
       "      <td>2.0</td>\n",
       "      <td>6.0</td>\n",
       "      <td>32.34</td>\n",
       "      <td>34.7</td>\n",
       "      <td>64.9</td>\n",
       "      <td>579.0</td>\n",
       "      <td>709.0</td>\n",
       "      <td>706.0</td>\n",
       "      <td>580.0</td>\n",
       "      <td>461.0</td>\n",
       "      <td>615.653675</td>\n",
       "      <td>1</td>\n",
       "    </tr>\n",
       "    <tr>\n",
       "      <th>552</th>\n",
       "      <td>552</td>\n",
       "      <td>19.0</td>\n",
       "      <td>2017-09-07 00:00:00</td>\n",
       "      <td>13:27:00</td>\n",
       "      <td>3.0</td>\n",
       "      <td>1.0</td>\n",
       "      <td>32.34</td>\n",
       "      <td>34.7</td>\n",
       "      <td>64.9</td>\n",
       "      <td>579.0</td>\n",
       "      <td>709.0</td>\n",
       "      <td>706.0</td>\n",
       "      <td>580.0</td>\n",
       "      <td>461.0</td>\n",
       "      <td>613.573356</td>\n",
       "      <td>1</td>\n",
       "    </tr>\n",
       "    <tr>\n",
       "      <th>553</th>\n",
       "      <td>553</td>\n",
       "      <td>19.0</td>\n",
       "      <td>2017-09-07 00:00:00</td>\n",
       "      <td>13:27:00</td>\n",
       "      <td>3.0</td>\n",
       "      <td>2.0</td>\n",
       "      <td>32.34</td>\n",
       "      <td>34.7</td>\n",
       "      <td>64.9</td>\n",
       "      <td>579.0</td>\n",
       "      <td>709.0</td>\n",
       "      <td>706.0</td>\n",
       "      <td>580.0</td>\n",
       "      <td>461.0</td>\n",
       "      <td>626.270676</td>\n",
       "      <td>1</td>\n",
       "    </tr>\n",
       "    <tr>\n",
       "      <th>554</th>\n",
       "      <td>554</td>\n",
       "      <td>19.0</td>\n",
       "      <td>2017-09-07 00:00:00</td>\n",
       "      <td>13:27:00</td>\n",
       "      <td>3.0</td>\n",
       "      <td>3.0</td>\n",
       "      <td>32.34</td>\n",
       "      <td>34.7</td>\n",
       "      <td>64.9</td>\n",
       "      <td>579.0</td>\n",
       "      <td>709.0</td>\n",
       "      <td>706.0</td>\n",
       "      <td>580.0</td>\n",
       "      <td>461.0</td>\n",
       "      <td>617.748159</td>\n",
       "      <td>1</td>\n",
       "    </tr>\n",
       "    <tr>\n",
       "      <th>555</th>\n",
       "      <td>555</td>\n",
       "      <td>19.0</td>\n",
       "      <td>2017-09-07 00:00:00</td>\n",
       "      <td>13:27:00</td>\n",
       "      <td>3.0</td>\n",
       "      <td>4.0</td>\n",
       "      <td>32.34</td>\n",
       "      <td>34.7</td>\n",
       "      <td>64.9</td>\n",
       "      <td>579.0</td>\n",
       "      <td>709.0</td>\n",
       "      <td>706.0</td>\n",
       "      <td>580.0</td>\n",
       "      <td>461.0</td>\n",
       "      <td>621.980204</td>\n",
       "      <td>1</td>\n",
       "    </tr>\n",
       "    <tr>\n",
       "      <th>556</th>\n",
       "      <td>556</td>\n",
       "      <td>19.0</td>\n",
       "      <td>2017-09-07 00:00:00</td>\n",
       "      <td>13:27:00</td>\n",
       "      <td>3.0</td>\n",
       "      <td>5.0</td>\n",
       "      <td>32.34</td>\n",
       "      <td>34.7</td>\n",
       "      <td>64.9</td>\n",
       "      <td>579.0</td>\n",
       "      <td>709.0</td>\n",
       "      <td>706.0</td>\n",
       "      <td>580.0</td>\n",
       "      <td>461.0</td>\n",
       "      <td>613.573356</td>\n",
       "      <td>1</td>\n",
       "    </tr>\n",
       "    <tr>\n",
       "      <th>557</th>\n",
       "      <td>557</td>\n",
       "      <td>19.0</td>\n",
       "      <td>2017-09-07 00:00:00</td>\n",
       "      <td>13:27:00</td>\n",
       "      <td>3.0</td>\n",
       "      <td>6.0</td>\n",
       "      <td>32.34</td>\n",
       "      <td>34.7</td>\n",
       "      <td>64.9</td>\n",
       "      <td>579.0</td>\n",
       "      <td>709.0</td>\n",
       "      <td>706.0</td>\n",
       "      <td>580.0</td>\n",
       "      <td>461.0</td>\n",
       "      <td>621.980204</td>\n",
       "      <td>1</td>\n",
       "    </tr>\n",
       "    <tr>\n",
       "      <th>558</th>\n",
       "      <td>558</td>\n",
       "      <td>19.0</td>\n",
       "      <td>2017-09-07 00:00:00</td>\n",
       "      <td>13:27:00</td>\n",
       "      <td>4.0</td>\n",
       "      <td>1.0</td>\n",
       "      <td>32.34</td>\n",
       "      <td>34.7</td>\n",
       "      <td>64.9</td>\n",
       "      <td>579.0</td>\n",
       "      <td>709.0</td>\n",
       "      <td>706.0</td>\n",
       "      <td>580.0</td>\n",
       "      <td>461.0</td>\n",
       "      <td>615.653675</td>\n",
       "      <td>1</td>\n",
       "    </tr>\n",
       "    <tr>\n",
       "      <th>559</th>\n",
       "      <td>559</td>\n",
       "      <td>19.0</td>\n",
       "      <td>2017-09-07 00:00:00</td>\n",
       "      <td>13:27:00</td>\n",
       "      <td>4.0</td>\n",
       "      <td>2.0</td>\n",
       "      <td>32.34</td>\n",
       "      <td>34.7</td>\n",
       "      <td>64.9</td>\n",
       "      <td>579.0</td>\n",
       "      <td>709.0</td>\n",
       "      <td>706.0</td>\n",
       "      <td>580.0</td>\n",
       "      <td>461.0</td>\n",
       "      <td>619.856953</td>\n",
       "      <td>1</td>\n",
       "    </tr>\n",
       "    <tr>\n",
       "      <th>560</th>\n",
       "      <td>560</td>\n",
       "      <td>19.0</td>\n",
       "      <td>2017-09-07 00:00:00</td>\n",
       "      <td>13:27:00</td>\n",
       "      <td>4.0</td>\n",
       "      <td>3.0</td>\n",
       "      <td>32.34</td>\n",
       "      <td>34.7</td>\n",
       "      <td>64.9</td>\n",
       "      <td>579.0</td>\n",
       "      <td>709.0</td>\n",
       "      <td>706.0</td>\n",
       "      <td>580.0</td>\n",
       "      <td>461.0</td>\n",
       "      <td>617.748159</td>\n",
       "      <td>1</td>\n",
       "    </tr>\n",
       "    <tr>\n",
       "      <th>561</th>\n",
       "      <td>561</td>\n",
       "      <td>19.0</td>\n",
       "      <td>2017-09-07 00:00:00</td>\n",
       "      <td>13:27:00</td>\n",
       "      <td>4.0</td>\n",
       "      <td>4.0</td>\n",
       "      <td>32.34</td>\n",
       "      <td>34.7</td>\n",
       "      <td>64.9</td>\n",
       "      <td>579.0</td>\n",
       "      <td>709.0</td>\n",
       "      <td>706.0</td>\n",
       "      <td>580.0</td>\n",
       "      <td>461.0</td>\n",
       "      <td>611.507059</td>\n",
       "      <td>1</td>\n",
       "    </tr>\n",
       "    <tr>\n",
       "      <th>562</th>\n",
       "      <td>562</td>\n",
       "      <td>19.0</td>\n",
       "      <td>2017-09-07 00:00:00</td>\n",
       "      <td>13:27:00</td>\n",
       "      <td>4.0</td>\n",
       "      <td>5.0</td>\n",
       "      <td>32.34</td>\n",
       "      <td>34.7</td>\n",
       "      <td>64.9</td>\n",
       "      <td>579.0</td>\n",
       "      <td>709.0</td>\n",
       "      <td>706.0</td>\n",
       "      <td>580.0</td>\n",
       "      <td>461.0</td>\n",
       "      <td>605.390894</td>\n",
       "      <td>1</td>\n",
       "    </tr>\n",
       "    <tr>\n",
       "      <th>563</th>\n",
       "      <td>563</td>\n",
       "      <td>19.0</td>\n",
       "      <td>2017-09-07 00:00:00</td>\n",
       "      <td>13:27:00</td>\n",
       "      <td>4.0</td>\n",
       "      <td>6.0</td>\n",
       "      <td>32.34</td>\n",
       "      <td>34.7</td>\n",
       "      <td>64.9</td>\n",
       "      <td>579.0</td>\n",
       "      <td>709.0</td>\n",
       "      <td>706.0</td>\n",
       "      <td>580.0</td>\n",
       "      <td>461.0</td>\n",
       "      <td>617.748159</td>\n",
       "      <td>1</td>\n",
       "    </tr>\n",
       "    <tr>\n",
       "      <th>564</th>\n",
       "      <td>564</td>\n",
       "      <td>19.0</td>\n",
       "      <td>2017-09-07 00:00:00</td>\n",
       "      <td>13:27:00</td>\n",
       "      <td>5.0</td>\n",
       "      <td>1.0</td>\n",
       "      <td>32.34</td>\n",
       "      <td>34.7</td>\n",
       "      <td>64.9</td>\n",
       "      <td>579.0</td>\n",
       "      <td>709.0</td>\n",
       "      <td>706.0</td>\n",
       "      <td>580.0</td>\n",
       "      <td>461.0</td>\n",
       "      <td>613.573356</td>\n",
       "      <td>1</td>\n",
       "    </tr>\n",
       "    <tr>\n",
       "      <th>565</th>\n",
       "      <td>565</td>\n",
       "      <td>19.0</td>\n",
       "      <td>2017-09-07 00:00:00</td>\n",
       "      <td>13:27:00</td>\n",
       "      <td>5.0</td>\n",
       "      <td>2.0</td>\n",
       "      <td>32.34</td>\n",
       "      <td>34.7</td>\n",
       "      <td>64.9</td>\n",
       "      <td>579.0</td>\n",
       "      <td>709.0</td>\n",
       "      <td>706.0</td>\n",
       "      <td>580.0</td>\n",
       "      <td>461.0</td>\n",
       "      <td>609.454642</td>\n",
       "      <td>1</td>\n",
       "    </tr>\n",
       "    <tr>\n",
       "      <th>566</th>\n",
       "      <td>566</td>\n",
       "      <td>19.0</td>\n",
       "      <td>2017-09-07 00:00:00</td>\n",
       "      <td>13:27:00</td>\n",
       "      <td>5.0</td>\n",
       "      <td>3.0</td>\n",
       "      <td>32.34</td>\n",
       "      <td>34.7</td>\n",
       "      <td>64.9</td>\n",
       "      <td>579.0</td>\n",
       "      <td>709.0</td>\n",
       "      <td>706.0</td>\n",
       "      <td>580.0</td>\n",
       "      <td>461.0</td>\n",
       "      <td>607.415966</td>\n",
       "      <td>1</td>\n",
       "    </tr>\n",
       "    <tr>\n",
       "      <th>567</th>\n",
       "      <td>567</td>\n",
       "      <td>19.0</td>\n",
       "      <td>2017-09-07 00:00:00</td>\n",
       "      <td>13:27:00</td>\n",
       "      <td>5.0</td>\n",
       "      <td>4.0</td>\n",
       "      <td>32.34</td>\n",
       "      <td>34.7</td>\n",
       "      <td>64.9</td>\n",
       "      <td>579.0</td>\n",
       "      <td>709.0</td>\n",
       "      <td>706.0</td>\n",
       "      <td>580.0</td>\n",
       "      <td>461.0</td>\n",
       "      <td>603.379290</td>\n",
       "      <td>1</td>\n",
       "    </tr>\n",
       "    <tr>\n",
       "      <th>568</th>\n",
       "      <td>568</td>\n",
       "      <td>19.0</td>\n",
       "      <td>2017-09-07 00:00:00</td>\n",
       "      <td>13:27:00</td>\n",
       "      <td>5.0</td>\n",
       "      <td>5.0</td>\n",
       "      <td>32.34</td>\n",
       "      <td>34.7</td>\n",
       "      <td>64.9</td>\n",
       "      <td>579.0</td>\n",
       "      <td>709.0</td>\n",
       "      <td>706.0</td>\n",
       "      <td>580.0</td>\n",
       "      <td>461.0</td>\n",
       "      <td>609.454642</td>\n",
       "      <td>1</td>\n",
       "    </tr>\n",
       "    <tr>\n",
       "      <th>569</th>\n",
       "      <td>569</td>\n",
       "      <td>19.0</td>\n",
       "      <td>2017-09-07 00:00:00</td>\n",
       "      <td>13:27:00</td>\n",
       "      <td>5.0</td>\n",
       "      <td>6.0</td>\n",
       "      <td>32.34</td>\n",
       "      <td>34.7</td>\n",
       "      <td>64.9</td>\n",
       "      <td>579.0</td>\n",
       "      <td>709.0</td>\n",
       "      <td>706.0</td>\n",
       "      <td>580.0</td>\n",
       "      <td>461.0</td>\n",
       "      <td>613.573356</td>\n",
       "      <td>1</td>\n",
       "    </tr>\n",
       "  </tbody>\n",
       "</table>\n",
       "<p>120 rows × 16 columns</p>\n",
       "</div>"
      ],
      "text/plain": [
       "     Unnamed: 0  group                 date      time  piece  posi  speed  \\\n",
       "60           60    3.0  2017-09-01 00:00:00  13:21:00    1.0   1.0  32.34   \n",
       "61           61    3.0  2017-09-01 00:00:00  13:21:00    1.0   2.0  32.34   \n",
       "62           62    3.0  2017-09-01 00:00:00  13:21:00    1.0   3.0  32.34   \n",
       "63           63    3.0  2017-09-01 00:00:00  13:21:00    1.0   4.0  32.34   \n",
       "64           64    3.0  2017-09-01 00:00:00  13:21:00    1.0   5.0  32.34   \n",
       "65           65    3.0  2017-09-01 00:00:00  13:21:00    1.0   6.0  32.34   \n",
       "66           66    3.0  2017-09-01 00:00:00  13:21:00    2.0   1.0  32.34   \n",
       "67           67    3.0  2017-09-01 00:00:00  13:21:00    2.0   2.0  32.34   \n",
       "68           68    3.0  2017-09-01 00:00:00  13:21:00    2.0   3.0  32.34   \n",
       "69           69    3.0  2017-09-01 00:00:00  13:21:00    2.0   4.0  32.34   \n",
       "70           70    3.0  2017-09-01 00:00:00  13:21:00    2.0   5.0  32.34   \n",
       "71           71    3.0  2017-09-01 00:00:00  13:21:00    2.0   6.0  32.34   \n",
       "72           72    3.0  2017-09-01 00:00:00  13:21:00    3.0   1.0  32.34   \n",
       "73           73    3.0  2017-09-01 00:00:00  13:21:00    3.0   2.0  32.34   \n",
       "74           74    3.0  2017-09-01 00:00:00  13:21:00    3.0   3.0  32.34   \n",
       "75           75    3.0  2017-09-01 00:00:00  13:21:00    3.0   4.0  32.34   \n",
       "76           76    3.0  2017-09-01 00:00:00  13:21:00    3.0   5.0  32.34   \n",
       "77           77    3.0  2017-09-01 00:00:00  13:21:00    3.0   6.0  32.34   \n",
       "78           78    3.0  2017-09-01 00:00:00  13:21:00    4.0   1.0  32.34   \n",
       "79           79    3.0  2017-09-01 00:00:00  13:21:00    4.0   2.0  32.34   \n",
       "80           80    3.0  2017-09-01 00:00:00  13:21:00    4.0   3.0  32.34   \n",
       "81           81    3.0  2017-09-01 00:00:00  13:21:00    4.0   4.0  32.34   \n",
       "82           82    3.0  2017-09-01 00:00:00  13:21:00    4.0   5.0  32.34   \n",
       "83           83    3.0  2017-09-01 00:00:00  13:21:00    4.0   6.0  32.34   \n",
       "84           84    3.0  2017-09-01 00:00:00  13:21:00    5.0   1.0  32.34   \n",
       "85           85    3.0  2017-09-01 00:00:00  13:21:00    5.0   2.0  32.34   \n",
       "86           86    3.0  2017-09-01 00:00:00  13:21:00    5.0   3.0  32.34   \n",
       "87           87    3.0  2017-09-01 00:00:00  13:21:00    5.0   4.0  32.34   \n",
       "88           88    3.0  2017-09-01 00:00:00  13:21:00    5.0   5.0  32.34   \n",
       "89           89    3.0  2017-09-01 00:00:00  13:21:00    5.0   6.0  32.34   \n",
       "..          ...    ...                  ...       ...    ...   ...    ...   \n",
       "540         540   19.0  2017-09-07 00:00:00  13:27:00    1.0   1.0  32.34   \n",
       "541         541   19.0  2017-09-07 00:00:00  13:27:00    1.0   2.0  32.34   \n",
       "542         542   19.0  2017-09-07 00:00:00  13:27:00    1.0   3.0  32.34   \n",
       "543         543   19.0  2017-09-07 00:00:00  13:27:00    1.0   4.0  32.34   \n",
       "544         544   19.0  2017-09-07 00:00:00  13:27:00    1.0   5.0  32.34   \n",
       "545         545   19.0  2017-09-07 00:00:00  13:27:00    1.0   6.0  32.34   \n",
       "546         546   19.0  2017-09-07 00:00:00  13:27:00    2.0   1.0  32.34   \n",
       "547         547   19.0  2017-09-07 00:00:00  13:27:00    2.0   2.0  32.34   \n",
       "548         548   19.0  2017-09-07 00:00:00  13:27:00    2.0   3.0  32.34   \n",
       "549         549   19.0  2017-09-07 00:00:00  13:27:00    2.0   4.0  32.34   \n",
       "550         550   19.0  2017-09-07 00:00:00  13:27:00    2.0   5.0  32.34   \n",
       "551         551   19.0  2017-09-07 00:00:00  13:27:00    2.0   6.0  32.34   \n",
       "552         552   19.0  2017-09-07 00:00:00  13:27:00    3.0   1.0  32.34   \n",
       "553         553   19.0  2017-09-07 00:00:00  13:27:00    3.0   2.0  32.34   \n",
       "554         554   19.0  2017-09-07 00:00:00  13:27:00    3.0   3.0  32.34   \n",
       "555         555   19.0  2017-09-07 00:00:00  13:27:00    3.0   4.0  32.34   \n",
       "556         556   19.0  2017-09-07 00:00:00  13:27:00    3.0   5.0  32.34   \n",
       "557         557   19.0  2017-09-07 00:00:00  13:27:00    3.0   6.0  32.34   \n",
       "558         558   19.0  2017-09-07 00:00:00  13:27:00    4.0   1.0  32.34   \n",
       "559         559   19.0  2017-09-07 00:00:00  13:27:00    4.0   2.0  32.34   \n",
       "560         560   19.0  2017-09-07 00:00:00  13:27:00    4.0   3.0  32.34   \n",
       "561         561   19.0  2017-09-07 00:00:00  13:27:00    4.0   4.0  32.34   \n",
       "562         562   19.0  2017-09-07 00:00:00  13:27:00    4.0   5.0  32.34   \n",
       "563         563   19.0  2017-09-07 00:00:00  13:27:00    4.0   6.0  32.34   \n",
       "564         564   19.0  2017-09-07 00:00:00  13:27:00    5.0   1.0  32.34   \n",
       "565         565   19.0  2017-09-07 00:00:00  13:27:00    5.0   2.0  32.34   \n",
       "566         566   19.0  2017-09-07 00:00:00  13:27:00    5.0   3.0  32.34   \n",
       "567         567   19.0  2017-09-07 00:00:00  13:27:00    5.0   4.0  32.34   \n",
       "568         568   19.0  2017-09-07 00:00:00  13:27:00    5.0   5.0  32.34   \n",
       "569         569   19.0  2017-09-07 00:00:00  13:27:00    5.0   6.0  32.34   \n",
       "\n",
       "     env_temp  env_wet     T1     T2     T3     T4     T5      radius  \\\n",
       "60       34.7     64.9  579.0  709.0  706.0  580.0  461.0  609.045812   \n",
       "61       34.7     64.9  579.0  709.0  706.0  580.0  461.0  613.158980   \n",
       "62       34.7     64.9  579.0  709.0  706.0  580.0  461.0  615.236483   \n",
       "63       34.7     64.9  579.0  709.0  706.0  580.0  461.0  621.554390   \n",
       "64       34.7     64.9  579.0  709.0  706.0  580.0  461.0  604.987500   \n",
       "65       34.7     64.9  579.0  709.0  706.0  580.0  461.0  617.328122   \n",
       "66       34.7     64.9  579.0  709.0  706.0  580.0  461.0  604.987500   \n",
       "67       34.7     64.9  579.0  709.0  706.0  580.0  461.0  609.045812   \n",
       "68       34.7     64.9  579.0  709.0  706.0  580.0  461.0  615.236483   \n",
       "69       34.7     64.9  579.0  709.0  706.0  580.0  461.0  613.158980   \n",
       "70       34.7     64.9  579.0  709.0  706.0  580.0  461.0  602.978573   \n",
       "71       34.7     64.9  579.0  709.0  706.0  580.0  461.0  615.236483   \n",
       "72       34.7     64.9  579.0  709.0  706.0  580.0  461.0  613.158980   \n",
       "73       34.7     64.9  579.0  709.0  706.0  580.0  461.0  625.838966   \n",
       "74       34.7     64.9  579.0  709.0  706.0  580.0  461.0  617.328122   \n",
       "75       34.7     64.9  579.0  709.0  706.0  580.0  461.0  621.554390   \n",
       "76       34.7     64.9  579.0  709.0  706.0  580.0  461.0  613.158980   \n",
       "77       34.7     64.9  579.0  709.0  706.0  580.0  461.0  621.554390   \n",
       "78       34.7     64.9  579.0  709.0  706.0  580.0  461.0  615.236483   \n",
       "79       34.7     64.9  579.0  709.0  706.0  580.0  461.0  619.434043   \n",
       "80       34.7     64.9  579.0  709.0  706.0  580.0  461.0  617.328122   \n",
       "81       34.7     64.9  579.0  709.0  706.0  580.0  461.0  611.095470   \n",
       "82       34.7     64.9  579.0  709.0  706.0  580.0  461.0  604.987500   \n",
       "83       34.7     64.9  579.0  709.0  706.0  580.0  461.0  617.328122   \n",
       "84       34.7     64.9  579.0  709.0  706.0  580.0  461.0  613.158980   \n",
       "85       34.7     64.9  579.0  709.0  706.0  580.0  461.0  609.045812   \n",
       "86       34.7     64.9  579.0  709.0  706.0  580.0  461.0  607.009868   \n",
       "87       34.7     64.9  579.0  709.0  706.0  580.0  461.0  602.978573   \n",
       "88       34.7     64.9  579.0  709.0  706.0  580.0  461.0  609.045812   \n",
       "89       34.7     64.9  579.0  709.0  706.0  580.0  461.0  613.158980   \n",
       "..        ...      ...    ...    ...    ...    ...    ...         ...   \n",
       "540      34.7     64.9  579.0  709.0  706.0  580.0  461.0  609.454642   \n",
       "541      34.7     64.9  579.0  709.0  706.0  580.0  461.0  613.573356   \n",
       "542      34.7     64.9  579.0  709.0  706.0  580.0  461.0  615.653675   \n",
       "543      34.7     64.9  579.0  709.0  706.0  580.0  461.0  621.980204   \n",
       "544      34.7     64.9  579.0  709.0  706.0  580.0  461.0  605.390894   \n",
       "545      34.7     64.9  579.0  709.0  706.0  580.0  461.0  617.748159   \n",
       "546      34.7     64.9  579.0  709.0  706.0  580.0  461.0  605.390894   \n",
       "547      34.7     64.9  579.0  709.0  706.0  580.0  461.0  609.454642   \n",
       "548      34.7     64.9  579.0  709.0  706.0  580.0  461.0  615.653675   \n",
       "549      34.7     64.9  579.0  709.0  706.0  580.0  461.0  613.573356   \n",
       "550      34.7     64.9  579.0  709.0  706.0  580.0  461.0  603.379290   \n",
       "551      34.7     64.9  579.0  709.0  706.0  580.0  461.0  615.653675   \n",
       "552      34.7     64.9  579.0  709.0  706.0  580.0  461.0  613.573356   \n",
       "553      34.7     64.9  579.0  709.0  706.0  580.0  461.0  626.270676   \n",
       "554      34.7     64.9  579.0  709.0  706.0  580.0  461.0  617.748159   \n",
       "555      34.7     64.9  579.0  709.0  706.0  580.0  461.0  621.980204   \n",
       "556      34.7     64.9  579.0  709.0  706.0  580.0  461.0  613.573356   \n",
       "557      34.7     64.9  579.0  709.0  706.0  580.0  461.0  621.980204   \n",
       "558      34.7     64.9  579.0  709.0  706.0  580.0  461.0  615.653675   \n",
       "559      34.7     64.9  579.0  709.0  706.0  580.0  461.0  619.856953   \n",
       "560      34.7     64.9  579.0  709.0  706.0  580.0  461.0  617.748159   \n",
       "561      34.7     64.9  579.0  709.0  706.0  580.0  461.0  611.507059   \n",
       "562      34.7     64.9  579.0  709.0  706.0  580.0  461.0  605.390894   \n",
       "563      34.7     64.9  579.0  709.0  706.0  580.0  461.0  617.748159   \n",
       "564      34.7     64.9  579.0  709.0  706.0  580.0  461.0  613.573356   \n",
       "565      34.7     64.9  579.0  709.0  706.0  580.0  461.0  609.454642   \n",
       "566      34.7     64.9  579.0  709.0  706.0  580.0  461.0  607.415966   \n",
       "567      34.7     64.9  579.0  709.0  706.0  580.0  461.0  603.379290   \n",
       "568      34.7     64.9  579.0  709.0  706.0  580.0  461.0  609.454642   \n",
       "569      34.7     64.9  579.0  709.0  706.0  580.0  461.0  613.573356   \n",
       "\n",
       "     category  \n",
       "60          1  \n",
       "61          1  \n",
       "62          1  \n",
       "63          1  \n",
       "64          1  \n",
       "65          1  \n",
       "66          1  \n",
       "67          1  \n",
       "68          1  \n",
       "69          1  \n",
       "70          1  \n",
       "71          1  \n",
       "72          1  \n",
       "73          1  \n",
       "74          1  \n",
       "75          1  \n",
       "76          1  \n",
       "77          1  \n",
       "78          1  \n",
       "79          1  \n",
       "80          1  \n",
       "81          1  \n",
       "82          1  \n",
       "83          1  \n",
       "84          1  \n",
       "85          1  \n",
       "86          1  \n",
       "87          1  \n",
       "88          1  \n",
       "89          1  \n",
       "..        ...  \n",
       "540         1  \n",
       "541         1  \n",
       "542         1  \n",
       "543         1  \n",
       "544         1  \n",
       "545         1  \n",
       "546         1  \n",
       "547         1  \n",
       "548         1  \n",
       "549         1  \n",
       "550         1  \n",
       "551         1  \n",
       "552         1  \n",
       "553         1  \n",
       "554         1  \n",
       "555         1  \n",
       "556         1  \n",
       "557         1  \n",
       "558         1  \n",
       "559         1  \n",
       "560         1  \n",
       "561         1  \n",
       "562         1  \n",
       "563         1  \n",
       "564         1  \n",
       "565         1  \n",
       "566         1  \n",
       "567         1  \n",
       "568         1  \n",
       "569         1  \n",
       "\n",
       "[120 rows x 16 columns]"
      ]
     },
     "execution_count": 63,
     "metadata": {},
     "output_type": "execute_result"
    }
   ],
   "source": [
    "dataset[(dataset['env_temp']==34.7) & (dataset['env_wet']==64.9)]"
   ]
  }
 ],
 "metadata": {
  "anaconda-cloud": {},
  "kernelspec": {
   "display_name": "Python [conda root]",
   "language": "python",
   "name": "conda-root-py"
  },
  "language_info": {
   "codemirror_mode": {
    "name": "ipython",
    "version": 3
   },
   "file_extension": ".py",
   "mimetype": "text/x-python",
   "name": "python",
   "nbconvert_exporter": "python",
   "pygments_lexer": "ipython3",
   "version": "3.5.2"
  }
 },
 "nbformat": 4,
 "nbformat_minor": 1
}
