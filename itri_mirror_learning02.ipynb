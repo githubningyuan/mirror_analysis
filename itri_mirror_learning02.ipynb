{
 "cells": [
  {
   "cell_type": "code",
   "execution_count": 1,
   "metadata": {
    "collapsed": false
   },
   "outputs": [
    {
     "name": "stdout",
     "output_type": "stream",
     "text": [
      "Using matplotlib backend: Qt4Agg\n"
     ]
    }
   ],
   "source": [
    "% matplotlib "
   ]
  },
  {
   "cell_type": "code",
   "execution_count": 2,
   "metadata": {
    "collapsed": true
   },
   "outputs": [],
   "source": [
    "% matplotlib inline"
   ]
  },
  {
   "cell_type": "code",
   "execution_count": 3,
   "metadata": {
    "collapsed": true
   },
   "outputs": [],
   "source": [
    "import pandas as pd\n",
    "import numpy as np\n",
    "import csv\n",
    "import matplotlib.pyplot as plt\n",
    "import datetime\n",
    "import time\n",
    "from datetime import datetime, date"
   ]
  },
  {
   "cell_type": "code",
   "execution_count": 4,
   "metadata": {
    "collapsed": true
   },
   "outputs": [],
   "source": [
    "from sklearn.linear_model import LogisticRegression, SGDClassifier\n",
    "from sklearn.svm import  SVC\n",
    "from sklearn.metrics import accuracy_score, classification_report\n",
    "\n",
    "from sklearn.linear_model import LinearRegression, SGDRegressor\n",
    "from sklearn.ensemble import RandomForestRegressor\n",
    "from sklearn.svm import  SVR\n",
    "from sklearn.metrics import r2_score, mean_squared_error, mean_absolute_error\n",
    "\n",
    "from sklearn.cross_validation import train_test_split, cross_val_score\n",
    "from sklearn.preprocessing import StandardScaler\n",
    "#from sklearn.feature_extraction import DictVectorizer\n",
    "#from sklearn.grid_search import GridSearchCV "
   ]
  },
  {
   "cell_type": "markdown",
   "metadata": {},
   "source": [
    "### 讀取csv檔："
   ]
  },
  {
   "cell_type": "code",
   "execution_count": 5,
   "metadata": {
    "collapsed": true
   },
   "outputs": [],
   "source": [
    "dataset = pd.read_csv('1127.csv')"
   ]
  },
  {
   "cell_type": "code",
   "execution_count": 7,
   "metadata": {
    "collapsed": true
   },
   "outputs": [],
   "source": [
    "c320 = 19.05\n",
    "dataset['R'] = (c320**2 + dataset['x']**2)/(2*dataset['x'])"
   ]
  },
  {
   "cell_type": "code",
   "execution_count": 6,
   "metadata": {
    "collapsed": false
   },
   "outputs": [],
   "source": [
    "#dataset.columns"
   ]
  },
  {
   "cell_type": "code",
   "execution_count": 8,
   "metadata": {
    "collapsed": false
   },
   "outputs": [
    {
     "data": {
      "text/html": [
       "<div>\n",
       "<table border=\"1\" class=\"dataframe\">\n",
       "  <thead>\n",
       "    <tr style=\"text-align: right;\">\n",
       "      <th></th>\n",
       "      <th>x</th>\n",
       "      <th>R</th>\n",
       "      <th>T1</th>\n",
       "      <th>T2</th>\n",
       "      <th>T3</th>\n",
       "      <th>T4</th>\n",
       "      <th>T5</th>\n",
       "      <th>speed</th>\n",
       "      <th>env_T</th>\n",
       "      <th>env_hum</th>\n",
       "      <th>set_T1</th>\n",
       "      <th>set_T2</th>\n",
       "      <th>set_T3</th>\n",
       "      <th>set_T4</th>\n",
       "      <th>set_T5</th>\n",
       "      <th>piece</th>\n",
       "      <th>position</th>\n",
       "      <th>time</th>\n",
       "      <th>ok</th>\n",
       "    </tr>\n",
       "  </thead>\n",
       "  <tbody>\n",
       "    <tr>\n",
       "      <th>0</th>\n",
       "      <td>0.572</td>\n",
       "      <td>317.508465</td>\n",
       "      <td>580</td>\n",
       "      <td>736</td>\n",
       "      <td>722</td>\n",
       "      <td>621</td>\n",
       "      <td>488</td>\n",
       "      <td>32.34</td>\n",
       "      <td>29</td>\n",
       "      <td>13</td>\n",
       "      <td>750</td>\n",
       "      <td>735</td>\n",
       "      <td>722</td>\n",
       "      <td>621</td>\n",
       "      <td>500</td>\n",
       "      <td>1</td>\n",
       "      <td>1</td>\n",
       "      <td>2017/11/27 11:45</td>\n",
       "      <td>1</td>\n",
       "    </tr>\n",
       "  </tbody>\n",
       "</table>\n",
       "</div>"
      ],
      "text/plain": [
       "       x           R   T1   T2   T3   T4   T5  speed  env_T  env_hum  set_T1  \\\n",
       "0  0.572  317.508465  580  736  722  621  488  32.34     29       13     750   \n",
       "\n",
       "   set_T2  set_T3  set_T4  set_T5  piece  position              time  ok  \n",
       "0     735     722     621     500      1         1  2017/11/27 11:45   1  "
      ]
     },
     "execution_count": 8,
     "metadata": {},
     "output_type": "execute_result"
    }
   ],
   "source": [
    "dataset.head(1)"
   ]
  },
  {
   "cell_type": "markdown",
   "metadata": {},
   "source": [
    "### 選擇任務範圍:"
   ]
  },
  {
   "cell_type": "code",
   "execution_count": 9,
   "metadata": {
    "collapsed": true
   },
   "outputs": [],
   "source": [
    "dataset = dataset.drop(['x','set_T1', 'set_T2', 'set_T3', 'set_T4', 'set_T5'\n",
    "                       ], axis = 1)"
   ]
  },
  {
   "cell_type": "code",
   "execution_count": 10,
   "metadata": {
    "collapsed": false
   },
   "outputs": [],
   "source": [
    "#dataset.columns"
   ]
  },
  {
   "cell_type": "code",
   "execution_count": 11,
   "metadata": {
    "collapsed": false
   },
   "outputs": [
    {
     "data": {
      "text/html": [
       "<div>\n",
       "<table border=\"1\" class=\"dataframe\">\n",
       "  <thead>\n",
       "    <tr style=\"text-align: right;\">\n",
       "      <th></th>\n",
       "      <th>R</th>\n",
       "      <th>T1</th>\n",
       "      <th>T2</th>\n",
       "      <th>T3</th>\n",
       "      <th>T4</th>\n",
       "      <th>T5</th>\n",
       "      <th>speed</th>\n",
       "      <th>env_T</th>\n",
       "      <th>env_hum</th>\n",
       "      <th>piece</th>\n",
       "      <th>position</th>\n",
       "      <th>time</th>\n",
       "      <th>ok</th>\n",
       "    </tr>\n",
       "  </thead>\n",
       "  <tbody>\n",
       "    <tr>\n",
       "      <th>0</th>\n",
       "      <td>317.508465</td>\n",
       "      <td>580</td>\n",
       "      <td>736</td>\n",
       "      <td>722</td>\n",
       "      <td>621</td>\n",
       "      <td>488</td>\n",
       "      <td>32.34</td>\n",
       "      <td>29</td>\n",
       "      <td>13</td>\n",
       "      <td>1</td>\n",
       "      <td>1</td>\n",
       "      <td>2017/11/27 11:45</td>\n",
       "      <td>1</td>\n",
       "    </tr>\n",
       "  </tbody>\n",
       "</table>\n",
       "</div>"
      ],
      "text/plain": [
       "            R   T1   T2   T3   T4   T5  speed  env_T  env_hum  piece  \\\n",
       "0  317.508465  580  736  722  621  488  32.34     29       13      1   \n",
       "\n",
       "   position              time  ok  \n",
       "0         1  2017/11/27 11:45   1  "
      ]
     },
     "execution_count": 11,
     "metadata": {},
     "output_type": "execute_result"
    }
   ],
   "source": [
    "dataset.head(1)"
   ]
  },
  {
   "cell_type": "code",
   "execution_count": 12,
   "metadata": {
    "collapsed": false
   },
   "outputs": [
    {
     "data": {
      "text/plain": [
       "336"
      ]
     },
     "execution_count": 12,
     "metadata": {},
     "output_type": "execute_result"
    }
   ],
   "source": [
    "len(dataset)"
   ]
  },
  {
   "cell_type": "markdown",
   "metadata": {
    "collapsed": true
   },
   "source": [
    "### 選取ok資料做回歸 限制輸送帶速度"
   ]
  },
  {
   "cell_type": "code",
   "execution_count": 15,
   "metadata": {
    "collapsed": false
   },
   "outputs": [],
   "source": [
    "data_ok = dataset[dataset['ok']==1]\n",
    "data_ok = data_ok[data_ok['speed']<30 ]"
   ]
  },
  {
   "cell_type": "code",
   "execution_count": 21,
   "metadata": {
    "collapsed": false
   },
   "outputs": [
    {
     "data": {
      "text/html": [
       "<div>\n",
       "<table border=\"1\" class=\"dataframe\">\n",
       "  <thead>\n",
       "    <tr style=\"text-align: right;\">\n",
       "      <th></th>\n",
       "      <th>R</th>\n",
       "      <th>T1</th>\n",
       "      <th>T2</th>\n",
       "      <th>T3</th>\n",
       "      <th>T4</th>\n",
       "      <th>T5</th>\n",
       "      <th>speed</th>\n",
       "      <th>env_T</th>\n",
       "      <th>env_hum</th>\n",
       "      <th>piece</th>\n",
       "      <th>position</th>\n",
       "      <th>ok</th>\n",
       "    </tr>\n",
       "  </thead>\n",
       "  <tbody>\n",
       "    <tr>\n",
       "      <th>count</th>\n",
       "      <td>120.000000</td>\n",
       "      <td>120.000000</td>\n",
       "      <td>120.000000</td>\n",
       "      <td>120.000000</td>\n",
       "      <td>120.000000</td>\n",
       "      <td>120.000000</td>\n",
       "      <td>1.200000e+02</td>\n",
       "      <td>120.000000</td>\n",
       "      <td>120.000000</td>\n",
       "      <td>120.000000</td>\n",
       "      <td>120.000000</td>\n",
       "      <td>120.0</td>\n",
       "    </tr>\n",
       "    <tr>\n",
       "      <th>mean</th>\n",
       "      <td>325.188492</td>\n",
       "      <td>626.000000</td>\n",
       "      <td>722.250000</td>\n",
       "      <td>712.250000</td>\n",
       "      <td>614.000000</td>\n",
       "      <td>450.450000</td>\n",
       "      <td>2.238000e+01</td>\n",
       "      <td>26.300000</td>\n",
       "      <td>14.300000</td>\n",
       "      <td>3.000000</td>\n",
       "      <td>3.500000</td>\n",
       "      <td>1.0</td>\n",
       "    </tr>\n",
       "    <tr>\n",
       "      <th>std</th>\n",
       "      <td>7.706089</td>\n",
       "      <td>12.875617</td>\n",
       "      <td>19.018456</td>\n",
       "      <td>16.958303</td>\n",
       "      <td>12.175192</td>\n",
       "      <td>5.658117</td>\n",
       "      <td>6.778459e-14</td>\n",
       "      <td>0.460179</td>\n",
       "      <td>0.460179</td>\n",
       "      <td>2.289912</td>\n",
       "      <td>1.714986</td>\n",
       "      <td>0.0</td>\n",
       "    </tr>\n",
       "    <tr>\n",
       "      <th>min</th>\n",
       "      <td>311.528636</td>\n",
       "      <td>598.000000</td>\n",
       "      <td>690.000000</td>\n",
       "      <td>683.000000</td>\n",
       "      <td>593.000000</td>\n",
       "      <td>441.000000</td>\n",
       "      <td>2.238000e+01</td>\n",
       "      <td>26.000000</td>\n",
       "      <td>14.000000</td>\n",
       "      <td>1.000000</td>\n",
       "      <td>1.000000</td>\n",
       "      <td>1.0</td>\n",
       "    </tr>\n",
       "    <tr>\n",
       "      <th>25%</th>\n",
       "      <td>319.179491</td>\n",
       "      <td>620.000000</td>\n",
       "      <td>716.250000</td>\n",
       "      <td>712.250000</td>\n",
       "      <td>614.000000</td>\n",
       "      <td>448.500000</td>\n",
       "      <td>2.238000e+01</td>\n",
       "      <td>26.000000</td>\n",
       "      <td>14.000000</td>\n",
       "      <td>1.750000</td>\n",
       "      <td>2.000000</td>\n",
       "      <td>1.0</td>\n",
       "    </tr>\n",
       "    <tr>\n",
       "      <th>50%</th>\n",
       "      <td>323.723013</td>\n",
       "      <td>632.000000</td>\n",
       "      <td>735.000000</td>\n",
       "      <td>722.000000</td>\n",
       "      <td>621.000000</td>\n",
       "      <td>453.000000</td>\n",
       "      <td>2.238000e+01</td>\n",
       "      <td>26.000000</td>\n",
       "      <td>14.000000</td>\n",
       "      <td>2.000000</td>\n",
       "      <td>3.500000</td>\n",
       "      <td>1.0</td>\n",
       "    </tr>\n",
       "    <tr>\n",
       "      <th>75%</th>\n",
       "      <td>330.186364</td>\n",
       "      <td>636.000000</td>\n",
       "      <td>735.000000</td>\n",
       "      <td>722.000000</td>\n",
       "      <td>621.000000</td>\n",
       "      <td>454.000000</td>\n",
       "      <td>2.238000e+01</td>\n",
       "      <td>27.000000</td>\n",
       "      <td>15.000000</td>\n",
       "      <td>3.000000</td>\n",
       "      <td>5.000000</td>\n",
       "      <td>1.0</td>\n",
       "    </tr>\n",
       "    <tr>\n",
       "      <th>max</th>\n",
       "      <td>343.921670</td>\n",
       "      <td>636.000000</td>\n",
       "      <td>735.000000</td>\n",
       "      <td>722.000000</td>\n",
       "      <td>621.000000</td>\n",
       "      <td>456.000000</td>\n",
       "      <td>2.238000e+01</td>\n",
       "      <td>27.000000</td>\n",
       "      <td>15.000000</td>\n",
       "      <td>9.000000</td>\n",
       "      <td>6.000000</td>\n",
       "      <td>1.0</td>\n",
       "    </tr>\n",
       "  </tbody>\n",
       "</table>\n",
       "</div>"
      ],
      "text/plain": [
       "                R          T1          T2          T3          T4          T5  \\\n",
       "count  120.000000  120.000000  120.000000  120.000000  120.000000  120.000000   \n",
       "mean   325.188492  626.000000  722.250000  712.250000  614.000000  450.450000   \n",
       "std      7.706089   12.875617   19.018456   16.958303   12.175192    5.658117   \n",
       "min    311.528636  598.000000  690.000000  683.000000  593.000000  441.000000   \n",
       "25%    319.179491  620.000000  716.250000  712.250000  614.000000  448.500000   \n",
       "50%    323.723013  632.000000  735.000000  722.000000  621.000000  453.000000   \n",
       "75%    330.186364  636.000000  735.000000  722.000000  621.000000  454.000000   \n",
       "max    343.921670  636.000000  735.000000  722.000000  621.000000  456.000000   \n",
       "\n",
       "              speed       env_T     env_hum       piece    position     ok  \n",
       "count  1.200000e+02  120.000000  120.000000  120.000000  120.000000  120.0  \n",
       "mean   2.238000e+01   26.300000   14.300000    3.000000    3.500000    1.0  \n",
       "std    6.778459e-14    0.460179    0.460179    2.289912    1.714986    0.0  \n",
       "min    2.238000e+01   26.000000   14.000000    1.000000    1.000000    1.0  \n",
       "25%    2.238000e+01   26.000000   14.000000    1.750000    2.000000    1.0  \n",
       "50%    2.238000e+01   26.000000   14.000000    2.000000    3.500000    1.0  \n",
       "75%    2.238000e+01   27.000000   15.000000    3.000000    5.000000    1.0  \n",
       "max    2.238000e+01   27.000000   15.000000    9.000000    6.000000    1.0  "
      ]
     },
     "execution_count": 21,
     "metadata": {},
     "output_type": "execute_result"
    }
   ],
   "source": [
    "data_ok.describe()"
   ]
  },
  {
   "cell_type": "code",
   "execution_count": null,
   "metadata": {
    "collapsed": true
   },
   "outputs": [],
   "source": []
  },
  {
   "cell_type": "markdown",
   "metadata": {},
   "source": [
    "### 線性回歸器"
   ]
  },
  {
   "cell_type": "code",
   "execution_count": 16,
   "metadata": {
    "collapsed": true
   },
   "outputs": [],
   "source": [
    "X_train, X_test, y_train, y_test = train_test_split(data_ok[data_ok.columns[1:9]],\n",
    "                     data_ok[data_ok.columns[0]],test_size=0.0,random_state=123)"
   ]
  },
  {
   "cell_type": "code",
   "execution_count": 17,
   "metadata": {
    "collapsed": true
   },
   "outputs": [],
   "source": [
    "#ss = StandardScaler()\n",
    "#X_train = ss.fit_transform(X_train)\n",
    "#X_test = ss.fit_transform(X_test)"
   ]
  },
  {
   "cell_type": "code",
   "execution_count": 18,
   "metadata": {
    "collapsed": false
   },
   "outputs": [
    {
     "data": {
      "text/plain": [
       "LinearRegression(copy_X=True, fit_intercept=True, n_jobs=-1, normalize=False)"
      ]
     },
     "execution_count": 18,
     "metadata": {},
     "output_type": "execute_result"
    }
   ],
   "source": [
    "lr = LinearRegression(n_jobs=-1)\n",
    "lr.fit(X_train, y_train)\n",
    "#lr_predict = lr.predict(X_test)"
   ]
  },
  {
   "cell_type": "code",
   "execution_count": 19,
   "metadata": {
    "collapsed": false
   },
   "outputs": [],
   "source": [
    "lr_train = lr.predict(X_train)"
   ]
  },
  {
   "cell_type": "code",
   "execution_count": 20,
   "metadata": {
    "collapsed": false
   },
   "outputs": [
    {
     "data": {
      "text/plain": [
       "0.035542204639614328"
      ]
     },
     "execution_count": 20,
     "metadata": {},
     "output_type": "execute_result"
    }
   ],
   "source": [
    "r2_score(y_train, lr_train) "
   ]
  },
  {
   "cell_type": "markdown",
   "metadata": {},
   "source": [
    "### 驗證R2 score定義"
   ]
  },
  {
   "cell_type": "code",
   "execution_count": 21,
   "metadata": {
    "collapsed": false
   },
   "outputs": [
    {
     "data": {
      "text/plain": [
       "0.035542204639614994"
      ]
     },
     "execution_count": 21,
     "metadata": {},
     "output_type": "execute_result"
    }
   ],
   "source": [
    "mean = np.mean(data_ok['R'])\n",
    "AA = (y_train-lr_train)\n",
    "BB = (y_train-mean)\n",
    "1-np.mean(AA**2)/np.mean(BB**2)"
   ]
  },
  {
   "cell_type": "markdown",
   "metadata": {},
   "source": [
    "### Create a new dataframe:"
   ]
  },
  {
   "cell_type": "code",
   "execution_count": 22,
   "metadata": {
    "collapsed": true
   },
   "outputs": [],
   "source": [
    "#columns = ['R', 'T1', 'T2', 'T3', 'T4', 'T5', 'speed', 'env_T', 'env_hum', 'piece',\n",
    "#       'position', 'ok']\n",
    "#df_save = pd.DataFrame(np.array(np.zeros([120,12])), columns=columns)\n",
    "#df_save.index = list(range(120))"
   ]
  },
  {
   "cell_type": "code",
   "execution_count": 23,
   "metadata": {
    "collapsed": false
   },
   "outputs": [],
   "source": [
    "#CC = AA-BB\n",
    "#df_save = pd.concat([ AA,BB,CC], axis=1)\n",
    "#df_save.to_csv('df_save.csv')"
   ]
  },
  {
   "cell_type": "code",
   "execution_count": 98,
   "metadata": {
    "collapsed": false,
    "scrolled": true
   },
   "outputs": [],
   "source": [
    "#print(X_train[abs(AA)>15].sort_index())\n",
    "#CC[abs(CC)>100].sort_values()\n",
    "#print(len(X_train[abs(AA)>15]))"
   ]
  },
  {
   "cell_type": "code",
   "execution_count": null,
   "metadata": {
    "collapsed": true
   },
   "outputs": [],
   "source": []
  },
  {
   "cell_type": "code",
   "execution_count": null,
   "metadata": {
    "collapsed": true
   },
   "outputs": [],
   "source": []
  },
  {
   "cell_type": "markdown",
   "metadata": {},
   "source": [
    "### 線性回歸的權重"
   ]
  },
  {
   "cell_type": "code",
   "execution_count": 42,
   "metadata": {
    "collapsed": false
   },
   "outputs": [
    {
     "name": "stdout",
     "output_type": "stream",
     "text": [
      "[-0.00356847 -0.47913636  0.00328417  0.00235787  1.50548679  0.\n",
      "  1.11918378  1.62381896]\n",
      "-61.1099562863\n"
     ]
    }
   ],
   "source": [
    "print(lr.coef_)\n",
    "print(lr.intercept_)"
   ]
  },
  {
   "cell_type": "code",
   "execution_count": null,
   "metadata": {
    "collapsed": true
   },
   "outputs": [],
   "source": []
  },
  {
   "cell_type": "markdown",
   "metadata": {},
   "source": [
    "### 測試線性回歸器的參數預測方法"
   ]
  },
  {
   "cell_type": "code",
   "execution_count": 42,
   "metadata": {
    "collapsed": false
   },
   "outputs": [
    {
     "name": "stdout",
     "output_type": "stream",
     "text": [
      "(array([ 325.42390119]), array([ 329.19532792]))\n"
     ]
    }
   ],
   "source": [
    "X_present = [[632, 690, 683, 593, 441, 22.38, 26, 14]]\n",
    "R_present = lr.predict(X_present)\n",
    "X_test  = [[633, 691, 684, 594, 442, 22.38, 27, 15]]\n",
    "R_test  = lr.predict(X_test)\n",
    "print(R_present, R_test)"
   ]
  },
  {
   "cell_type": "code",
   "execution_count": 60,
   "metadata": {
    "collapsed": false
   },
   "outputs": [],
   "source": [
    "A_2 = sum(np.square(lr.coef_))\n",
    "delX = (lr.coef_/A_2)*( R_test - R_present)"
   ]
  },
  {
   "cell_type": "code",
   "execution_count": 48,
   "metadata": {
    "collapsed": false
   },
   "outputs": [
    {
     "name": "stdout",
     "output_type": "stream",
     "text": [
      "[[-1.00210764 -1.28299137 -0.99806028 -0.99860738 -0.11081729  0.\n",
      "  -0.33897868 -0.04092699]]\n",
      "[ -5.68434189e-14]\n"
     ]
    }
   ],
   "source": [
    "X_output= X_input + delX\n",
    "R_output= lr.predict(X_output)\n",
    "print(X_output - X_test)\n",
    "print(R_output - R_test)"
   ]
  },
  {
   "cell_type": "code",
   "execution_count": null,
   "metadata": {
    "collapsed": true
   },
   "outputs": [],
   "source": []
  },
  {
   "cell_type": "markdown",
   "metadata": {},
   "source": [
    "### 線性回歸器的參數預測"
   ]
  },
  {
   "cell_type": "code",
   "execution_count": 74,
   "metadata": {
    "collapsed": true
   },
   "outputs": [],
   "source": [
    "def parameter_pred_linear(regressor, X_present, R_target):\n",
    "    ''' The regressor should be pretrained. '''\n",
    "    R_present = regressor.predict([X_present])\n",
    "    A_2 = sum(np.square(regressor.coef_))\n",
    "    delX = (regressor.coef_/A_2)*( R_target - R_present)\n",
    "    X_output= X_input + delX\n",
    "#    R_output= regressor.predict(X_output)\n",
    "    return R_present, X_output"
   ]
  },
  {
   "cell_type": "code",
   "execution_count": 72,
   "metadata": {
    "collapsed": false
   },
   "outputs": [],
   "source": [
    "# An example:\n",
    "X_present = [632, 690, 683, 593, 441, 22.38, 26, 14]\n",
    "R_target = 329.2\n",
    "R_present, X_output = parameter_pred_linear(lr, X_present, R_target)"
   ]
  },
  {
   "cell_type": "code",
   "execution_count": null,
   "metadata": {
    "collapsed": true
   },
   "outputs": [],
   "source": []
  },
  {
   "cell_type": "markdown",
   "metadata": {},
   "source": [
    "### 任意回歸器的參數預測"
   ]
  },
  {
   "cell_type": "code",
   "execution_count": 82,
   "metadata": {
    "collapsed": true
   },
   "outputs": [],
   "source": [
    "## type(X) should be a list (a single vector)\n",
    "def gradient(regressor, X):\n",
    "    X_ = np.array(X)\n",
    "    dim_X = X_.shape[1]\n",
    "    u = np.zeros(dim_X)\n",
    "    grad = np.zeros(dim_X)\n",
    "    eps = 1e-5\n",
    "    f0 = regressor.predict(X_)\n",
    "    for i in range(dim_X):\n",
    "        u[i]=1\n",
    "        f1 = regressor.predict(X_+eps*u)\n",
    "        grad[i] = (f1-f0)/eps\n",
    "        u[i]=0\n",
    "#    for i in np.nonzero(constraint):\n",
    "#        u[i]=1\n",
    "#        f1 = regressor.predict(X_+eps*u)\n",
    "#        grad[i] = (f1-f0)/eps\n",
    "#        u[i]=0\n",
    "    return grad"
   ]
  },
  {
   "cell_type": "code",
   "execution_count": 91,
   "metadata": {
    "collapsed": true
   },
   "outputs": [],
   "source": [
    "def parameter_pred(regressor, X_present, f_target, constraint, steps=100):\n",
    "    ''' 1. The regressor should be pretrained. \n",
    "        2. constraint is a list defining which components of X_present are fixed:\n",
    "            [1, 1, 0, 1] corresponds to one fixed (3rd)component.\n",
    "    '''\n",
    "    f_present = regressor.predict(X_present)[0]\n",
    "    del_f = (f_target - f_present)/steps\n",
    "    X_ = np.array(X_present)\n",
    "    P_ = np.array(constraint)\n",
    "    f_ = f_present\n",
    "    for i in range(steps):\n",
    "        partial_grad = gradient(regressor, X_)*P_\n",
    "        X_ += partial_grad*del_f/sum(np.square(partial_grad))\n",
    "        f_ += del_f\n",
    "    return [ f_present, X_, f_,]"
   ]
  },
  {
   "cell_type": "code",
   "execution_count": 96,
   "metadata": {
    "collapsed": false
   },
   "outputs": [],
   "source": [
    "# An example:\n",
    "constraint = [1,1,1,1,1,1,0,0]\n",
    "R_present, X_output, R_output = parameter_pred(lr, X_input, 340.19532792, constraint)"
   ]
  },
  {
   "cell_type": "code",
   "execution_count": null,
   "metadata": {
    "collapsed": true
   },
   "outputs": [],
   "source": []
  },
  {
   "cell_type": "code",
   "execution_count": 97,
   "metadata": {
    "collapsed": false
   },
   "outputs": [
    {
     "name": "stdout",
     "output_type": "stream",
     "text": [
      "[[632, 690, 683, 593, 441, 22.38, 26, 14]]\n",
      "325.423901192\n",
      "[[ 631.97888243  687.16455564  683.01943514  593.01395343  449.90920486\n",
      "    22.38         26.           14.        ]]\n",
      "340.19532792\n"
     ]
    }
   ],
   "source": [
    "print(X_input)\n",
    "print(R_present)\n",
    "print(X_output)\n",
    "print(R_output)"
   ]
  },
  {
   "cell_type": "code",
   "execution_count": null,
   "metadata": {
    "collapsed": true
   },
   "outputs": [],
   "source": []
  },
  {
   "cell_type": "code",
   "execution_count": null,
   "metadata": {
    "collapsed": true
   },
   "outputs": [],
   "source": []
  },
  {
   "cell_type": "markdown",
   "metadata": {},
   "source": [
    "### 多項式回歸器"
   ]
  },
  {
   "cell_type": "code",
   "execution_count": 361,
   "metadata": {
    "collapsed": true
   },
   "outputs": [],
   "source": [
    "X_train, X_test, y_train, y_test = train_test_split(data_ok[data_ok.columns[1:9]],\n",
    "                     data_ok[data_ok.columns[0]],test_size=0.0,random_state=123)"
   ]
  },
  {
   "cell_type": "code",
   "execution_count": 362,
   "metadata": {
    "collapsed": false
   },
   "outputs": [
    {
     "data": {
      "text/plain": [
       "(120, 8)"
      ]
     },
     "execution_count": 362,
     "metadata": {},
     "output_type": "execute_result"
    }
   ],
   "source": [
    "(X_train).shape"
   ]
  },
  {
   "cell_type": "code",
   "execution_count": 367,
   "metadata": {
    "collapsed": false
   },
   "outputs": [],
   "source": [
    "from sklearn.preprocessing import PolynomialFeatures\n",
    "poly = PolynomialFeatures(degree=3)\n",
    "X_train_poly = poly.fit_transform(X_train)"
   ]
  },
  {
   "cell_type": "code",
   "execution_count": 368,
   "metadata": {
    "collapsed": false
   },
   "outputs": [
    {
     "data": {
      "text/plain": [
       "(120, 165)"
      ]
     },
     "execution_count": 368,
     "metadata": {},
     "output_type": "execute_result"
    }
   ],
   "source": [
    "X_train_poly.shape"
   ]
  },
  {
   "cell_type": "code",
   "execution_count": 369,
   "metadata": {
    "collapsed": false
   },
   "outputs": [],
   "source": [
    "from sklearn.pipeline import Pipeline\n",
    "model = Pipeline([('poly', PolynomialFeatures(degree=4)),\n",
    "                 ('linear', LinearRegression(fit_intercept=False))])\n",
    "# fit to an order-3 polynomial data\n",
    "model = model.fit(X_train, y_train)\n",
    "# model.named_steps['linear'].coef_\n",
    "poly_train = model.predict(X_train)"
   ]
  },
  {
   "cell_type": "code",
   "execution_count": 370,
   "metadata": {
    "collapsed": false
   },
   "outputs": [
    {
     "name": "stdout",
     "output_type": "stream",
     "text": [
      "0.0355422046396\n"
     ]
    }
   ],
   "source": [
    "print( r2_score(y_train, poly_train)  )"
   ]
  },
  {
   "cell_type": "code",
   "execution_count": null,
   "metadata": {
    "collapsed": true
   },
   "outputs": [],
   "source": []
  },
  {
   "cell_type": "code",
   "execution_count": 37,
   "metadata": {
    "collapsed": false
   },
   "outputs": [
    {
     "name": "stdout",
     "output_type": "stream",
     "text": [
      "('LR default measure:', 0.035542204639614328)\n"
     ]
    }
   ],
   "source": [
    "print('LR default measure:', lr.score(X_train, y_train))"
   ]
  },
  {
   "cell_type": "code",
   "execution_count": null,
   "metadata": {
    "collapsed": false
   },
   "outputs": [],
   "source": [
    "print('LR default measure:', lr.score(X_test, y_test))"
   ]
  },
  {
   "cell_type": "code",
   "execution_count": null,
   "metadata": {
    "collapsed": true
   },
   "outputs": [],
   "source": []
  },
  {
   "cell_type": "markdown",
   "metadata": {},
   "source": [
    "### 隨機森林回歸器"
   ]
  },
  {
   "cell_type": "code",
   "execution_count": 352,
   "metadata": {
    "collapsed": true
   },
   "outputs": [],
   "source": [
    "X_train, X_test, y_train, y_test = train_test_split(data_ok[data_ok.columns[1:9]],\n",
    "                     data_ok[data_ok.columns[0]],test_size=0.25,random_state=22)"
   ]
  },
  {
   "cell_type": "code",
   "execution_count": 353,
   "metadata": {
    "collapsed": true
   },
   "outputs": [],
   "source": [
    "rfr = RandomForestRegressor( bootstrap= False ,n_jobs = -1, n_estimators=100,\n",
    "                               max_features='sqrt')\n",
    "rfr.fit(X_train, y_train)\n",
    "rfr_predict = rfr.predict(X_test)"
   ]
  },
  {
   "cell_type": "code",
   "execution_count": 354,
   "metadata": {
    "collapsed": true
   },
   "outputs": [],
   "source": [
    "rfr_train = rfr.predict(X_train)"
   ]
  },
  {
   "cell_type": "code",
   "execution_count": 355,
   "metadata": {
    "collapsed": false
   },
   "outputs": [
    {
     "name": "stdout",
     "output_type": "stream",
     "text": [
      "-0.313620678162\n"
     ]
    }
   ],
   "source": [
    "print( r2_score(y_test, rfr_predict)  )"
   ]
  },
  {
   "cell_type": "code",
   "execution_count": 356,
   "metadata": {
    "collapsed": false
   },
   "outputs": [
    {
     "name": "stdout",
     "output_type": "stream",
     "text": [
      "0.0798935713542\n"
     ]
    }
   ],
   "source": [
    "print( r2_score(y_train, rfr_train)  )"
   ]
  },
  {
   "cell_type": "code",
   "execution_count": null,
   "metadata": {
    "collapsed": true
   },
   "outputs": [],
   "source": []
  },
  {
   "cell_type": "markdown",
   "metadata": {
    "collapsed": true
   },
   "source": [
    "### SVR 回歸任務"
   ]
  },
  {
   "cell_type": "code",
   "execution_count": 357,
   "metadata": {
    "collapsed": true
   },
   "outputs": [],
   "source": [
    "X_train, X_test, y_train, y_test = train_test_split(data_ok[data_ok.columns[1:9]],\n",
    "                     data_ok[data_ok.columns[0]],test_size=0.0,random_state=22)\n",
    "#ss = StandardScaler()\n",
    "#X_train = ss.fit_transform(X_train)\n",
    "#X_test = ss.fit_transform(X_test)"
   ]
  },
  {
   "cell_type": "code",
   "execution_count": 358,
   "metadata": {
    "collapsed": false
   },
   "outputs": [
    {
     "data": {
      "text/plain": [
       "SVR(C=2.0, cache_size=200, coef0=0.0, degree=3, epsilon=1.0, gamma=0.1,\n",
       "  kernel='rbf', max_iter=-1, shrinking=True, tol=0.001, verbose=False)"
      ]
     },
     "execution_count": 358,
     "metadata": {},
     "output_type": "execute_result"
    }
   ],
   "source": [
    "svr = SVR( kernel = 'rbf', C = 2.0, epsilon= 1.0,  gamma = 0.1)\n",
    "svr.fit(X_train, y_train)\n",
    "#SVR(C=2.0, cache_size=200, coef0=0.0, degree=3, epsilon=0.1, gamma=0.09,\n",
    "#  kernel='rbf', max_iter=-1, shrinking=True, tol=0.001, verbose=False)"
   ]
  },
  {
   "cell_type": "code",
   "execution_count": 360,
   "metadata": {
    "collapsed": false
   },
   "outputs": [
    {
     "data": {
      "text/plain": [
       "-0.027289218586723507"
      ]
     },
     "execution_count": 360,
     "metadata": {},
     "output_type": "execute_result"
    }
   ],
   "source": [
    "svr_train = svr.predict(X_train)\n",
    "r2_score(y_train, svr_train )"
   ]
  },
  {
   "cell_type": "code",
   "execution_count": null,
   "metadata": {
    "collapsed": false
   },
   "outputs": [],
   "source": [
    "svr_predict = svr.predict(X_test)\n",
    "r2_score(y_test, svr_predict )"
   ]
  },
  {
   "cell_type": "code",
   "execution_count": null,
   "metadata": {
    "collapsed": true
   },
   "outputs": [],
   "source": []
  },
  {
   "cell_type": "code",
   "execution_count": null,
   "metadata": {
    "collapsed": true
   },
   "outputs": [],
   "source": []
  },
  {
   "cell_type": "code",
   "execution_count": null,
   "metadata": {
    "collapsed": true
   },
   "outputs": [],
   "source": []
  },
  {
   "cell_type": "code",
   "execution_count": null,
   "metadata": {
    "collapsed": true
   },
   "outputs": [],
   "source": []
  },
  {
   "cell_type": "code",
   "execution_count": null,
   "metadata": {
    "collapsed": true
   },
   "outputs": [],
   "source": []
  },
  {
   "cell_type": "code",
   "execution_count": null,
   "metadata": {
    "collapsed": true
   },
   "outputs": [],
   "source": []
  },
  {
   "cell_type": "markdown",
   "metadata": {},
   "source": [
    "### 切分訓練/測試資料集："
   ]
  },
  {
   "cell_type": "code",
   "execution_count": 10,
   "metadata": {
    "collapsed": true
   },
   "outputs": [],
   "source": [
    "X_train, X_test, y_train, y_test = train_test_split(dataset[dataset.columns[0:8]],\n",
    "                     dataset[dataset.columns[9]],test_size=0.2,random_state=22)"
   ]
  },
  {
   "cell_type": "code",
   "execution_count": 11,
   "metadata": {
    "collapsed": false
   },
   "outputs": [
    {
     "name": "stdout",
     "output_type": "stream",
     "text": [
      "[(1980, 8), (660, 8), (1980L,), (660L,)]\n",
      "2    1076\n",
      "0     458\n",
      "1     446\n",
      "Name: category, dtype: int64\n",
      "2    364\n",
      "1    154\n",
      "0    142\n",
      "Name: category, dtype: int64\n"
     ]
    }
   ],
   "source": [
    "print([X_train.shape, X_test.shape, y_train.shape, y_test.shape] )\n",
    "print(y_train.value_counts())\n",
    "print(y_test.value_counts())"
   ]
  },
  {
   "cell_type": "markdown",
   "metadata": {
    "collapsed": true
   },
   "source": [
    "### 前處理："
   ]
  },
  {
   "cell_type": "code",
   "execution_count": 12,
   "metadata": {
    "collapsed": true
   },
   "outputs": [],
   "source": [
    "ss = StandardScaler()"
   ]
  },
  {
   "cell_type": "code",
   "execution_count": 13,
   "metadata": {
    "collapsed": true
   },
   "outputs": [],
   "source": [
    "X_train = ss.fit_transform(X_train)\n",
    "X_test = ss.fit_transform(X_test)"
   ]
  },
  {
   "cell_type": "markdown",
   "metadata": {},
   "source": [
    "### 1. 分類任務\n",
    "### 1.1  以logistic regression作基準："
   ]
  },
  {
   "cell_type": "code",
   "execution_count": 14,
   "metadata": {
    "collapsed": true
   },
   "outputs": [],
   "source": [
    "lr = LogisticRegression(n_jobs=-1)"
   ]
  },
  {
   "cell_type": "code",
   "execution_count": 15,
   "metadata": {
    "collapsed": false
   },
   "outputs": [
    {
     "data": {
      "text/plain": [
       "LogisticRegression(C=1.0, class_weight=None, dual=False, fit_intercept=True,\n",
       "          intercept_scaling=1, max_iter=100, multi_class='ovr', n_jobs=-1,\n",
       "          penalty='l2', random_state=None, solver='liblinear', tol=0.0001,\n",
       "          verbose=0, warm_start=False)"
      ]
     },
     "execution_count": 15,
     "metadata": {},
     "output_type": "execute_result"
    }
   ],
   "source": [
    "lr.fit(X_train, y_train)"
   ]
  },
  {
   "cell_type": "code",
   "execution_count": 16,
   "metadata": {
    "collapsed": true
   },
   "outputs": [],
   "source": [
    "lr_y_predict = lr.predict(X_test)"
   ]
  },
  {
   "cell_type": "code",
   "execution_count": 17,
   "metadata": {
    "collapsed": false
   },
   "outputs": [],
   "source": [
    "#lr_y_predict"
   ]
  },
  {
   "cell_type": "code",
   "execution_count": 18,
   "metadata": {
    "collapsed": false
   },
   "outputs": [
    {
     "name": "stdout",
     "output_type": "stream",
     "text": [
      "('LR accuracy:', 1.0)\n"
     ]
    }
   ],
   "source": [
    "print ('LR accuracy:', lr.score(X_test, y_test))"
   ]
  },
  {
   "cell_type": "markdown",
   "metadata": {},
   "source": [
    "### 1.2 測試SVM:"
   ]
  },
  {
   "cell_type": "code",
   "execution_count": 43,
   "metadata": {
    "collapsed": true
   },
   "outputs": [],
   "source": [
    "svc = SVC(C=1.0, kernel='rbf', degree=3, gamma='auto',\n",
    "          coef0=0.0, shrinking=True, probability=False,\n",
    "          tol=0.001, cache_size=200, class_weight=None,\n",
    "          verbose=False, max_iter=-1, decision_function_shape='ovr',\n",
    "          random_state=None)"
   ]
  },
  {
   "cell_type": "code",
   "execution_count": 44,
   "metadata": {
    "collapsed": true
   },
   "outputs": [],
   "source": [
    "X_train, X_test, y_train, y_test = train_test_split(dataset[dataset.columns[0:8]],\n",
    "                     dataset[dataset.columns[9]],test_size=0.25,random_state=22)\n",
    "ss_X = StandardScaler()\n",
    "#ss_y = StandardScaler()\n",
    "X_train = ss_X.fit_transform(X_train)\n",
    "X_test = ss_X.transform(X_test)"
   ]
  },
  {
   "cell_type": "code",
   "execution_count": 45,
   "metadata": {
    "collapsed": false
   },
   "outputs": [
    {
     "name": "stdout",
     "output_type": "stream",
     "text": [
      "1.0\n"
     ]
    }
   ],
   "source": [
    "svc.fit(X_train, y_train)\n",
    "svc_val_predict = svc.predict(X_test)\n",
    "#svc_val_predict\n",
    "print(accuracy_score(y_test, svc_val_predict))"
   ]
  },
  {
   "cell_type": "code",
   "execution_count": null,
   "metadata": {
    "collapsed": true
   },
   "outputs": [],
   "source": []
  },
  {
   "cell_type": "markdown",
   "metadata": {},
   "source": [
    "### 2. 聚類任務\n",
    "### 2.1 用K-means聚類"
   ]
  },
  {
   "cell_type": "code",
   "execution_count": 19,
   "metadata": {
    "collapsed": true
   },
   "outputs": [],
   "source": [
    "X_train, X_test, y_train, y_test = train_test_split(dataset[dataset.columns[0:8]],\n",
    "                     dataset[dataset.columns[9]],test_size=0.25,random_state=23)"
   ]
  },
  {
   "cell_type": "code",
   "execution_count": 20,
   "metadata": {
    "collapsed": true
   },
   "outputs": [],
   "source": [
    "from sklearn.cluster import KMeans"
   ]
  },
  {
   "cell_type": "code",
   "execution_count": 21,
   "metadata": {
    "collapsed": true
   },
   "outputs": [],
   "source": [
    "kmeans = KMeans(n_clusters = 5, n_jobs=-1)"
   ]
  },
  {
   "cell_type": "code",
   "execution_count": 22,
   "metadata": {
    "collapsed": false
   },
   "outputs": [
    {
     "data": {
      "text/plain": [
       "KMeans(copy_x=True, init='k-means++', max_iter=300, n_clusters=5, n_init=10,\n",
       "    n_jobs=-1, precompute_distances='auto', random_state=None, tol=0.0001,\n",
       "    verbose=0)"
      ]
     },
     "execution_count": 22,
     "metadata": {},
     "output_type": "execute_result"
    }
   ],
   "source": [
    "kmeans.fit(X_train)"
   ]
  },
  {
   "cell_type": "code",
   "execution_count": 23,
   "metadata": {
    "collapsed": true
   },
   "outputs": [],
   "source": [
    "y_pred = kmeans.predict(X_test)"
   ]
  },
  {
   "cell_type": "code",
   "execution_count": 24,
   "metadata": {
    "collapsed": false
   },
   "outputs": [
    {
     "data": {
      "text/plain": [
       "0    371\n",
       "3    146\n",
       "2    101\n",
       "4     37\n",
       "1      5\n",
       "Name: digit, dtype: int64"
      ]
     },
     "execution_count": 24,
     "metadata": {},
     "output_type": "execute_result"
    }
   ],
   "source": [
    "df_y_pred = pd.DataFrame(y_pred)\n",
    "df_y_pred.columns = ['digit']\n",
    "df_y_pred.digit.value_counts()"
   ]
  },
  {
   "cell_type": "markdown",
   "metadata": {},
   "source": [
    "### 用adjusted rand index(ARI)評估聚類結果："
   ]
  },
  {
   "cell_type": "code",
   "execution_count": 25,
   "metadata": {
    "collapsed": false
   },
   "outputs": [
    {
     "name": "stdout",
     "output_type": "stream",
     "text": [
      "0.946617722774\n"
     ]
    }
   ],
   "source": [
    "from sklearn import metrics\n",
    "print (metrics.adjusted_rand_score(y_test, y_pred)  )\n",
    "#用輪廓係數(silhouette coefficient, sc)來評估聚類效果：\n",
    "#須定義凝聚度(cohesion)=a 和 分離度(separation)=b\n",
    "#sc[i] = (b[i]-a[i])/max(b[i],a[i])\n",
    "# 0<sc<1: 聚類效果好\n",
    "#-1<sc<0: 聚類效果差"
   ]
  },
  {
   "cell_type": "markdown",
   "metadata": {},
   "source": [
    "### 用silhouette_score度量最適合聚類數目："
   ]
  },
  {
   "cell_type": "code",
   "execution_count": 26,
   "metadata": {
    "collapsed": true
   },
   "outputs": [],
   "source": [
    "from sklearn.metrics import silhouette_score"
   ]
  },
  {
   "cell_type": "code",
   "execution_count": 27,
   "metadata": {
    "collapsed": false
   },
   "outputs": [],
   "source": [
    "clusters = [2,3,4,5,8]\n",
    "sc_scores = []\n",
    "for t in clusters:\n",
    "    kmeans_model = KMeans(n_clusters = t).fit(X_test)\n",
    "    sc_score = silhouette_score(X_test, kmeans_model.labels_, metric='euclidean')\n",
    "    sc_scores.append(sc_score)\n",
    "plt.figure()\n",
    "plt.plot(clusters, sc_scores, '*-')\n",
    "plt.xlabel('Number of Clusters')\n",
    "plt.ylabel('Silhouette Coefficient Score')\n",
    "plt.show()\n",
    "#np.argmax(sc_scores)"
   ]
  },
  {
   "cell_type": "markdown",
   "metadata": {},
   "source": [
    "#### 對於不同物理量構成的資料，\"距離\"觀念其實是有問題的（相同溫度差，濕度差，和速率差的無法比較），所以K-means不適用。"
   ]
  },
  {
   "cell_type": "code",
   "execution_count": null,
   "metadata": {
    "collapsed": true
   },
   "outputs": [],
   "source": []
  },
  {
   "cell_type": "markdown",
   "metadata": {},
   "source": [
    "### 2.2 用t-SNE看聚類："
   ]
  },
  {
   "cell_type": "code",
   "execution_count": 29,
   "metadata": {
    "collapsed": true
   },
   "outputs": [],
   "source": [
    "X_train, X_test, y_train, y_test = train_test_split(dataset[dataset.columns[0:8]],\n",
    "                     dataset[dataset.columns[9]],test_size=0.25,random_state=22)\n",
    "ss_X = StandardScaler()\n",
    "#ss_y = StandardScaler()\n",
    "X_train = ss_X.fit_transform(X_train)\n",
    "X_test = ss_X.transform(X_test)"
   ]
  },
  {
   "cell_type": "code",
   "execution_count": 30,
   "metadata": {
    "collapsed": false
   },
   "outputs": [
    {
     "name": "stdout",
     "output_type": "stream",
     "text": [
      "[t-SNE] Computing pairwise distances...\n",
      "[t-SNE] Computing 151 nearest neighbors...\n",
      "[t-SNE] Computed conditional probabilities for sample 1000 / 1980\n",
      "[t-SNE] Computed conditional probabilities for sample 1980 / 1980\n",
      "[t-SNE] Mean sigma: 0.000000\n",
      "[t-SNE] Error after 100 iterations with early exaggeration: 0.585949\n",
      "[t-SNE] Error after 200 iterations: 0.588272\n",
      "t-SNE done! Time elapsed: 32.4020001888 seconds\n"
     ]
    }
   ],
   "source": [
    "from sklearn.manifold import TSNE\n",
    "time_start = time.time()\n",
    "tsne = TSNE(n_components=3, verbose=1, perplexity=50, n_iter=300)\n",
    "tsne_results = tsne.fit_transform(X_train)\n",
    "\n",
    "print 't-SNE done! Time elapsed: {} seconds'.format(time.time()-time_start)"
   ]
  },
  {
   "cell_type": "code",
   "execution_count": 31,
   "metadata": {
    "collapsed": true
   },
   "outputs": [],
   "source": [
    "colors = y_train\n",
    "c = plt.scatter(tsne_results[:,0], tsne_results[:,1], c=colors, cmap=plt.cm.RdYlGn)"
   ]
  },
  {
   "cell_type": "markdown",
   "metadata": {},
   "source": [
    "### 3D視覺化"
   ]
  },
  {
   "cell_type": "code",
   "execution_count": 35,
   "metadata": {
    "collapsed": false
   },
   "outputs": [],
   "source": [
    "from mpl_toolkits.mplot3d import Axes3D as ax\n",
    "import random\n",
    "\n",
    "fig = plt.figure()\n",
    "ax = fig.add_subplot(111, projection='3d')\n",
    "ax.scatter(tsne_results[:,0],tsne_results[:,1], tsne_results[:,2], s=30, c=y_train)\n",
    "ax.set_xlabel('X Label')\n",
    "ax.set_ylabel('Y Label')\n",
    "ax.set_zlabel('Z Label')\n",
    "plt.show()"
   ]
  },
  {
   "cell_type": "code",
   "execution_count": null,
   "metadata": {
    "collapsed": true
   },
   "outputs": [],
   "source": []
  },
  {
   "cell_type": "code",
   "execution_count": null,
   "metadata": {
    "collapsed": true
   },
   "outputs": [],
   "source": []
  },
  {
   "cell_type": "code",
   "execution_count": null,
   "metadata": {
    "collapsed": true
   },
   "outputs": [],
   "source": []
  },
  {
   "cell_type": "code",
   "execution_count": null,
   "metadata": {
    "collapsed": true
   },
   "outputs": [],
   "source": []
  },
  {
   "cell_type": "code",
   "execution_count": null,
   "metadata": {
    "collapsed": true
   },
   "outputs": [],
   "source": []
  },
  {
   "cell_type": "code",
   "execution_count": null,
   "metadata": {
    "collapsed": true
   },
   "outputs": [],
   "source": []
  }
 ],
 "metadata": {
  "anaconda-cloud": {},
  "kernelspec": {
   "display_name": "Python [Root]",
   "language": "python",
   "name": "Python [Root]"
  },
  "language_info": {
   "codemirror_mode": {
    "name": "ipython",
    "version": 2
   },
   "file_extension": ".py",
   "mimetype": "text/x-python",
   "name": "python",
   "nbconvert_exporter": "python",
   "pygments_lexer": "ipython2",
   "version": "2.7.12"
  }
 },
 "nbformat": 4,
 "nbformat_minor": 1
}
