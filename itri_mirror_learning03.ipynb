{
 "cells": [
  {
   "cell_type": "code",
   "execution_count": null,
   "metadata": {
    "collapsed": true
   },
   "outputs": [],
   "source": []
  },
  {
   "cell_type": "code",
   "execution_count": 1,
   "metadata": {
    "collapsed": false
   },
   "outputs": [
    {
     "name": "stdout",
     "output_type": "stream",
     "text": [
      "[632, 690, 683, 593, 441, 22.38, 26, 14]\n",
      "325.423901192\n",
      "[ 631.99460161  689.2751602   683.00496831  593.00356699  443.27750768\n",
      "   22.38         26.           14.        ]\n",
      "329.2\n"
     ]
    }
   ],
   "source": [
    "import pandas as pd\n",
    "import numpy as np\n",
    "import csv\n",
    "import datetime\n",
    "import time\n",
    "#from datetime import datetime, date\n",
    "\n",
    "#from sklearn.linear_model import LogisticRegression, SGDClassifier\n",
    "#from sklearn.svm import  SVC\n",
    "#from sklearn.metrics import accuracy_score, classification_report\n",
    "\n",
    "from sklearn.linear_model import LinearRegression, SGDRegressor\n",
    "#from sklearn.ensemble import RandomForestRegressor\n",
    "#from sklearn.svm import  SVR\n",
    "#from sklearn.metrics import r2_score, mean_squared_error, mean_absolute_error\n",
    "from sklearn.cross_validation import train_test_split, cross_val_score\n",
    "#from sklearn.preprocessing import StandardScaler\n",
    "\n",
    "    \n",
    "### INPUT \n",
    "X_present = [632, 690, 683, 593, 441, 22.38, 26, 14]\n",
    "R_target = 329.2\n",
    "### default constraint\n",
    "constraint = [1,1,1,1,1,1,0,0]  \n",
    "\n",
    "\n",
    "\n",
    "### prepare data\n",
    "dataset = pd.read_csv('1127.csv')\n",
    "data_ok = dataset[dataset['ok']==1]\n",
    "data_ok = data_ok[data_ok['speed']<30 ]\n",
    "X_train, X_test, y_train, y_test = train_test_split(data_ok[data_ok.columns[2:10]],\n",
    "                     data_ok[data_ok.columns[1]],test_size=0.0,random_state=123)\n",
    "\n",
    "## train a regressor \n",
    "lr = LinearRegression(n_jobs=-1)\n",
    "lr.fit(X_train, y_train)\n",
    "\n",
    "\n",
    "## type(X) should be a list (a single vector)\n",
    "def gradient(regressor, X_):\n",
    "#    X_ = np.array(X)\n",
    "    dim_X = X_.shape[1]\n",
    "    u = np.zeros(dim_X)\n",
    "    grad = np.zeros(dim_X)\n",
    "    eps = 1e-5\n",
    "    f0 = regressor.predict(X_)\n",
    "    for i in range(dim_X):\n",
    "        u[i]=1\n",
    "        f1 = regressor.predict(X_+eps*u)\n",
    "        grad[i] = (f1-f0)/eps\n",
    "        u[i]=0\n",
    "#    for i in np.nonzero(constraint):\n",
    "#        u[i]=1\n",
    "#        f1 = regressor.predict(X_+eps*u)\n",
    "#        grad[i] = (f1-f0)/eps\n",
    "#        u[i]=0\n",
    "    return grad\n",
    "    \n",
    "def parameter_pred(regressor, X_present, f_target, constraint, steps=100):\n",
    "    ''' 1. The regressor should be pretrained. \n",
    "        2. constraint is a list defining which components of X_present are fixed:\n",
    "            [1, 1, 0, 1] corresponds to one fixed (3rd)component.\n",
    "    '''\n",
    "    X_ = np.array(X_present).reshape(1, -1)\n",
    "    P_ = np.array(constraint).reshape(1, -1)\n",
    "    f_present = regressor.predict(X_)[0]\n",
    "    del_f = (f_target - f_present)/steps\n",
    "    f_ = f_present\n",
    "    for i in range(steps):\n",
    "        partial_grad = gradient(regressor, X_)*P_\n",
    "        X_ += partial_grad*del_f/np.sum(np.square(partial_grad))\n",
    "        f_ += del_f\n",
    "    return f_present, X_, f_\n",
    "\n",
    "    \n",
    "R_present, X_output, R_output = parameter_pred(lr, X_present, R_target, constraint)\n",
    "\n",
    "\n",
    "print(X_present)\n",
    "print(R_present)\n",
    "print(X_output[0])\n",
    "print(R_output)"
   ]
  },
  {
   "cell_type": "code",
   "execution_count": null,
   "metadata": {
    "collapsed": true
   },
   "outputs": [],
   "source": []
  }
 ],
 "metadata": {
  "anaconda-cloud": {},
  "kernelspec": {
   "display_name": "Python [default]",
   "language": "python",
   "name": "python3"
  },
  "language_info": {
   "codemirror_mode": {
    "name": "ipython",
    "version": 3
   },
   "file_extension": ".py",
   "mimetype": "text/x-python",
   "name": "python",
   "nbconvert_exporter": "python",
   "pygments_lexer": "ipython3",
   "version": "3.5.2"
  }
 },
 "nbformat": 4,
 "nbformat_minor": 1
}
